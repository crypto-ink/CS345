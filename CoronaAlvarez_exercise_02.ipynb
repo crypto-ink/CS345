{
 "cells": [
  {
   "cell_type": "markdown",
   "id": "bcfc7d28",
   "metadata": {
    "id": "bcfc7d28"
   },
   "source": [
    "# CS345 Excercise 2\n",
    "\n",
    "Univariate and Bivariate Linear Regression using a Example Problem Generator.\n",
    "In this excercise you will be creating multiple instances of univariate and Bivariate linear regression problems. \n",
    "Key to understanding this excercise is understand the meaning of multiple problem instances defined here. Let us assume we have the true linear relationship between an observable $y$ and independent variable $\\mathbf{x}$\n",
    "\n",
    "\n",
    "$$\n",
    "{y} = w_1x_1 + w_2x_2 + b = \\mathbf{w}^\\top \\mathbf{x} + b\n",
    "$$\n",
    "\n",
    "\n",
    "Now, using the abilitly to create random (Guassian) noise we will create multiple instances of problems where our sample data comes from the process\n",
    "\n",
    "$$\n",
    "\\hat{y} = {y} +  \\mathcal{N}(0,\\,\\sigma^{2})\n",
    "$$\n",
    "\n",
    "Where $ \\mathcal{N}(\\mu,\\,\\sigma^{2}) $ is a random draw from a Gaussian random variable with mean $0$ and standard deviation $\\sigma$.\n",
    "\n",
    "Then, we multiple instances of problems where the exact noise added changes, the goal here is to see a sampling of regression solutions. \n",
    "\n",
    "Last Update 11/09/2021"
   ]
  },
  {
   "cell_type": "code",
   "execution_count": 11,
   "id": "693c4d51",
   "metadata": {
    "id": "693c4d51"
   },
   "outputs": [],
   "source": [
    "import math\n",
    "import numpy as np\n",
    "import matplotlib.pyplot as plt\n",
    "from numpy.random import default_rng\n",
    "from sklearn.linear_model import LinearRegression\n",
    "from sklearn.metrics import mean_squared_error\n",
    "from sklearn.metrics import r2_score\n",
    "%matplotlib inline"
   ]
  },
  {
   "cell_type": "markdown",
   "id": "f60b9e21",
   "metadata": {
    "id": "f60b9e21"
   },
   "source": [
    "##  Regression Problem Generator\n",
    "\n",
    "The goal of this excercise is to create multiple regression problems, where the the underlying function will be changed based on the changing of coeficient vector $\\mathbf{w}$, intercept $b$ and feature vector $\\mathbf{x}$.\n",
    "\n",
    "\n",
    "To make your work easier and also keep us all on the same page (so to speak) here are key global variables that will drive your code below. \n",
    "\n",
    "- `samples_n` The number of sample points in each problem.\n",
    "- `x_seed_val` The random seeds to initialize default ring before created $\\mathbf{x}$ samples for problems.\n",
    "- `mw` The coeficient for the true linear function $y = \\mathbf{mw}^\\top \\mathbf{x} + mb$\n",
    "- `mb` The intercept for the true linear function $y = \\mathbf{mw}^\\top \\mathbf{x} + mb$\n",
    "- `sigma` The standard deviation of the noise added to each sample, i.e. $y = \\mathbf{mw}^\\top \\mathbf{x} + mb +  \\mathcal{N}(0,\\,\\sigma^{2})$\n",
    "- `x_min` The lower bound where the function $y$ will be sampled, will be fixed at $x_{min} = 0$\n",
    "- `x_max` The upper bound where the function $y$ will be sampled, will be fixed at $x_{max} = 50$\n",
    "- `noise_seed`The random seeds to initialize default ring before creating extra random (Guassian) noise.\n",
    "- `seed_num` The number of instances for each regression problems\n",
    "- `seed_min` The lowest integer in the range of seed values to initialize noise for each problem."
   ]
  },
  {
   "cell_type": "markdown",
   "id": "026f0297",
   "metadata": {
    "id": "026f0297"
   },
   "source": [
    "**Enter Code**\n",
    "\n",
    "Generate `samples_n` independent variable $x$ instances on the interval $0$ to $50$. These must be sampled from a uniform random variable coming from the default ring using the seed `x_seed_val`. \n",
    "\n",
    "To be more specific, write a new function `gen_x_vals` that takes the number of samples and the random seed as arguments and returns the $x$ values.\n",
    "\n",
    "One more thing, please read up on [np.round](https://numpy.org/doc/stable/reference/generated/numpy.ndarray.round.html#numpy.ndarray.round) and avoid needless precision. Specifically, round your $x$ value to $1$ decimal places. To be clear, were we generating hundreds of samples this degree of rounding would be a bad idea, but when working an excercise, it is actually helpful in so much as the numbers are much easier to radiply scan.  If you want to think about further about this issue, consider how many different values total between $0$ and $50$ we can have using this degree of rounding."
   ]
  },
  {
   "cell_type": "code",
   "execution_count": 12,
   "id": "a4e2dd82",
   "metadata": {
    "id": "a4e2dd82"
   },
   "outputs": [],
   "source": [
    "# Enter Code \n",
    "\n",
    "def gen_x_vals(n, seed) :\n",
    "  rng = np.random.default_rng(seed = seed)\n",
    "  arr = rng.random((n,)) * 50\n",
    "  return np.round(arr, decimals = 1)\n"
   ]
  },
  {
   "cell_type": "markdown",
   "id": "8875f53a",
   "metadata": {
    "id": "8875f53a"
   },
   "source": [
    "## Part1\n",
    "\n",
    "In part1, you are going to play with 1-D regression problem from scratch with modest noise. "
   ]
  },
  {
   "cell_type": "code",
   "execution_count": 13,
   "id": "51524a2a",
   "metadata": {
    "id": "51524a2a"
   },
   "outputs": [],
   "source": [
    "#Global key variables\n",
    "samples_n1  = 64\n",
    "x_seed_val1 = 6\n",
    "mw1    =  3\n",
    "mb1    = -5\n",
    "sigma1 = 10.0\n",
    "x_min = 0\n",
    "x_max = 50\n",
    "shuffle_seed1 = 9"
   ]
  },
  {
   "cell_type": "markdown",
   "id": "dd25a9e9",
   "metadata": {
    "id": "dd25a9e9"
   },
   "source": [
    "**Run code** \n",
    "\n",
    "Run the code in cell below, you are going to generate independent variable $x$ on the interval $0$ to $50$ with number of samples_n. "
   ]
  },
  {
   "cell_type": "code",
   "execution_count": 14,
   "id": "c67ec1bc",
   "metadata": {
    "colab": {
     "base_uri": "https://localhost:8080/"
    },
    "id": "c67ec1bc",
    "outputId": "c010a8a9-c7ec-4331-b066-5db9ae5824e1"
   },
   "outputs": [
    {
     "name": "stdout",
     "output_type": "stream",
     "text": [
      "x values: [26.9 17.2 18.5 18.7 49.4 31.6 33.7 16.5 34.   6.1]\n"
     ]
    }
   ],
   "source": [
    "#Run Code#\n",
    "\n",
    "x_val1 = gen_x_vals(samples_n1, x_seed_val1)\n",
    "x_val1 = np.array(x_val1)\n",
    "print(f'x values: {x_val1[:10]}')"
   ]
  },
  {
   "cell_type": "markdown",
   "id": "5706fd46",
   "metadata": {
    "id": "5706fd46"
   },
   "source": [
    "**Enter Code**\n",
    "\n",
    "Define a new function `generate_single_1D_regression_problem` that will generate single instance of regression problem based on the underlying functions:\n",
    "\n",
    "$$\n",
    "{y} =  {y} = w_1x_1 + b\n",
    "$$\n",
    "\n",
    "$$\n",
    "\\hat{y} = {y} +  \\mathcal{N}(0,\\,\\sigma^{2})\n",
    "$$\n",
    "\n",
    "Your function must return two different things:\n",
    "- The true $y$ values of the function without noise\n",
    "- The list of noise $y$\n",
    "  \n",
    "Keep in mind the key to this problem generator is adding Gaussian (normal) noise to the true $y$ values. \n",
    "You may want to review \n",
    "[standard_normal](https://numpy.org/doc/stable/reference/random/generated/numpy.random.standard_normal.html) \n",
    "and play with it until you are comfortable with what it is doing."
   ]
  },
  {
   "cell_type": "code",
   "execution_count": 15,
   "id": "f778422a",
   "metadata": {
    "id": "f778422a"
   },
   "outputs": [],
   "source": [
    "# Enter Code \n",
    "\n",
    "def generate_single_1D_regression_problem(x_val, samples_n, mw, mb, sigma, shuffle_seed) :\n",
    "  rng = np.random.default_rng(seed = shuffle_seed)\n",
    "  y_list = [ x * mw + mb for x in x_val]  \n",
    "  noise = sigma * rng.standard_normal(size = (samples_n,))\n",
    "  y_Noise = y_list + noise  \n",
    "  return y_list, y_Noise "
   ]
  },
  {
   "cell_type": "code",
   "execution_count": 16,
   "id": "ce9c9176",
   "metadata": {
    "id": "ce9c9176"
   },
   "outputs": [],
   "source": [
    "# run Code\n",
    "\n",
    "y1, ylst1 = generate_single_1D_regression_problem(x_val1, samples_n1, mw1, mb1, sigma1, shuffle_seed1)"
   ]
  },
  {
   "cell_type": "markdown",
   "id": "201fd7b7",
   "metadata": {
    "id": "201fd7b7"
   },
   "source": [
    "**Enter Code**\n",
    "\n",
    "Now define a function `run_regression_1D_on_single_example` that takes two required arguments\n",
    "\n",
    "- `x` The $x$ values of the data samples\n",
    "- `y_lst` The list of noise $y$ values \n",
    "\n",
    "This function returns five things\n",
    "\n",
    "- `model_w` Coefficent $w$ fit by the regresion for single 1-D problem\n",
    "- `model_b` Intercept $b$ fit by the regresion for single 1-D problem\n",
    "- `y_pred_lst` The predicted $y$ values from regression\n",
    "- `mse` Mean square error from the regression predictions for single 1-D problem \n",
    "- `r2` The coefficient of determination regression score, you may to take a look at [$R^2$](https://scikit-learn.org/stable/modules/generated/sklearn.metrics.r2_score.html) to play with it\n",
    "\n",
    "Please only keep $3$ digits of precision with the $w$, $b$, `mse`, and `r2` values.\n",
    "\n"
   ]
  },
  {
   "cell_type": "code",
   "execution_count": 17,
   "id": "7209c48d",
   "metadata": {
    "id": "7209c48d"
   },
   "outputs": [],
   "source": [
    "# Enter Code \n",
    "def run_regression_1D_on_single_example(x, ylst) :\n",
    "  linreg = LinearRegression()\n",
    "  linreg.fit(x.reshape(-1,1),ylst)\n",
    "  w = linreg.coef_\n",
    "  b = linreg.intercept_\n",
    "  pred = linreg.predict(x.reshape(-1,1))\n",
    "  mse = mean_squared_error(pred, ylst, squared= False)\n",
    "  r2 = r2_score(ylst, pred)\n",
    "\n",
    "  return np.round(w, decimals = 3), np.round(b, decimals = 3), np.round(pred, decimals = 3), np.round(mse, decimals = 3), np.round(r2, decimals = 3)\n",
    "\n",
    "  \n"
   ]
  },
  {
   "cell_type": "markdown",
   "id": "8bbc0468",
   "metadata": {
    "id": "8bbc0468"
   },
   "source": [
    "**Run Code**\n",
    "\n",
    "In the next cell, run your function `run_regression_1D_on_single_example`."
   ]
  },
  {
   "cell_type": "code",
   "execution_count": 18,
   "id": "2c636e5b",
   "metadata": {
    "colab": {
     "base_uri": "https://localhost:8080/"
    },
    "id": "2c636e5b",
    "outputId": "786bbf98-0059-4bd4-89af-fa227bd588a0"
   },
   "outputs": [
    {
     "name": "stdout",
     "output_type": "stream",
     "text": [
      "coefficients values: mw is [3.111], mb is -8.43\n",
      "mse value is 10.034, r2 value is 0.956\n"
     ]
    }
   ],
   "source": [
    "#Run Code \n",
    "mods_w1, mods_b1, yp1, mse1, r21 = run_regression_1D_on_single_example(x_val1, ylst1)\n",
    "print(f'coefficients values: mw is {mods_w1}, mb is {mods_b1}')\n",
    "print(f'mse value is {mse1}, r2 value is {r21}')"
   ]
  },
  {
   "cell_type": "markdown",
   "id": "bf51bc7d",
   "metadata": {
    "id": "bf51bc7d"
   },
   "source": [
    "**Enter Code**\n",
    "\n",
    "In preparation for doing a test plot, it is handy to have a function which will generate $100$ evenly sampled pairs of $x$ and $y$ values for given coefficents. \n",
    "\n",
    "Here write this function `gen_100`. The run code cell below will show you exactly what argmuments are expected to be provided to `gen_100`.\n",
    "\n",
    "Please avoid needless precision in this generation of $x$ and $y$ values by rounding all values to $3$ decimal places."
   ]
  },
  {
   "cell_type": "code",
   "execution_count": 19,
   "id": "b1877d3c",
   "metadata": {
    "id": "b1877d3c"
   },
   "outputs": [],
   "source": [
    "# Enter Code \n",
    "\n",
    "def gen_100(x_min, x_max, mw, mb) :\n",
    "  x_hun = np.arange(x_min, x_max+0.001, x_max/99)\n",
    "  y_hun = x_hun*mw  + mb\n",
    "  return np.round(x_hun, decimals= 3), np.round(y_hun, decimals = 3)\n"
   ]
  },
  {
   "cell_type": "markdown",
   "id": "0ac0f364",
   "metadata": {
    "id": "0ac0f364"
   },
   "source": [
    "**Run Code**\n",
    "\n",
    "The code below shows you the arguments to give your function `gen_100`. "
   ]
  },
  {
   "cell_type": "code",
   "execution_count": 20,
   "id": "45bd47bd",
   "metadata": {
    "colab": {
     "base_uri": "https://localhost:8080/"
    },
    "id": "45bd47bd",
    "outputId": "151cd8b8-09ae-40a1-958c-3a82f9d990c1"
   },
   "outputs": [
    {
     "name": "stdout",
     "output_type": "stream",
     "text": [
      "X values [0.    0.505 1.01 ] ... [48.99  49.495 50.   ]\n",
      "Y values [-8.43  -6.859 -5.288] ... [143.978 145.549 147.12 ]\n"
     ]
    }
   ],
   "source": [
    "# Run Code \n",
    "\n",
    "x_100, y_100 = gen_100(x_min, x_max, mods_w1, mods_b1)\n",
    "print(f'X values {x_100[:3]} ... {x_100[-3:]}')\n",
    "print(f'Y values {y_100[:3]} ... {y_100[-3:]}')"
   ]
  },
  {
   "cell_type": "markdown",
   "id": "fe639650",
   "metadata": {
    "id": "fe639650"
   },
   "source": [
    "**Run Code**\n",
    "\n",
    "The code below provides you with the functionality to plot the first problem's data along with the predicted function. Use this to test what you have constructed so far."
   ]
  },
  {
   "cell_type": "code",
   "execution_count": 21,
   "id": "aaed5a01",
   "metadata": {
    "colab": {
     "base_uri": "https://localhost:8080/",
     "height": 336
    },
    "id": "aaed5a01",
    "outputId": "6346f535-a487-4da2-9451-1b2154351f34"
   },
   "outputs": [
    {
     "data": {
      "image/png": "[encoded data removed]",
      "text/plain": [
       "<Figure size 576x360 with 1 Axes>"
      ]
     },
     "metadata": {
      "needs_background": "light"
     },
     "output_type": "display_data"
    }
   ],
   "source": [
    "# Run Code\n",
    "\n",
    "def plot_first_problem(x, y_noise, yp, x_100, y_100, mse, r2) :\n",
    "  title = 'RMSE: {:4.3f} R2: {:4.3f}'.format( mse, r2)\n",
    "  plt.figure(figsize=(8,5))\n",
    "  plt.scatter(x, y_noise, c = 'darkgreen')\n",
    "  plt.scatter(x, yp, c= 'darkred')\n",
    "  plt.plot(x_100, y_100, c = 'darkblue')\n",
    "\n",
    "  plt.title(title)\n",
    "\n",
    "\n",
    "plot_first_problem(x_val1, ylst1, yp1, x_100, y_100, mse1, r21)"
   ]
  },
  {
   "cell_type": "markdown",
   "id": "e2145a13",
   "metadata": {
    "id": "e2145a13"
   },
   "source": [
    "## Part 2\n"
   ]
  },
  {
   "cell_type": "markdown",
   "id": "ad3f531b",
   "metadata": {
    "id": "ad3f531b"
   },
   "source": [
    "Now we are going to expand our single linear regression problem to multiple distinct instances of a linear regression problems where the underlying function as well as the $x$ samples remain fixed.  To say this another way, all that is changing is the Guassian noise being added to each sample.  \n"
   ]
  },
  {
   "cell_type": "code",
   "execution_count": 22,
   "id": "9b0befd2",
   "metadata": {
    "id": "9b0befd2"
   },
   "outputs": [],
   "source": [
    "# Key Global Vairiables\n",
    "samples_n2  = 32\n",
    "x_seed_val2 = 6\n",
    "mw2    =  3\n",
    "mb2    = -5\n",
    "sigma2 = 10.0\n",
    "x_min = 0\n",
    "x_max = 50\n",
    "shuffle_seed2  = 9\n",
    "seed_min2 = 10\n",
    "seed_num2 = 32"
   ]
  },
  {
   "cell_type": "markdown",
   "id": "f9dae8a1",
   "metadata": {
    "id": "f9dae8a1"
   },
   "source": [
    "**Enter Code**\n",
    " \n",
    "Write a function ```gen_seeds``` which takes three arguments.  The first is the number of seeds to generate. The second is the smallest integer seed in the list array being returned. Finally, the third argument is the seed for the shuffling operation, which will be set to `shuffle_seed` when this function is used.\n",
    "\n",
    "To be a bit more precise about the nature of the sequence of integers (seeds), you will want to create a sequence of integers containing exactly `seed_num` elements . Moroever, the sequence should start with the integer `seed_min`. \n",
    "\n",
    "Then,  randomize the seeds by shuffling this original sequence. You will find reading up on [shuffle](https://numpy.org/doc/stable/reference/random/generated/numpy.random.Generator.shuffle.html) helpful.\n",
    " \n",
    "And to be clear, like with the other randomization features we have been using, please create a new instance of the default ring using the seed value `shuffle_seed` before shuffling. "
   ]
  },
  {
   "cell_type": "code",
   "execution_count": 23,
   "id": "28bd8eff",
   "metadata": {
    "id": "28bd8eff"
   },
   "outputs": [],
   "source": [
    "# Enter Code \n",
    "\n",
    "def gen_seeds(n, min_i, seed) :\n",
    "  rng = np.random.default_rng(seed = seed)\n",
    "  arr = np.arange(n) + min_i\n",
    "  rng.shuffle(arr)\n",
    "  return arr\n"
   ]
  },
  {
   "cell_type": "markdown",
   "id": "bc46d006",
   "metadata": {
    "id": "bc46d006"
   },
   "source": [
    "**Run Code**\n",
    "\n",
    "Run the code below and you should get the same result as shown"
   ]
  },
  {
   "cell_type": "code",
   "execution_count": 24,
   "id": "0e5a729e",
   "metadata": {
    "colab": {
     "base_uri": "https://localhost:8080/"
    },
    "id": "0e5a729e",
    "outputId": "4536c1f9-3407-4988-8f08-0728a4d9fe62"
   },
   "outputs": [
    {
     "name": "stdout",
     "output_type": "stream",
     "text": [
      "Seeds are: [25 12 19 29 23 35 31 24 16 27 36 13 32 17 37 28 26 38 30 33 20 18 39 22\n",
      " 15 41 34 21 14 10 40 11]\n"
     ]
    }
   ],
   "source": [
    "# Run Code\n",
    "\n",
    "seed_list = gen_seeds(seed_num2, seed_min2, shuffle_seed2)\n",
    "print(f'Seeds are: {seed_list}')"
   ]
  },
  {
   "cell_type": "markdown",
   "id": "5eb321a4",
   "metadata": {
    "id": "5eb321a4"
   },
   "source": [
    "**Run Code** \n",
    "\n",
    "Run the code in cell below, you are going to generate samples_n independent variable $x$ instances on the interval $0$ to $50$. "
   ]
  },
  {
   "cell_type": "code",
   "execution_count": 25,
   "id": "f1233871",
   "metadata": {
    "colab": {
     "base_uri": "https://localhost:8080/"
    },
    "id": "f1233871",
    "outputId": "89a98f5e-3bfd-4555-ffe8-8081904f170b"
   },
   "outputs": [
    {
     "name": "stdout",
     "output_type": "stream",
     "text": [
      "x values: [26.9 17.2 18.5 18.7 49.4 31.6 33.7 16.5 34.   6.1]\n"
     ]
    }
   ],
   "source": [
    "## Run Code\n",
    "\n",
    "x_val2 = gen_x_vals(samples_n2, x_seed_val2)\n",
    "x_val2 = np.array(x_val2)\n",
    "print(f'x values: {x_val2[:10]}')"
   ]
  },
  {
   "cell_type": "markdown",
   "id": "f695df12",
   "metadata": {
    "id": "f695df12"
   },
   "source": [
    "**Enter Code**\n",
    "\n",
    "Define a new function `generate_multiple_1D_regression_problems` that will generate multipe instances of regression problems for the same underlying function $y = mw * x + mb +  \\mathcal{N}(0,\\,\\sigma^{2})$ . \n",
    "\n",
    "Your function must return two different things:\n",
    "- The true $y$ values of the function without noise\n",
    "- The list of noise $y$ samples for each problem instance"
   ]
  },
  {
   "cell_type": "code",
   "execution_count": 26,
   "id": "209faebc",
   "metadata": {
    "id": "209faebc"
   },
   "outputs": [],
   "source": [
    "# Enter Code\n",
    "\n",
    "def generate_multiple_1D_regression_problems(x_val, samples_n,shuffle_seed, seed_num, seed_min, mw, mb, sigma) :\n",
    "  sample_seeds = gen_seeds(seed_num, seed_min, shuffle_seed)\n",
    "  y_list = [ x * mw + mb for x in x_val]  \n",
    "  y_Noise = np.zeros((32,32))\n",
    "  for i in range (len(sample_seeds)):\n",
    "    rng = np.random.default_rng(seed = sample_seeds[i])\n",
    "    noise = sigma * rng.standard_normal(size = (samples_n,))\n",
    "    y_Noise[i] = y_list + noise \n",
    "  return y_list, y_Noise\n"
   ]
  },
  {
   "cell_type": "markdown",
   "id": "44e332fb",
   "metadata": {
    "id": "44e332fb"
   },
   "source": [
    "**Run Code**\n",
    "\n",
    "Run the code below to generate your sample_n distinct instances of your 1-D linear regression problems."
   ]
  },
  {
   "cell_type": "code",
   "execution_count": 27,
   "id": "06bc1b95",
   "metadata": {
    "id": "06bc1b95"
   },
   "outputs": [],
   "source": [
    "# Run Code\n",
    "\n",
    "y2, ylst2 = generate_multiple_1D_regression_problems(x_val2, samples_n2, shuffle_seed2, seed_num2, seed_min2, mw2, mb2, sigma2)\n"
   ]
  },
  {
   "cell_type": "markdown",
   "id": "4c2dd882",
   "metadata": {
    "id": "4c2dd882"
   },
   "source": [
    "**Enter Code**\n",
    "\n",
    "Now define a function `run_multiple_1D_regression_problems` that takes two required arguments\n",
    "\n",
    "- `x` The $x$ values of the data samples\n",
    "- `y_lst` The list of $y$ values for each of the problems generated above.\n",
    "\n",
    "This function returns five things\n",
    "\n",
    "- `model_ws` A list of the coefficents $w$ fit by the regresion for each instance\n",
    "- `model_bs` A list of the intercepts $b$ fit by the regresion for each instance\n",
    "- `y_pred_lst` A list of arrays, each array contains the predicted $y$ values from regression\n",
    "- `mse` A list of mean square errors for the regression predictions for each instance\n",
    "- `r2` A list of coefficient of determination regression scores for each instance\n",
    "\n",
    "Please only keep $3$ digits of precision with the $w$, $b$ and `mse` values."
   ]
  },
  {
   "cell_type": "code",
   "execution_count": 28,
   "id": "c8893277",
   "metadata": {
    "id": "c8893277"
   },
   "outputs": [],
   "source": [
    "# Enter Code \n",
    "\n",
    "def run_multiple_1D_regression_problems(x, ylst) :\n",
    "  model_ws = np.zeros((len(x),))\n",
    "  model_bs = np.zeros((len(x),))\n",
    "  mse = np.zeros((len(x),))\n",
    "  r2 = np.zeros((len(x),))\n",
    "  y_pred_lst = np.zeros((len(ylst),len(ylst)))\n",
    "\n",
    "  for i in range(len(ylst)):\n",
    "    mods_w2, mods_b2, yp2, mse2, r22 = run_regression_1D_on_single_example(x, ylst[i])\n",
    "    model_ws[i] = mods_w2\n",
    "    model_bs[i] = mods_b2\n",
    "    mse[i] = mse2\n",
    "    r2[i] = r22\n",
    "    y_pred_lst[i] = yp2\n",
    "\n",
    "  return np.round(model_ws, decimals = 3), np.round(model_bs, decimals = 3), np.round(y_pred_lst, decimals = 3), np.round(mse, decimals = 3), np.round(r2, decimals = 3)\n"
   ]
  },
  {
   "cell_type": "markdown",
   "id": "4337540a",
   "metadata": {
    "id": "4337540a"
   },
   "source": [
    "**Run Code**\n",
    "\n",
    "In the next cell, run your function `run_multiple_1D_regression_problems`."
   ]
  },
  {
   "cell_type": "code",
   "execution_count": 29,
   "id": "17ad4354",
   "metadata": {
    "id": "17ad4354"
   },
   "outputs": [],
   "source": [
    "# Run Code\n",
    "\n",
    "mods_w2, mods_b2, y_fitlst2, mse2, r22 = run_multiple_1D_regression_problems(x_val2,  ylst2)"
   ]
  },
  {
   "cell_type": "markdown",
   "id": "9c3c6101",
   "metadata": {
    "id": "9c3c6101"
   },
   "source": [
    "**Run Code**\n",
    "\n",
    "Run cell below to print out the mean and standard deviation of the coefficient estimates along with with true values"
   ]
  },
  {
   "cell_type": "code",
   "execution_count": 30,
   "id": "16e07e02",
   "metadata": {
    "colab": {
     "base_uri": "https://localhost:8080/"
    },
    "id": "16e07e02",
    "outputId": "a1b4e23d-477b-4e74-f9bc-8ae641972c44"
   },
   "outputs": [
    {
     "name": "stdout",
     "output_type": "stream",
     "text": [
      "Ture coefficient w is 3, and b is -5\n",
      "\n",
      "Mean of coefficient w is 3.028, Mean of coefficient b is -5.814\n",
      "\n",
      "Standard deviation of coefficients w is 0.112, standard deviation of coefficients b is 2.939\n"
     ]
    }
   ],
   "source": [
    "# Run Code \n",
    "\n",
    "print(f'Ture coefficient w is {mw2}, and b is {mb2}\\n')\n",
    "\n",
    "print(f'Mean of coefficient w is {np.round(np.mean(mods_w2),3)}, Mean of coefficient b is {np.round(np.mean(mods_b2), 3)}\\n')\n",
    "\n",
    "print(f'Standard deviation of coefficients w is {np.round(np.std(mods_w2), 3)}, standard deviation of coefficients b is {np.round(np.std(mods_b2), 3)}')"
   ]
  },
  {
   "cell_type": "markdown",
   "id": "1c2eaa6d",
   "metadata": {
    "id": "1c2eaa6d"
   },
   "source": [
    "**Enter code**\n",
    "\n",
    "Now create your own function which enalbles you to histogram your histogram the recovered coefficients."
   ]
  },
  {
   "cell_type": "code",
   "execution_count": 31,
   "id": "240ef986",
   "metadata": {
    "id": "240ef986"
   },
   "outputs": [],
   "source": [
    "# Enter code\n",
    "\n",
    "def hist_coeficient(vals, nbins, fname, bincolor) :\n",
    "  plt.figure(figsize=(6,4))\n",
    "  plt.hist(vals,\n",
    "           bins = nbins,\n",
    "           color = bincolor,\n",
    "           density = True,\n",
    "           edgecolor ='black')\n",
    "  plt.xlabel(fname)\n",
    "  plt.ylabel('Feature Density')\n"
   ]
  },
  {
   "cell_type": "markdown",
   "id": "631d5763",
   "metadata": {
    "id": "631d5763"
   },
   "source": [
    "**Run Code**\n",
    "\n",
    "Run the following two cells to draw the histogram of your recovered lists of $mw$ and $mb$."
   ]
  },
  {
   "cell_type": "code",
   "execution_count": 32,
   "id": "fb475507",
   "metadata": {
    "colab": {
     "base_uri": "https://localhost:8080/",
     "height": 279
    },
    "id": "fb475507",
    "outputId": "e0794831-b768-4687-9835-c685e8180dd0"
   },
   "outputs": [
    {
     "data": {
      "image/png": "[encoded data removed]",
      "text/plain": [
       "<Figure size 432x288 with 1 Axes>"
      ]
     },
     "metadata": {
      "needs_background": "light"
     },
     "output_type": "display_data"
    }
   ],
   "source": [
    "# Run code \n",
    "hist_coeficient(mods_w2, 10, 'coefficient w', 'green')"
   ]
  },
  {
   "cell_type": "code",
   "execution_count": 33,
   "id": "da286146",
   "metadata": {
    "colab": {
     "base_uri": "https://localhost:8080/",
     "height": 279
    },
    "id": "da286146",
    "outputId": "8bfeb73b-be41-4fed-89b9-83d5456b5d2c"
   },
   "outputs": [
    {
     "data": {
      "image/png": "[encoded data removed]",
      "text/plain": [
       "<Figure size 432x288 with 1 Axes>"
      ]
     },
     "metadata": {
      "needs_background": "light"
     },
     "output_type": "display_data"
    }
   ],
   "source": [
    "# Run code \n",
    "hist_coeficient(mods_b2, 10, 'coefficient b', 'red')"
   ]
  },
  {
   "cell_type": "markdown",
   "id": "1eb832bf",
   "metadata": {
    "id": "1eb832bf"
   },
   "source": [
    "**Enter code**\n",
    "\n",
    "Now turn up the noise by increasing the sigma to 100 and then repeat the previous steps. Then genete the new list of regression problems and related recovered $wm$ and $wb$."
   ]
  },
  {
   "cell_type": "code",
   "execution_count": 34,
   "id": "a656192e",
   "metadata": {
    "id": "a656192e"
   },
   "outputs": [],
   "source": [
    "# Enter code\n",
    "\n",
    "y2, ylst2 = generate_multiple_1D_regression_problems(x_val2, samples_n2, shuffle_seed2, seed_num2, seed_min2, mw2, mb2, 100)\n",
    "mods_wl, mods_bl, y_fitlst2, mse2, r22 = run_multiple_1D_regression_problems(x_val2,  ylst2)\n"
   ]
  },
  {
   "cell_type": "markdown",
   "id": "3fd34781",
   "metadata": {
    "id": "3fd34781"
   },
   "source": [
    "**Run Code**\n",
    "\n",
    "Run cell below to print out the mean and standard deviation of the coefficient estimates along with with true values when the extra noise is larger then before."
   ]
  },
  {
   "cell_type": "code",
   "execution_count": 35,
   "id": "b1427e3d",
   "metadata": {
    "colab": {
     "base_uri": "https://localhost:8080/"
    },
    "id": "b1427e3d",
    "outputId": "ec86f490-9af3-4685-8cef-e16fc3656259"
   },
   "outputs": [
    {
     "name": "stdout",
     "output_type": "stream",
     "text": [
      "Ture coefficient w is 3, and b is -5\n",
      "\n",
      "Mean of coefficient w is 3.275, Mean of coefficient b is -13.141\n",
      "\n",
      "Standard deviation of coefficients w is 1.123, standard deviation of coefficients b is 29.392\n"
     ]
    }
   ],
   "source": [
    "# Run code \n",
    "print(f'Ture coefficient w is {mw2}, and b is {mb2}\\n')\n",
    "\n",
    "print(f'Mean of coefficient w is {np.round(np.mean(mods_wl),3)}, Mean of coefficient b is {np.round(np.mean(mods_bl), 3)}\\n')\n",
    "\n",
    "print(f'Standard deviation of coefficients w is {np.round(np.std(mods_wl), 3)}, standard deviation of coefficients b is {np.round(np.std(mods_bl), 3)}')"
   ]
  },
  {
   "cell_type": "markdown",
   "id": "ed64fe5b",
   "metadata": {
    "id": "ed64fe5b"
   },
   "source": [
    "**Run code**\n",
    "\n",
    "Run the following two cells to draw the histogram of your recovered lists of $mw$ and $mb$."
   ]
  },
  {
   "cell_type": "code",
   "execution_count": 36,
   "id": "b26ae51e",
   "metadata": {
    "colab": {
     "base_uri": "https://localhost:8080/",
     "height": 279
    },
    "id": "b26ae51e",
    "outputId": "ec6a87a6-52a0-447b-bc0e-ee45e37c9607"
   },
   "outputs": [
    {
     "data": {
      "image/png": "[encoded data removed]",
      "text/plain": [
       "<Figure size 432x288 with 1 Axes>"
      ]
     },
     "metadata": {
      "needs_background": "light"
     },
     "output_type": "display_data"
    }
   ],
   "source": [
    "# Run code \n",
    "\n",
    "hist_coeficient(mods_wl, 10, 'coefficients w', 'green')"
   ]
  },
  {
   "cell_type": "code",
   "execution_count": 37,
   "id": "a8dd7ede",
   "metadata": {
    "colab": {
     "base_uri": "https://localhost:8080/",
     "height": 279
    },
    "id": "a8dd7ede",
    "outputId": "70b77918-f4a9-45a0-c5c3-237abb5d185d"
   },
   "outputs": [
    {
     "data": {
      "image/png": "[encoded data removed]",
      "text/plain": [
       "<Figure size 432x288 with 1 Axes>"
      ]
     },
     "metadata": {
      "needs_background": "light"
     },
     "output_type": "display_data"
    }
   ],
   "source": [
    "# Run code \n",
    "\n",
    "hist_coeficient(mods_bl, 10, 'coefficients b', 'red')"
   ]
  },
  {
   "cell_type": "markdown",
   "id": "959741f8",
   "metadata": {
    "id": "959741f8"
   },
   "source": [
    "**Enter code**\n",
    "\n",
    "Now turn down the noise by decreas the sigma to 1 and then repeat the previous steps. Then genete the new list of regression problems and related recovered $wm$ and $wb$.\n"
   ]
  },
  {
   "cell_type": "code",
   "execution_count": 38,
   "id": "54a637de",
   "metadata": {
    "id": "54a637de"
   },
   "outputs": [],
   "source": [
    "# Enter code\n",
    "\n",
    "y3, ylst3 = generate_multiple_1D_regression_problems(x_val2, samples_n2, shuffle_seed2, seed_num2, seed_min2, mw2, mb2, 1)\n",
    "mods_ws, mods_bs, y_fitlst2, mse2, r22 = run_multiple_1D_regression_problems(x_val2,  ylst3)"
   ]
  },
  {
   "cell_type": "markdown",
   "id": "bf4ddcb7",
   "metadata": {
    "id": "bf4ddcb7"
   },
   "source": [
    "**Run Code**\n",
    "\n",
    "Run cell below to print out the mean and standard deviation of the coefficient estimates along with with true values when the extra noise is larger then before."
   ]
  },
  {
   "cell_type": "code",
   "execution_count": 39,
   "id": "8e6ba510",
   "metadata": {
    "colab": {
     "base_uri": "https://localhost:8080/"
    },
    "id": "8e6ba510",
    "outputId": "bcbb5807-b321-4c37-d1a6-4ef8f017298d"
   },
   "outputs": [
    {
     "name": "stdout",
     "output_type": "stream",
     "text": [
      "Ture coefficient w is 3, and b is -5\n",
      "\n",
      "Mean of coefficient w is 3.003, Mean of coefficient b is -5.081\n",
      "\n",
      "Standard deviation of coefficients w is 0.011, standard deviation of coefficients b is 0.294\n"
     ]
    }
   ],
   "source": [
    "# Run Code \n",
    "print(f'Ture coefficient w is {mw2}, and b is {mb2}\\n')\n",
    "\n",
    "print(f'Mean of coefficient w is {np.round(np.mean(mods_ws),3)}, Mean of coefficient b is {np.round(np.mean(mods_bs), 3)}\\n')\n",
    "\n",
    "print(f'Standard deviation of coefficients w is {np.round(np.std(mods_ws), 3)}, standard deviation of coefficients b is {np.round(np.std(mods_bs), 3)}')"
   ]
  },
  {
   "cell_type": "markdown",
   "id": "76842c7c",
   "metadata": {
    "id": "76842c7c"
   },
   "source": [
    "**Run Code**\n",
    "\n",
    "Run the following two cells to draw the histogram of your recovered lists of $mw$ and $mb$."
   ]
  },
  {
   "cell_type": "code",
   "execution_count": 40,
   "id": "b9c46094",
   "metadata": {
    "colab": {
     "base_uri": "https://localhost:8080/",
     "height": 279
    },
    "id": "b9c46094",
    "outputId": "4339c2a2-550e-4dd0-994a-4086d03ab5e5"
   },
   "outputs": [
    {
     "data": {
      "image/png": "[encoded data removed]",
      "text/plain": [
       "<Figure size 432x288 with 1 Axes>"
      ]
     },
     "metadata": {
      "needs_background": "light"
     },
     "output_type": "display_data"
    }
   ],
   "source": [
    "# Run Code \n",
    "\n",
    "hist_coeficient(mods_ws, 10, 'coefficients w', 'green')"
   ]
  },
  {
   "cell_type": "code",
   "execution_count": 41,
   "id": "6b22b4f7",
   "metadata": {
    "colab": {
     "base_uri": "https://localhost:8080/",
     "height": 279
    },
    "id": "6b22b4f7",
    "outputId": "88d1b32f-b2e4-4736-dcde-dc9f5ee6478e"
   },
   "outputs": [
    {
     "data": {
      "image/png": "[encoded data removed]",
      "text/plain": [
       "<Figure size 432x288 with 1 Axes>"
      ]
     },
     "metadata": {
      "needs_background": "light"
     },
     "output_type": "display_data"
    }
   ],
   "source": [
    "# Run Code \n",
    "\n",
    "hist_coeficient(mods_bs, 10, 'coefficients b', 'red')"
   ]
  },
  {
   "cell_type": "markdown",
   "id": "c55d35a8",
   "metadata": {
    "id": "c55d35a8"
   },
   "source": [
    "## Part 3\n",
    "\n",
    "Now it's time to play with Bivariate Linear Regression Problem. Same as before, you need cearte your sample instaces at first."
   ]
  },
  {
   "cell_type": "code",
   "execution_count": 42,
   "id": "08268408",
   "metadata": {
    "id": "08268408"
   },
   "outputs": [],
   "source": [
    "# key global variables\n",
    "samples_n3  = 128\n",
    "x_seed_val3 = [6, 15]\n",
    "mw3    =  [3, 7]\n",
    "mb3    = -3\n",
    "sigma3 = 10.0\n",
    "x_min = 0\n",
    "x_max = 50\n",
    "shaffle_seed3 = 9"
   ]
  },
  {
   "cell_type": "markdown",
   "id": "1ec29afd",
   "metadata": {
    "id": "1ec29afd"
   },
   "source": [
    "**Run Code** \n",
    "\n",
    "Run the code in cell below, you are going to generate the independent variables $x_1$ and $x_2$ on the interval $0$ to $50$, each contaisn sample_n points\n"
   ]
  },
  {
   "cell_type": "code",
   "execution_count": 43,
   "id": "c7fb199e",
   "metadata": {
    "colab": {
     "base_uri": "https://localhost:8080/"
    },
    "id": "c7fb199e",
    "outputId": "aba27881-cf1c-40c9-947d-ba1d2a4b495e"
   },
   "outputs": [
    {
     "name": "stdout",
     "output_type": "stream",
     "text": [
      "x values: [26.9 34.6]\n"
     ]
    }
   ],
   "source": [
    "#Run Code\n",
    "\n",
    "x_val3 = []\n",
    "for s in x_seed_val3:\n",
    "    current = gen_x_vals(samples_n3, s)\n",
    "    x_val3.append(current)\n",
    "x_val3 = np.array(x_val3).T\n",
    "print(f'x values: {x_val3[0]}')"
   ]
  },
  {
   "cell_type": "markdown",
   "id": "42bd92a3",
   "metadata": {
    "id": "42bd92a3"
   },
   "source": [
    "**Enter Code**\n",
    "\n",
    "Define a new function `generate_single_2D_regression_problem` that will generate single instance of regression problem based on the underlying functions:\n",
    "\n",
    "$$\n",
    "{y} =  {y} = w_1x_1 + w_2x_2 + b\n",
    "$$\n",
    "\n",
    "$$\n",
    "\\hat{y} = {y} +  \\mathcal{N}(0,\\,\\sigma^{2})\n",
    "$$\n",
    "\n",
    "Your function must return two different things:\n",
    "- The true $y$ values of the function without noise\n",
    "- The list of noise $y$\n",
    "  "
   ]
  },
  {
   "cell_type": "code",
   "execution_count": 44,
   "id": "b1bbf4fe",
   "metadata": {
    "id": "b1bbf4fe"
   },
   "outputs": [],
   "source": [
    "# Enter Code\n",
    "\n",
    "def generate_single_2D_regression_problem(x_val, samples_n, shaffle_seed, mw, mb, sigma) :\n",
    "  rng = np.random.default_rng(seed = shaffle_seed)\n",
    "  y_list = [x[0]*mw[0] + x[1]*mw[1] + mb for x in x_val]\n",
    "  noise = sigma * rng.standard_normal(size = (samples_n,))\n",
    "  y_Noise = y_list + noise\n",
    "  return y_list, y_Noise\n"
   ]
  },
  {
   "cell_type": "markdown",
   "id": "9bfeff40",
   "metadata": {
    "id": "9bfeff40"
   },
   "source": [
    "**Run Code**\n",
    "\n",
    "Run code below to generate the sample points of your single 2D linear regression problem."
   ]
  },
  {
   "cell_type": "code",
   "execution_count": 45,
   "id": "cd271633",
   "metadata": {
    "id": "cd271633"
   },
   "outputs": [],
   "source": [
    "#Run Code\n",
    "y3, ylst3 = generate_single_2D_regression_problem(x_val3, samples_n3, shaffle_seed3, mw3, mb3, sigma3)"
   ]
  },
  {
   "cell_type": "markdown",
   "id": "10296f88",
   "metadata": {
    "id": "10296f88"
   },
   "source": [
    "**Enter Code**\n",
    "\n",
    "Now define a function `run_regression_2D_on_single_example` that will return five things\n",
    "\n",
    "- `model_ws` Coefficent $w$ fit by the regresion for single 2-D problem\n",
    "- `model_bs` Intercept $b$ fit by the regresion for single 2-D problem\n",
    "- `y_pred_lst` The predicted $y$ values from regression\n",
    "- `mse` Mean square error from the regression predictions for single 2-D problem \n",
    "- `r2` The coefficient of determination regression score.\n",
    "\n",
    "Please only keep $3$ digits of precision with the $w$, $b$ and `mse` values."
   ]
  },
  {
   "cell_type": "code",
   "execution_count": 46,
   "id": "652fcbc8",
   "metadata": {
    "id": "652fcbc8"
   },
   "outputs": [],
   "source": [
    "# Enter Code\n",
    "\n",
    "def run_regression_2D_on_single_example(x, ylst) :\n",
    "  linreg = LinearRegression()\n",
    "  linreg.fit(x,ylst)\n",
    "  w = linreg.coef_\n",
    "  b = linreg.intercept_\n",
    "  pred = linreg.predict(x)\n",
    "  mse = mean_squared_error(pred, ylst, squared= False)\n",
    "  r2 = r2_score(ylst, pred)\n",
    "  # print(pred)\n",
    "\n",
    "  return np.round(w, decimals = 3), np.round(b, decimals = 3), np.round(pred, decimals = 3), np.round(mse, decimals = 3), np.round(r2, decimals = 3)\n",
    "\n",
    "  "
   ]
  },
  {
   "cell_type": "markdown",
   "id": "37cb2b40",
   "metadata": {
    "id": "37cb2b40"
   },
   "source": [
    "**Run Code**\n",
    "\n",
    "In the next cell, run your function `run_regression_2D_on_single_example`."
   ]
  },
  {
   "cell_type": "code",
   "execution_count": 47,
   "id": "70b44138",
   "metadata": {
    "colab": {
     "base_uri": "https://localhost:8080/"
    },
    "id": "70b44138",
    "outputId": "e662d5c9-777b-495f-cd5b-d253b7fcd88a"
   },
   "outputs": [
    {
     "name": "stdout",
     "output_type": "stream",
     "text": [
      "Ture coefficient w is [3, 7], and b is -3\n",
      "\n",
      "coefficients values: mw is [3.022 7.047], mb is -4.678\n",
      "mse value is 10.392, r2 value is 0.991\n"
     ]
    }
   ],
   "source": [
    "# Run Code\n",
    "\n",
    "mods_w3, mods_b3, yp3, mse3, r23 = run_regression_2D_on_single_example(x_val3, ylst3)\n",
    "print(f'Ture coefficient w is {mw3}, and b is {mb3}\\n')\n",
    "print(f'coefficients values: mw is {mods_w3}, mb is {mods_b3}')\n",
    "print(f'mse value is {mse3}, r2 value is {r23}')"
   ]
  },
  {
   "cell_type": "markdown",
   "id": "7a58986b",
   "metadata": {
    "id": "7a58986b"
   },
   "source": [
    "**Run Code**\n",
    "\n",
    "The code below provides you with the functionality to plot the 2-D's data along with the true function. Use this to test what you have constructed so far."
   ]
  },
  {
   "cell_type": "code",
   "execution_count": 48,
   "id": "0c5ae241",
   "metadata": {
    "colab": {
     "base_uri": "https://localhost:8080/",
     "height": 17
    },
    "id": "0c5ae241",
    "outputId": "00c1c0a5-a3d6-4718-a006-2d5f1ccf858e"
   },
   "outputs": [
    {
     "data": {
      "application/javascript": [
       "/* Put everything inside the global mpl namespace */\n",
       "/* global mpl */\n",
       "window.mpl = {};\n",
       "\n",
       "mpl.get_websocket_type = function () {\n",
       "    if (typeof WebSocket !== 'undefined') {\n",
       "        return WebSocket;\n",
       "    } else if (typeof MozWebSocket !== 'undefined') {\n",
       "        return MozWebSocket;\n",
       "    } else {\n",
       "        alert(\n",
       "            'Your browser does not have WebSocket support. ' +\n",
       "                'Please try Chrome, Safari or Firefox ≥ 6. ' +\n",
       "                'Firefox 4 and 5 are also supported but you ' +\n",
       "                'have to enable WebSockets in about:config.'\n",
       "        );\n",
       "    }\n",
       "};\n",
       "\n",
       "mpl.figure = function (figure_id, websocket, ondownload, parent_element) {\n",
       "    this.id = figure_id;\n",
       "\n",
       "    this.ws = websocket;\n",
       "\n",
       "    this.supports_binary = this.ws.binaryType !== undefined;\n",
       "\n",
       "    if (!this.supports_binary) {\n",
       "        var warnings = document.getElementById('mpl-warnings');\n",
       "        if (warnings) {\n",
       "            warnings.style.display = 'block';\n",
       "            warnings.textContent =\n",
       "                'This browser does not support binary websocket messages. ' +\n",
       "                'Performance may be slow.';\n",
       "        }\n",
       "    }\n",
       "\n",
       "    this.imageObj = new Image();\n",
       "\n",
       "    this.context = undefined;\n",
       "    this.message = undefined;\n",
       "    this.canvas = undefined;\n",
       "    this.rubberband_canvas = undefined;\n",
       "    this.rubberband_context = undefined;\n",
       "    this.format_dropdown = undefined;\n",
       "\n",
       "    this.image_mode = 'full';\n",
       "\n",
       "    this.root = document.createElement('div');\n",
       "    this.root.setAttribute('style', 'display: inline-block');\n",
       "    this._root_extra_style(this.root);\n",
       "\n",
       "    parent_element.appendChild(this.root);\n",
       "\n",
       "    this._init_header(this);\n",
       "    this._init_canvas(this);\n",
       "    this._init_toolbar(this);\n",
       "\n",
       "    var fig = this;\n",
       "\n",
       "    this.waiting = false;\n",
       "\n",
       "    this.ws.onopen = function () {\n",
       "        fig.send_message('supports_binary', { value: fig.supports_binary });\n",
       "        fig.send_message('send_image_mode', {});\n",
       "        if (fig.ratio !== 1) {\n",
       "            fig.send_message('set_device_pixel_ratio', {\n",
       "                device_pixel_ratio: fig.ratio,\n",
       "            });\n",
       "        }\n",
       "        fig.send_message('refresh', {});\n",
       "    };\n",
       "\n",
       "    this.imageObj.onload = function () {\n",
       "        if (fig.image_mode === 'full') {\n",
       "            // Full images could contain transparency (where diff images\n",
       "            // almost always do), so we need to clear the canvas so that\n",
       "            // there is no ghosting.\n",
       "            fig.context.clearRect(0, 0, fig.canvas.width, fig.canvas.height);\n",
       "        }\n",
       "        fig.context.drawImage(fig.imageObj, 0, 0);\n",
       "    };\n",
       "\n",
       "    this.imageObj.onunload = function () {\n",
       "        fig.ws.close();\n",
       "    };\n",
       "\n",
       "    this.ws.onmessage = this._make_on_message_function(this);\n",
       "\n",
       "    this.ondownload = ondownload;\n",
       "};\n",
       "\n",
       "mpl.figure.prototype._init_header = function () {\n",
       "    var titlebar = document.createElement('div');\n",
       "    titlebar.classList =\n",
       "        'ui-dialog-titlebar ui-widget-header ui-corner-all ui-helper-clearfix';\n",
       "    var titletext = document.createElement('div');\n",
       "    titletext.classList = 'ui-dialog-title';\n",
       "    titletext.setAttribute(\n",
       "        'style',\n",
       "        'width: 100%; text-align: center; padding: 3px;'\n",
       "    );\n",
       "    titlebar.appendChild(titletext);\n",
       "    this.root.appendChild(titlebar);\n",
       "    this.header = titletext;\n",
       "};\n",
       "\n",
       "mpl.figure.prototype._canvas_extra_style = function (_canvas_div) {};\n",
       "\n",
       "mpl.figure.prototype._root_extra_style = function (_canvas_div) {};\n",
       "\n",
       "mpl.figure.prototype._init_canvas = function () {\n",
       "    var fig = this;\n",
       "\n",
       "    var canvas_div = (this.canvas_div = document.createElement('div'));\n",
       "    canvas_div.setAttribute(\n",
       "        'style',\n",
       "        'border: 1px solid #ddd;' +\n",
       "            'box-sizing: content-box;' +\n",
       "            'clear: both;' +\n",
       "            'min-height: 1px;' +\n",
       "            'min-width: 1px;' +\n",
       "            'outline: 0;' +\n",
       "            'overflow: hidden;' +\n",
       "            'position: relative;' +\n",
       "            'resize: both;'\n",
       "    );\n",
       "\n",
       "    function on_keyboard_event_closure(name) {\n",
       "        return function (event) {\n",
       "            return fig.key_event(event, name);\n",
       "        };\n",
       "    }\n",
       "\n",
       "    canvas_div.addEventListener(\n",
       "        'keydown',\n",
       "        on_keyboard_event_closure('key_press')\n",
       "    );\n",
       "    canvas_div.addEventListener(\n",
       "        'keyup',\n",
       "        on_keyboard_event_closure('key_release')\n",
       "    );\n",
       "\n",
       "    this._canvas_extra_style(canvas_div);\n",
       "    this.root.appendChild(canvas_div);\n",
       "\n",
       "    var canvas = (this.canvas = document.createElement('canvas'));\n",
       "    canvas.classList.add('mpl-canvas');\n",
       "    canvas.setAttribute('style', 'box-sizing: content-box;');\n",
       "\n",
       "    this.context = canvas.getContext('2d');\n",
       "\n",
       "    var backingStore =\n",
       "        this.context.backingStorePixelRatio ||\n",
       "        this.context.webkitBackingStorePixelRatio ||\n",
       "        this.context.mozBackingStorePixelRatio ||\n",
       "        this.context.msBackingStorePixelRatio ||\n",
       "        this.context.oBackingStorePixelRatio ||\n",
       "        this.context.backingStorePixelRatio ||\n",
       "        1;\n",
       "\n",
       "    this.ratio = (window.devicePixelRatio || 1) / backingStore;\n",
       "\n",
       "    var rubberband_canvas = (this.rubberband_canvas = document.createElement(\n",
       "        'canvas'\n",
       "    ));\n",
       "    rubberband_canvas.setAttribute(\n",
       "        'style',\n",
       "        'box-sizing: content-box; position: absolute; left: 0; top: 0; z-index: 1;'\n",
       "    );\n",
       "\n",
       "    // Apply a ponyfill if ResizeObserver is not implemented by browser.\n",
       "    if (this.ResizeObserver === undefined) {\n",
       "        if (window.ResizeObserver !== undefined) {\n",
       "            this.ResizeObserver = window.ResizeObserver;\n",
       "        } else {\n",
       "            var obs = _JSXTOOLS_RESIZE_OBSERVER({});\n",
       "            this.ResizeObserver = obs.ResizeObserver;\n",
       "        }\n",
       "    }\n",
       "\n",
       "    this.resizeObserverInstance = new this.ResizeObserver(function (entries) {\n",
       "        var nentries = entries.length;\n",
       "        for (var i = 0; i < nentries; i++) {\n",
       "            var entry = entries[i];\n",
       "            var width, height;\n",
       "            if (entry.contentBoxSize) {\n",
       "                if (entry.contentBoxSize instanceof Array) {\n",
       "                    // Chrome 84 implements new version of spec.\n",
       "                    width = entry.contentBoxSize[0].inlineSize;\n",
       "                    height = entry.contentBoxSize[0].blockSize;\n",
       "                } else {\n",
       "                    // Firefox implements old version of spec.\n",
       "                    width = entry.contentBoxSize.inlineSize;\n",
       "                    height = entry.contentBoxSize.blockSize;\n",
       "                }\n",
       "            } else {\n",
       "                // Chrome <84 implements even older version of spec.\n",
       "                width = entry.contentRect.width;\n",
       "                height = entry.contentRect.height;\n",
       "            }\n",
       "\n",
       "            // Keep the size of the canvas and rubber band canvas in sync with\n",
       "            // the canvas container.\n",
       "            if (entry.devicePixelContentBoxSize) {\n",
       "                // Chrome 84 implements new version of spec.\n",
       "                canvas.setAttribute(\n",
       "                    'width',\n",
       "                    entry.devicePixelContentBoxSize[0].inlineSize\n",
       "                );\n",
       "                canvas.setAttribute(\n",
       "                    'height',\n",
       "                    entry.devicePixelContentBoxSize[0].blockSize\n",
       "                );\n",
       "            } else {\n",
       "                canvas.setAttribute('width', width * fig.ratio);\n",
       "                canvas.setAttribute('height', height * fig.ratio);\n",
       "            }\n",
       "            canvas.setAttribute(\n",
       "                'style',\n",
       "                'width: ' + width + 'px; height: ' + height + 'px;'\n",
       "            );\n",
       "\n",
       "            rubberband_canvas.setAttribute('width', width);\n",
       "            rubberband_canvas.setAttribute('height', height);\n",
       "\n",
       "            // And update the size in Python. We ignore the initial 0/0 size\n",
       "            // that occurs as the element is placed into the DOM, which should\n",
       "            // otherwise not happen due to the minimum size styling.\n",
       "            if (fig.ws.readyState == 1 && width != 0 && height != 0) {\n",
       "                fig.request_resize(width, height);\n",
       "            }\n",
       "        }\n",
       "    });\n",
       "    this.resizeObserverInstance.observe(canvas_div);\n",
       "\n",
       "    function on_mouse_event_closure(name) {\n",
       "        return function (event) {\n",
       "            return fig.mouse_event(event, name);\n",
       "        };\n",
       "    }\n",
       "\n",
       "    rubberband_canvas.addEventListener(\n",
       "        'mousedown',\n",
       "        on_mouse_event_closure('button_press')\n",
       "    );\n",
       "    rubberband_canvas.addEventListener(\n",
       "        'mouseup',\n",
       "        on_mouse_event_closure('button_release')\n",
       "    );\n",
       "    rubberband_canvas.addEventListener(\n",
       "        'dblclick',\n",
       "        on_mouse_event_closure('dblclick')\n",
       "    );\n",
       "    // Throttle sequential mouse events to 1 every 20ms.\n",
       "    rubberband_canvas.addEventListener(\n",
       "        'mousemove',\n",
       "        on_mouse_event_closure('motion_notify')\n",
       "    );\n",
       "\n",
       "    rubberband_canvas.addEventListener(\n",
       "        'mouseenter',\n",
       "        on_mouse_event_closure('figure_enter')\n",
       "    );\n",
       "    rubberband_canvas.addEventListener(\n",
       "        'mouseleave',\n",
       "        on_mouse_event_closure('figure_leave')\n",
       "    );\n",
       "\n",
       "    canvas_div.addEventListener('wheel', function (event) {\n",
       "        if (event.deltaY < 0) {\n",
       "            event.step = 1;\n",
       "        } else {\n",
       "            event.step = -1;\n",
       "        }\n",
       "        on_mouse_event_closure('scroll')(event);\n",
       "    });\n",
       "\n",
       "    canvas_div.appendChild(canvas);\n",
       "    canvas_div.appendChild(rubberband_canvas);\n",
       "\n",
       "    this.rubberband_context = rubberband_canvas.getContext('2d');\n",
       "    this.rubberband_context.strokeStyle = '#000000';\n",
       "\n",
       "    this._resize_canvas = function (width, height, forward) {\n",
       "        if (forward) {\n",
       "            canvas_div.style.width = width + 'px';\n",
       "            canvas_div.style.height = height + 'px';\n",
       "        }\n",
       "    };\n",
       "\n",
       "    // Disable right mouse context menu.\n",
       "    this.rubberband_canvas.addEventListener('contextmenu', function (_e) {\n",
       "        event.preventDefault();\n",
       "        return false;\n",
       "    });\n",
       "\n",
       "    function set_focus() {\n",
       "        canvas.focus();\n",
       "        canvas_div.focus();\n",
       "    }\n",
       "\n",
       "    window.setTimeout(set_focus, 100);\n",
       "};\n",
       "\n",
       "mpl.figure.prototype._init_toolbar = function () {\n",
       "    var fig = this;\n",
       "\n",
       "    var toolbar = document.createElement('div');\n",
       "    toolbar.classList = 'mpl-toolbar';\n",
       "    this.root.appendChild(toolbar);\n",
       "\n",
       "    function on_click_closure(name) {\n",
       "        return function (_event) {\n",
       "            return fig.toolbar_button_onclick(name);\n",
       "        };\n",
       "    }\n",
       "\n",
       "    function on_mouseover_closure(tooltip) {\n",
       "        return function (event) {\n",
       "            if (!event.currentTarget.disabled) {\n",
       "                return fig.toolbar_button_onmouseover(tooltip);\n",
       "            }\n",
       "        };\n",
       "    }\n",
       "\n",
       "    fig.buttons = {};\n",
       "    var buttonGroup = document.createElement('div');\n",
       "    buttonGroup.classList = 'mpl-button-group';\n",
       "    for (var toolbar_ind in mpl.toolbar_items) {\n",
       "        var name = mpl.toolbar_items[toolbar_ind][0];\n",
       "        var tooltip = mpl.toolbar_items[toolbar_ind][1];\n",
       "        var image = mpl.toolbar_items[toolbar_ind][2];\n",
       "        var method_name = mpl.toolbar_items[toolbar_ind][3];\n",
       "\n",
       "        if (!name) {\n",
       "            /* Instead of a spacer, we start a new button group. */\n",
       "            if (buttonGroup.hasChildNodes()) {\n",
       "                toolbar.appendChild(buttonGroup);\n",
       "            }\n",
       "            buttonGroup = document.createElement('div');\n",
       "            buttonGroup.classList = 'mpl-button-group';\n",
       "            continue;\n",
       "        }\n",
       "\n",
       "        var button = (fig.buttons[name] = document.createElement('button'));\n",
       "        button.classList = 'mpl-widget';\n",
       "        button.setAttribute('role', 'button');\n",
       "        button.setAttribute('aria-disabled', 'false');\n",
       "        button.addEventListener('click', on_click_closure(method_name));\n",
       "        button.addEventListener('mouseover', on_mouseover_closure(tooltip));\n",
       "\n",
       "        var icon_img = document.createElement('img');\n",
       "        icon_img.src = '_images/' + image + '.png';\n",
       "        icon_img.srcset = '_images/' + image + '_large.png 2x';\n",
       "        icon_img.alt = tooltip;\n",
       "        button.appendChild(icon_img);\n",
       "\n",
       "        buttonGroup.appendChild(button);\n",
       "    }\n",
       "\n",
       "    if (buttonGroup.hasChildNodes()) {\n",
       "        toolbar.appendChild(buttonGroup);\n",
       "    }\n",
       "\n",
       "    var fmt_picker = document.createElement('select');\n",
       "    fmt_picker.classList = 'mpl-widget';\n",
       "    toolbar.appendChild(fmt_picker);\n",
       "    this.format_dropdown = fmt_picker;\n",
       "\n",
       "    for (var ind in mpl.extensions) {\n",
       "        var fmt = mpl.extensions[ind];\n",
       "        var option = document.createElement('option');\n",
       "        option.selected = fmt === mpl.default_extension;\n",
       "        option.innerHTML = fmt;\n",
       "        fmt_picker.appendChild(option);\n",
       "    }\n",
       "\n",
       "    var status_bar = document.createElement('span');\n",
       "    status_bar.classList = 'mpl-message';\n",
       "    toolbar.appendChild(status_bar);\n",
       "    this.message = status_bar;\n",
       "};\n",
       "\n",
       "mpl.figure.prototype.request_resize = function (x_pixels, y_pixels) {\n",
       "    // Request matplotlib to resize the figure. Matplotlib will then trigger a resize in the client,\n",
       "    // which will in turn request a refresh of the image.\n",
       "    this.send_message('resize', { width: x_pixels, height: y_pixels });\n",
       "};\n",
       "\n",
       "mpl.figure.prototype.send_message = function (type, properties) {\n",
       "    properties['type'] = type;\n",
       "    properties['figure_id'] = this.id;\n",
       "    this.ws.send(JSON.stringify(properties));\n",
       "};\n",
       "\n",
       "mpl.figure.prototype.send_draw_message = function () {\n",
       "    if (!this.waiting) {\n",
       "        this.waiting = true;\n",
       "        this.ws.send(JSON.stringify({ type: 'draw', figure_id: this.id }));\n",
       "    }\n",
       "};\n",
       "\n",
       "mpl.figure.prototype.handle_save = function (fig, _msg) {\n",
       "    var format_dropdown = fig.format_dropdown;\n",
       "    var format = format_dropdown.options[format_dropdown.selectedIndex].value;\n",
       "    fig.ondownload(fig, format);\n",
       "};\n",
       "\n",
       "mpl.figure.prototype.handle_resize = function (fig, msg) {\n",
       "    var size = msg['size'];\n",
       "    if (size[0] !== fig.canvas.width || size[1] !== fig.canvas.height) {\n",
       "        fig._resize_canvas(size[0], size[1], msg['forward']);\n",
       "        fig.send_message('refresh', {});\n",
       "    }\n",
       "};\n",
       "\n",
       "mpl.figure.prototype.handle_rubberband = function (fig, msg) {\n",
       "    var x0 = msg['x0'] / fig.ratio;\n",
       "    var y0 = (fig.canvas.height - msg['y0']) / fig.ratio;\n",
       "    var x1 = msg['x1'] / fig.ratio;\n",
       "    var y1 = (fig.canvas.height - msg['y1']) / fig.ratio;\n",
       "    x0 = Math.floor(x0) + 0.5;\n",
       "    y0 = Math.floor(y0) + 0.5;\n",
       "    x1 = Math.floor(x1) + 0.5;\n",
       "    y1 = Math.floor(y1) + 0.5;\n",
       "    var min_x = Math.min(x0, x1);\n",
       "    var min_y = Math.min(y0, y1);\n",
       "    var width = Math.abs(x1 - x0);\n",
       "    var height = Math.abs(y1 - y0);\n",
       "\n",
       "    fig.rubberband_context.clearRect(\n",
       "        0,\n",
       "        0,\n",
       "        fig.canvas.width / fig.ratio,\n",
       "        fig.canvas.height / fig.ratio\n",
       "    );\n",
       "\n",
       "    fig.rubberband_context.strokeRect(min_x, min_y, width, height);\n",
       "};\n",
       "\n",
       "mpl.figure.prototype.handle_figure_label = function (fig, msg) {\n",
       "    // Updates the figure title.\n",
       "    fig.header.textContent = msg['label'];\n",
       "};\n",
       "\n",
       "mpl.figure.prototype.handle_cursor = function (fig, msg) {\n",
       "    fig.rubberband_canvas.style.cursor = msg['cursor'];\n",
       "};\n",
       "\n",
       "mpl.figure.prototype.handle_message = function (fig, msg) {\n",
       "    fig.message.textContent = msg['message'];\n",
       "};\n",
       "\n",
       "mpl.figure.prototype.handle_draw = function (fig, _msg) {\n",
       "    // Request the server to send over a new figure.\n",
       "    fig.send_draw_message();\n",
       "};\n",
       "\n",
       "mpl.figure.prototype.handle_image_mode = function (fig, msg) {\n",
       "    fig.image_mode = msg['mode'];\n",
       "};\n",
       "\n",
       "mpl.figure.prototype.handle_history_buttons = function (fig, msg) {\n",
       "    for (var key in msg) {\n",
       "        if (!(key in fig.buttons)) {\n",
       "            continue;\n",
       "        }\n",
       "        fig.buttons[key].disabled = !msg[key];\n",
       "        fig.buttons[key].setAttribute('aria-disabled', !msg[key]);\n",
       "    }\n",
       "};\n",
       "\n",
       "mpl.figure.prototype.handle_navigate_mode = function (fig, msg) {\n",
       "    if (msg['mode'] === 'PAN') {\n",
       "        fig.buttons['Pan'].classList.add('active');\n",
       "        fig.buttons['Zoom'].classList.remove('active');\n",
       "    } else if (msg['mode'] === 'ZOOM') {\n",
       "        fig.buttons['Pan'].classList.remove('active');\n",
       "        fig.buttons['Zoom'].classList.add('active');\n",
       "    } else {\n",
       "        fig.buttons['Pan'].classList.remove('active');\n",
       "        fig.buttons['Zoom'].classList.remove('active');\n",
       "    }\n",
       "};\n",
       "\n",
       "mpl.figure.prototype.updated_canvas_event = function () {\n",
       "    // Called whenever the canvas gets updated.\n",
       "    this.send_message('ack', {});\n",
       "};\n",
       "\n",
       "// A function to construct a web socket function for onmessage handling.\n",
       "// Called in the figure constructor.\n",
       "mpl.figure.prototype._make_on_message_function = function (fig) {\n",
       "    return function socket_on_message(evt) {\n",
       "        if (evt.data instanceof Blob) {\n",
       "            var img = evt.data;\n",
       "            if (img.type !== 'image/png') {\n",
       "                /* FIXME: We get \"Resource interpreted as Image but\n",
       "                 * transferred with MIME type text/plain:\" errors on\n",
       "                 * Chrome.  But how to set the MIME type?  It doesn't seem\n",
       "                 * to be part of the websocket stream */\n",
       "                img.type = 'image/png';\n",
       "            }\n",
       "\n",
       "            /* Free the memory for the previous frames */\n",
       "            if (fig.imageObj.src) {\n",
       "                (window.URL || window.webkitURL).revokeObjectURL(\n",
       "                    fig.imageObj.src\n",
       "                );\n",
       "            }\n",
       "\n",
       "            fig.imageObj.src = (window.URL || window.webkitURL).createObjectURL(\n",
       "                img\n",
       "            );\n",
       "            fig.updated_canvas_event();\n",
       "            fig.waiting = false;\n",
       "            return;\n",
       "        } else if (\n",
       "            typeof evt.data === 'string' &&\n",
       "            evt.data.slice(0, 21) === 'data:image/png;base64'\n",
       "        ) {\n",
       "            fig.imageObj.src = evt.data;\n",
       "            fig.updated_canvas_event();\n",
       "            fig.waiting = false;\n",
       "            return;\n",
       "        }\n",
       "\n",
       "        var msg = JSON.parse(evt.data);\n",
       "        var msg_type = msg['type'];\n",
       "\n",
       "        // Call the  \"handle_{type}\" callback, which takes\n",
       "        // the figure and JSON message as its only arguments.\n",
       "        try {\n",
       "            var callback = fig['handle_' + msg_type];\n",
       "        } catch (e) {\n",
       "            console.log(\n",
       "                \"No handler for the '\" + msg_type + \"' message type: \",\n",
       "                msg\n",
       "            );\n",
       "            return;\n",
       "        }\n",
       "\n",
       "        if (callback) {\n",
       "            try {\n",
       "                // console.log(\"Handling '\" + msg_type + \"' message: \", msg);\n",
       "                callback(fig, msg);\n",
       "            } catch (e) {\n",
       "                console.log(\n",
       "                    \"Exception inside the 'handler_\" + msg_type + \"' callback:\",\n",
       "                    e,\n",
       "                    e.stack,\n",
       "                    msg\n",
       "                );\n",
       "            }\n",
       "        }\n",
       "    };\n",
       "};\n",
       "\n",
       "// from https://stackoverflow.com/questions/1114465/getting-mouse-location-in-canvas\n",
       "mpl.findpos = function (e) {\n",
       "    //this section is from http://www.quirksmode.org/js/events_properties.html\n",
       "    var targ;\n",
       "    if (!e) {\n",
       "        e = window.event;\n",
       "    }\n",
       "    if (e.target) {\n",
       "        targ = e.target;\n",
       "    } else if (e.srcElement) {\n",
       "        targ = e.srcElement;\n",
       "    }\n",
       "    if (targ.nodeType === 3) {\n",
       "        // defeat Safari bug\n",
       "        targ = targ.parentNode;\n",
       "    }\n",
       "\n",
       "    // pageX,Y are the mouse positions relative to the document\n",
       "    var boundingRect = targ.getBoundingClientRect();\n",
       "    var x = e.pageX - (boundingRect.left + document.body.scrollLeft);\n",
       "    var y = e.pageY - (boundingRect.top + document.body.scrollTop);\n",
       "\n",
       "    return { x: x, y: y };\n",
       "};\n",
       "\n",
       "/*\n",
       " * return a copy of an object with only non-object keys\n",
       " * we need this to avoid circular references\n",
       " * https://stackoverflow.com/a/24161582/3208463\n",
       " */\n",
       "function simpleKeys(original) {\n",
       "    return Object.keys(original).reduce(function (obj, key) {\n",
       "        if (typeof original[key] !== 'object') {\n",
       "            obj[key] = original[key];\n",
       "        }\n",
       "        return obj;\n",
       "    }, {});\n",
       "}\n",
       "\n",
       "mpl.figure.prototype.mouse_event = function (event, name) {\n",
       "    var canvas_pos = mpl.findpos(event);\n",
       "\n",
       "    if (name === 'button_press') {\n",
       "        this.canvas.focus();\n",
       "        this.canvas_div.focus();\n",
       "    }\n",
       "\n",
       "    var x = canvas_pos.x * this.ratio;\n",
       "    var y = canvas_pos.y * this.ratio;\n",
       "\n",
       "    this.send_message(name, {\n",
       "        x: x,\n",
       "        y: y,\n",
       "        button: event.button,\n",
       "        step: event.step,\n",
       "        guiEvent: simpleKeys(event),\n",
       "    });\n",
       "\n",
       "    /* This prevents the web browser from automatically changing to\n",
       "     * the text insertion cursor when the button is pressed.  We want\n",
       "     * to control all of the cursor setting manually through the\n",
       "     * 'cursor' event from matplotlib */\n",
       "    event.preventDefault();\n",
       "    return false;\n",
       "};\n",
       "\n",
       "mpl.figure.prototype._key_event_extra = function (_event, _name) {\n",
       "    // Handle any extra behaviour associated with a key event\n",
       "};\n",
       "\n",
       "mpl.figure.prototype.key_event = function (event, name) {\n",
       "    // Prevent repeat events\n",
       "    if (name === 'key_press') {\n",
       "        if (event.key === this._key) {\n",
       "            return;\n",
       "        } else {\n",
       "            this._key = event.key;\n",
       "        }\n",
       "    }\n",
       "    if (name === 'key_release') {\n",
       "        this._key = null;\n",
       "    }\n",
       "\n",
       "    var value = '';\n",
       "    if (event.ctrlKey && event.key !== 'Control') {\n",
       "        value += 'ctrl+';\n",
       "    }\n",
       "    else if (event.altKey && event.key !== 'Alt') {\n",
       "        value += 'alt+';\n",
       "    }\n",
       "    else if (event.shiftKey && event.key !== 'Shift') {\n",
       "        value += 'shift+';\n",
       "    }\n",
       "\n",
       "    value += 'k' + event.key;\n",
       "\n",
       "    this._key_event_extra(event, name);\n",
       "\n",
       "    this.send_message(name, { key: value, guiEvent: simpleKeys(event) });\n",
       "    return false;\n",
       "};\n",
       "\n",
       "mpl.figure.prototype.toolbar_button_onclick = function (name) {\n",
       "    if (name === 'download') {\n",
       "        this.handle_save(this, null);\n",
       "    } else {\n",
       "        this.send_message('toolbar_button', { name: name });\n",
       "    }\n",
       "};\n",
       "\n",
       "mpl.figure.prototype.toolbar_button_onmouseover = function (tooltip) {\n",
       "    this.message.textContent = tooltip;\n",
       "};\n",
       "\n",
       "///////////////// REMAINING CONTENT GENERATED BY embed_js.py /////////////////\n",
       "// prettier-ignore\n",
       "var _JSXTOOLS_RESIZE_OBSERVER=function(A){var t,i=new WeakMap,n=new WeakMap,a=new WeakMap,r=new WeakMap,o=new Set;function s(e){if(!(this instanceof s))throw new TypeError(\"Constructor requires 'new' operator\");i.set(this,e)}function h(){throw new TypeError(\"Function is not a constructor\")}function c(e,t,i,n){e=0 in arguments?Number(arguments[0]):0,t=1 in arguments?Number(arguments[1]):0,i=2 in arguments?Number(arguments[2]):0,n=3 in arguments?Number(arguments[3]):0,this.right=(this.x=this.left=e)+(this.width=i),this.bottom=(this.y=this.top=t)+(this.height=n),Object.freeze(this)}function d(){t=requestAnimationFrame(d);var s=new WeakMap,p=new Set;o.forEach((function(t){r.get(t).forEach((function(i){var r=t instanceof window.SVGElement,o=a.get(t),d=r?0:parseFloat(o.paddingTop),f=r?0:parseFloat(o.paddingRight),l=r?0:parseFloat(o.paddingBottom),u=r?0:parseFloat(o.paddingLeft),g=r?0:parseFloat(o.borderTopWidth),m=r?0:parseFloat(o.borderRightWidth),w=r?0:parseFloat(o.borderBottomWidth),b=u+f,F=d+l,v=(r?0:parseFloat(o.borderLeftWidth))+m,W=g+w,y=r?0:t.offsetHeight-W-t.clientHeight,E=r?0:t.offsetWidth-v-t.clientWidth,R=b+v,z=F+W,M=r?t.width:parseFloat(o.width)-R-E,O=r?t.height:parseFloat(o.height)-z-y;if(n.has(t)){var k=n.get(t);if(k[0]===M&&k[1]===O)return}n.set(t,[M,O]);var S=Object.create(h.prototype);S.target=t,S.contentRect=new c(u,d,M,O),s.has(i)||(s.set(i,[]),p.add(i)),s.get(i).push(S)}))})),p.forEach((function(e){i.get(e).call(e,s.get(e),e)}))}return s.prototype.observe=function(i){if(i instanceof window.Element){r.has(i)||(r.set(i,new Set),o.add(i),a.set(i,window.getComputedStyle(i)));var n=r.get(i);n.has(this)||n.add(this),cancelAnimationFrame(t),t=requestAnimationFrame(d)}},s.prototype.unobserve=function(i){if(i instanceof window.Element&&r.has(i)){var n=r.get(i);n.has(this)&&(n.delete(this),n.size||(r.delete(i),o.delete(i))),n.size||r.delete(i),o.size||cancelAnimationFrame(t)}},A.DOMRectReadOnly=c,A.ResizeObserver=s,A.ResizeObserverEntry=h,A}; // eslint-disable-line\n",
       "mpl.toolbar_items = [[\"Home\", \"Reset original view\", \"fa fa-home icon-home\", \"home\"], [\"Back\", \"Back to previous view\", \"fa fa-arrow-left icon-arrow-left\", \"back\"], [\"Forward\", \"Forward to next view\", \"fa fa-arrow-right icon-arrow-right\", \"forward\"], [\"\", \"\", \"\", \"\"], [\"Pan\", \"Left button pans, Right button zooms\\nx/y fixes axis, CTRL fixes aspect\", \"fa fa-arrows icon-move\", \"pan\"], [\"Zoom\", \"Zoom to rectangle\\nx/y fixes axis\", \"fa fa-square-o icon-check-empty\", \"zoom\"], [\"\", \"\", \"\", \"\"], [\"Download\", \"Download plot\", \"fa fa-floppy-o icon-save\", \"download\"]];\n",
       "\n",
       "mpl.extensions = [\"eps\", \"jpeg\", \"pgf\", \"pdf\", \"png\", \"ps\", \"raw\", \"svg\", \"tif\"];\n",
       "\n",
       "mpl.default_extension = \"png\";/* global mpl */\n",
       "\n",
       "var comm_websocket_adapter = function (comm) {\n",
       "    // Create a \"websocket\"-like object which calls the given IPython comm\n",
       "    // object with the appropriate methods. Currently this is a non binary\n",
       "    // socket, so there is still some room for performance tuning.\n",
       "    var ws = {};\n",
       "\n",
       "    ws.binaryType = comm.kernel.ws.binaryType;\n",
       "    ws.readyState = comm.kernel.ws.readyState;\n",
       "    function updateReadyState(_event) {\n",
       "        if (comm.kernel.ws) {\n",
       "            ws.readyState = comm.kernel.ws.readyState;\n",
       "        } else {\n",
       "            ws.readyState = 3; // Closed state.\n",
       "        }\n",
       "    }\n",
       "    comm.kernel.ws.addEventListener('open', updateReadyState);\n",
       "    comm.kernel.ws.addEventListener('close', updateReadyState);\n",
       "    comm.kernel.ws.addEventListener('error', updateReadyState);\n",
       "\n",
       "    ws.close = function () {\n",
       "        comm.close();\n",
       "    };\n",
       "    ws.send = function (m) {\n",
       "        //console.log('sending', m);\n",
       "        comm.send(m);\n",
       "    };\n",
       "    // Register the callback with on_msg.\n",
       "    comm.on_msg(function (msg) {\n",
       "        //console.log('receiving', msg['content']['data'], msg);\n",
       "        var data = msg['content']['data'];\n",
       "        if (data['blob'] !== undefined) {\n",
       "            data = {\n",
       "                data: new Blob(msg['buffers'], { type: data['blob'] }),\n",
       "            };\n",
       "        }\n",
       "        // Pass the mpl event to the overridden (by mpl) onmessage function.\n",
       "        ws.onmessage(data);\n",
       "    });\n",
       "    return ws;\n",
       "};\n",
       "\n",
       "mpl.mpl_figure_comm = function (comm, msg) {\n",
       "    // This is the function which gets called when the mpl process\n",
       "    // starts-up an IPython Comm through the \"matplotlib\" channel.\n",
       "\n",
       "    var id = msg.content.data.id;\n",
       "    // Get hold of the div created by the display call when the Comm\n",
       "    // socket was opened in Python.\n",
       "    var element = document.getElementById(id);\n",
       "    var ws_proxy = comm_websocket_adapter(comm);\n",
       "\n",
       "    function ondownload(figure, _format) {\n",
       "        window.open(figure.canvas.toDataURL());\n",
       "    }\n",
       "\n",
       "    var fig = new mpl.figure(id, ws_proxy, ondownload, element);\n",
       "\n",
       "    // Call onopen now - mpl needs it, as it is assuming we've passed it a real\n",
       "    // web socket which is closed, not our websocket->open comm proxy.\n",
       "    ws_proxy.onopen();\n",
       "\n",
       "    fig.parent_element = element;\n",
       "    fig.cell_info = mpl.find_output_cell(\"<div id='\" + id + \"'></div>\");\n",
       "    if (!fig.cell_info) {\n",
       "        console.error('Failed to find cell for figure', id, fig);\n",
       "        return;\n",
       "    }\n",
       "    fig.cell_info[0].output_area.element.on(\n",
       "        'cleared',\n",
       "        { fig: fig },\n",
       "        fig._remove_fig_handler\n",
       "    );\n",
       "};\n",
       "\n",
       "mpl.figure.prototype.handle_close = function (fig, msg) {\n",
       "    var width = fig.canvas.width / fig.ratio;\n",
       "    fig.cell_info[0].output_area.element.off(\n",
       "        'cleared',\n",
       "        fig._remove_fig_handler\n",
       "    );\n",
       "    fig.resizeObserverInstance.unobserve(fig.canvas_div);\n",
       "\n",
       "    // Update the output cell to use the data from the current canvas.\n",
       "    fig.push_to_output();\n",
       "    var dataURL = fig.canvas.toDataURL();\n",
       "    // Re-enable the keyboard manager in IPython - without this line, in FF,\n",
       "    // the notebook keyboard shortcuts fail.\n",
       "    IPython.keyboard_manager.enable();\n",
       "    fig.parent_element.innerHTML =\n",
       "        '<img src=\"' + dataURL + '\" width=\"' + width + '\">';\n",
       "    fig.close_ws(fig, msg);\n",
       "};\n",
       "\n",
       "mpl.figure.prototype.close_ws = function (fig, msg) {\n",
       "    fig.send_message('closing', msg);\n",
       "    // fig.ws.close()\n",
       "};\n",
       "\n",
       "mpl.figure.prototype.push_to_output = function (_remove_interactive) {\n",
       "    // Turn the data on the canvas into data in the output cell.\n",
       "    var width = this.canvas.width / this.ratio;\n",
       "    var dataURL = this.canvas.toDataURL();\n",
       "    this.cell_info[1]['text/html'] =\n",
       "        '<img src=\"' + dataURL + '\" width=\"' + width + '\">';\n",
       "};\n",
       "\n",
       "mpl.figure.prototype.updated_canvas_event = function () {\n",
       "    // Tell IPython that the notebook contents must change.\n",
       "    IPython.notebook.set_dirty(true);\n",
       "    this.send_message('ack', {});\n",
       "    var fig = this;\n",
       "    // Wait a second, then push the new image to the DOM so\n",
       "    // that it is saved nicely (might be nice to debounce this).\n",
       "    setTimeout(function () {\n",
       "        fig.push_to_output();\n",
       "    }, 1000);\n",
       "};\n",
       "\n",
       "mpl.figure.prototype._init_toolbar = function () {\n",
       "    var fig = this;\n",
       "\n",
       "    var toolbar = document.createElement('div');\n",
       "    toolbar.classList = 'btn-toolbar';\n",
       "    this.root.appendChild(toolbar);\n",
       "\n",
       "    function on_click_closure(name) {\n",
       "        return function (_event) {\n",
       "            return fig.toolbar_button_onclick(name);\n",
       "        };\n",
       "    }\n",
       "\n",
       "    function on_mouseover_closure(tooltip) {\n",
       "        return function (event) {\n",
       "            if (!event.currentTarget.disabled) {\n",
       "                return fig.toolbar_button_onmouseover(tooltip);\n",
       "            }\n",
       "        };\n",
       "    }\n",
       "\n",
       "    fig.buttons = {};\n",
       "    var buttonGroup = document.createElement('div');\n",
       "    buttonGroup.classList = 'btn-group';\n",
       "    var button;\n",
       "    for (var toolbar_ind in mpl.toolbar_items) {\n",
       "        var name = mpl.toolbar_items[toolbar_ind][0];\n",
       "        var tooltip = mpl.toolbar_items[toolbar_ind][1];\n",
       "        var image = mpl.toolbar_items[toolbar_ind][2];\n",
       "        var method_name = mpl.toolbar_items[toolbar_ind][3];\n",
       "\n",
       "        if (!name) {\n",
       "            /* Instead of a spacer, we start a new button group. */\n",
       "            if (buttonGroup.hasChildNodes()) {\n",
       "                toolbar.appendChild(buttonGroup);\n",
       "            }\n",
       "            buttonGroup = document.createElement('div');\n",
       "            buttonGroup.classList = 'btn-group';\n",
       "            continue;\n",
       "        }\n",
       "\n",
       "        button = fig.buttons[name] = document.createElement('button');\n",
       "        button.classList = 'btn btn-default';\n",
       "        button.href = '#';\n",
       "        button.title = name;\n",
       "        button.innerHTML = '<i class=\"fa ' + image + ' fa-lg\"></i>';\n",
       "        button.addEventListener('click', on_click_closure(method_name));\n",
       "        button.addEventListener('mouseover', on_mouseover_closure(tooltip));\n",
       "        buttonGroup.appendChild(button);\n",
       "    }\n",
       "\n",
       "    if (buttonGroup.hasChildNodes()) {\n",
       "        toolbar.appendChild(buttonGroup);\n",
       "    }\n",
       "\n",
       "    // Add the status bar.\n",
       "    var status_bar = document.createElement('span');\n",
       "    status_bar.classList = 'mpl-message pull-right';\n",
       "    toolbar.appendChild(status_bar);\n",
       "    this.message = status_bar;\n",
       "\n",
       "    // Add the close button to the window.\n",
       "    var buttongrp = document.createElement('div');\n",
       "    buttongrp.classList = 'btn-group inline pull-right';\n",
       "    button = document.createElement('button');\n",
       "    button.classList = 'btn btn-mini btn-primary';\n",
       "    button.href = '#';\n",
       "    button.title = 'Stop Interaction';\n",
       "    button.innerHTML = '<i class=\"fa fa-power-off icon-remove icon-large\"></i>';\n",
       "    button.addEventListener('click', function (_evt) {\n",
       "        fig.handle_close(fig, {});\n",
       "    });\n",
       "    button.addEventListener(\n",
       "        'mouseover',\n",
       "        on_mouseover_closure('Stop Interaction')\n",
       "    );\n",
       "    buttongrp.appendChild(button);\n",
       "    var titlebar = this.root.querySelector('.ui-dialog-titlebar');\n",
       "    titlebar.insertBefore(buttongrp, titlebar.firstChild);\n",
       "};\n",
       "\n",
       "mpl.figure.prototype._remove_fig_handler = function (event) {\n",
       "    var fig = event.data.fig;\n",
       "    if (event.target !== this) {\n",
       "        // Ignore bubbled events from children.\n",
       "        return;\n",
       "    }\n",
       "    fig.close_ws(fig, {});\n",
       "};\n",
       "\n",
       "mpl.figure.prototype._root_extra_style = function (el) {\n",
       "    el.style.boxSizing = 'content-box'; // override notebook setting of border-box.\n",
       "};\n",
       "\n",
       "mpl.figure.prototype._canvas_extra_style = function (el) {\n",
       "    // this is important to make the div 'focusable\n",
       "    el.setAttribute('tabindex', 0);\n",
       "    // reach out to IPython and tell the keyboard manager to turn it's self\n",
       "    // off when our div gets focus\n",
       "\n",
       "    // location in version 3\n",
       "    if (IPython.notebook.keyboard_manager) {\n",
       "        IPython.notebook.keyboard_manager.register_events(el);\n",
       "    } else {\n",
       "        // location in version 2\n",
       "        IPython.keyboard_manager.register_events(el);\n",
       "    }\n",
       "};\n",
       "\n",
       "mpl.figure.prototype._key_event_extra = function (event, _name) {\n",
       "    // Check for shift+enter\n",
       "    if (event.shiftKey && event.which === 13) {\n",
       "        this.canvas_div.blur();\n",
       "        // select the cell after this one\n",
       "        var index = IPython.notebook.find_cell_index(this.cell_info[0]);\n",
       "        IPython.notebook.select(index + 1);\n",
       "    }\n",
       "};\n",
       "\n",
       "mpl.figure.prototype.handle_save = function (fig, _msg) {\n",
       "    fig.ondownload(fig, null);\n",
       "};\n",
       "\n",
       "mpl.find_output_cell = function (html_output) {\n",
       "    // Return the cell and output element which can be found *uniquely* in the notebook.\n",
       "    // Note - this is a bit hacky, but it is done because the \"notebook_saving.Notebook\"\n",
       "    // IPython event is triggered only after the cells have been serialised, which for\n",
       "    // our purposes (turning an active figure into a static one), is too late.\n",
       "    var cells = IPython.notebook.get_cells();\n",
       "    var ncells = cells.length;\n",
       "    for (var i = 0; i < ncells; i++) {\n",
       "        var cell = cells[i];\n",
       "        if (cell.cell_type === 'code') {\n",
       "            for (var j = 0; j < cell.output_area.outputs.length; j++) {\n",
       "                var data = cell.output_area.outputs[j];\n",
       "                if (data.data) {\n",
       "                    // IPython >= 3 moved mimebundle to data attribute of output\n",
       "                    data = data.data;\n",
       "                }\n",
       "                if (data['text/html'] === html_output) {\n",
       "                    return [cell, data, j];\n",
       "                }\n",
       "            }\n",
       "        }\n",
       "    }\n",
       "};\n",
       "\n",
       "// Register the function which deals with the matplotlib target/channel.\n",
       "// The kernel may be null if the page has been refreshed.\n",
       "if (IPython.notebook.kernel !== null) {\n",
       "    IPython.notebook.kernel.comm_manager.register_target(\n",
       "        'matplotlib',\n",
       "        mpl.mpl_figure_comm\n",
       "    );\n",
       "}\n"
      ],
      "text/plain": [
       "<IPython.core.display.Javascript object>"
      ]
     },
     "metadata": {},
     "output_type": "display_data"
    },
    {
     "data": {
      "text/html": [
       "<img src=\"data:image/png;base64,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\" width=\"432\">"
      ],
      "text/plain": [
       "<IPython.core.display.HTML object>"
      ]
     },
     "metadata": {},
     "output_type": "display_data"
    }
   ],
   "source": [
    "# Run Code\n",
    "\n",
    "%matplotlib notebook\n",
    "\n",
    "def plot_2D_regression(x_val, ylst, mods_w,mods_b) :\n",
    "    fig = plt.figure()\n",
    "    ax = fig.add_subplot(projection='3d')\n",
    "    xx, yy = np.meshgrid(range(50), range(50))\n",
    "    ax.scatter(x_val[:,0], x_val[:,1], ylst, marker='o', color= 'red')\n",
    "    zz = mods_w[0] * xx + mods_w[1] * yy + mods_b\n",
    "    ax.plot_surface(xx, yy, zz, alpha=0.5)\n",
    "    ax.set_xlabel('x1')\n",
    "    ax.set_ylabel('x2')\n",
    "    ax.set_zlabel('yNose ')\n",
    "\n",
    "plot_2D_regression(x_val3, ylst3, mods_w3, mods_b3)  "
   ]
  },
  {
   "cell_type": "markdown",
   "id": "e91164c0",
   "metadata": {
    "id": "e91164c0"
   },
   "source": [
    "**Enter Code**\n",
    "\n",
    "Define a new function `generate_multiple_2D_regression_problems` that will generate multipe instances of regression problems for the same underlying function $y = \\mathbf{mw}^\\top \\mathbf{x} + mb +  \\mathcal{N}(0,\\,\\sigma^{2})$. \n",
    "\n",
    "Your function must return two different things:\n",
    "- The true $y$ values of the function without noise\n",
    "- The list of noise $y$ samples for each problem instance"
   ]
  },
  {
   "cell_type": "code",
   "execution_count": 49,
   "id": "4b13bd67",
   "metadata": {
    "id": "4b13bd67"
   },
   "outputs": [],
   "source": [
    "# Enter Code\n",
    "\n",
    "def generate_multiple_2D_regression_problems(x_val, samples_n, shuffle_seed, seed_num, seed_min, mw, mb, sigma) :\n",
    "  y_list = [x[0]*mw[0] + x[1]*mw[1] + mb for x in x_val]\n",
    "  y_Noise = np.zeros((samples_n, len(y_list)))\n",
    "  sample_seeds = gen_seeds(seed_num, seed_min, shuffle_seed)\n",
    "\n",
    "\n",
    "  for i in range (len(sample_seeds)):\n",
    "    rng = np.random.default_rng(seed = sample_seeds[i])\n",
    "    noise = sigma * rng.standard_normal(size = (samples_n, ))\n",
    "    y_Noise[i] = y_list + noise \n",
    "\n",
    "  return y_list, y_Noise\n"
   ]
  },
  {
   "cell_type": "code",
   "execution_count": 50,
   "id": "c8d4904e",
   "metadata": {
    "id": "c8d4904e"
   },
   "outputs": [],
   "source": [
    "# Key Globel Varibles\n",
    "\n",
    "samples_n4  = 32\n",
    "x_seed_val4 = [8, 12]\n",
    "mw4    =  [3, 7]\n",
    "mb4    = -3\n",
    "sigma4 = 10.0\n",
    "x_min = 0\n",
    "x_max = 50\n",
    "shuffle_seed4  = 9\n",
    "seed_min4 = 10\n",
    "seed_num4 = 32"
   ]
  },
  {
   "cell_type": "markdown",
   "id": "2a7efc31",
   "metadata": {
    "id": "2a7efc31"
   },
   "source": [
    "**Run Code**\n",
    "\n",
    "Run code below to create your new list of sample points for $x_1$ and $x_2$ with the following key globel varibales.\n"
   ]
  },
  {
   "cell_type": "code",
   "execution_count": 51,
   "id": "ba8ffc0a",
   "metadata": {
    "colab": {
     "base_uri": "https://localhost:8080/",
     "height": 34
    },
    "id": "ba8ffc0a",
    "outputId": "b1644353-398e-43c1-bf1c-5cc6367d44f6"
   },
   "outputs": [
    {
     "name": "stdout",
     "output_type": "stream",
     "text": [
      "x values: [16.3 12.5]\n"
     ]
    }
   ],
   "source": [
    "# Run Code\n",
    "\n",
    "x_val4 = []\n",
    "for s in x_seed_val4:\n",
    "    current = gen_x_vals(samples_n4, s)\n",
    "    x_val4.append(current)\n",
    "x_val4 = np.array(x_val4).T\n",
    "print(f'x values: {x_val4[0]}')"
   ]
  },
  {
   "cell_type": "markdown",
   "id": "6c0658b5",
   "metadata": {
    "id": "6c0658b5"
   },
   "source": [
    "**Run code**\n",
    "\n",
    "Run the code below to generate your sample_n distinct instances of your 2-D linear regression problems."
   ]
  },
  {
   "cell_type": "code",
   "execution_count": 52,
   "id": "6cfd7ae8",
   "metadata": {
    "id": "6cfd7ae8"
   },
   "outputs": [],
   "source": [
    "# Run Code\n",
    "\n",
    "y4, ylst4 = generate_multiple_2D_regression_problems(x_val4, samples_n4, shuffle_seed4, seed_num4, seed_min4, mw4, mb4, sigma4) "
   ]
  },
  {
   "cell_type": "markdown",
   "id": "6a338ce1",
   "metadata": {
    "id": "6a338ce1"
   },
   "source": [
    "**Enter Code Cell 12**\n",
    "\n",
    "Now define a function `run_multiple_2D_regression_problems` that takes two required arguments\n",
    "\n",
    "- `x` The $x$ values of the data samples\n",
    "- `y_lst` The list of $y$ values for each of the problems generated above.\n",
    "\n",
    "This function returns five things\n",
    "\n",
    "- `model_ws` A list of the coefficents $w$ fit by the regresion for each instance\n",
    "- `model_bs` A list of the intercepts $b$ fit by the regresion for each instance\n",
    "- `y_pred_lst` A list of arrays, each array contains the predicted $y$ values from regression\n",
    "- `mse` A list of mean square errors for the regression predictions for each instance\n",
    "- `r2` A list of coefficient of determination regression scores for each instance\n",
    "Please only keep $3$ digits of precision with the $w$, $b$ and `mse` values."
   ]
  },
  {
   "cell_type": "code",
   "execution_count": 53,
   "id": "7e090761",
   "metadata": {
    "id": "7e090761"
   },
   "outputs": [],
   "source": [
    "# Enter Code\n",
    "\n",
    "def run_regression_on_2D_multiple_examples(x, ylst) :\n",
    "  w = np.zeros((len(x),2))\n",
    "  b = np.zeros((len(x),2))\n",
    "  mse = np.zeros((len(x),2))\n",
    "  r2 = np.zeros((len(x),2))\n",
    "  pred = np.zeros((len(ylst),len(ylst)))\n",
    "\n",
    "  for i in range(len(ylst)):\n",
    "    mods_w, mods_b, yp, ms, r = run_regression_2D_on_single_example(x,ylst[i])\n",
    "    w[i] = mods_w\n",
    "    b[i] = mods_b\n",
    "    mse[i] = ms\n",
    "    r2[i] = r \n",
    "    pred[i] = yp\n",
    "\n",
    "  return np.round(w, decimals = 3), np.round(b, decimals = 3), np.round(pred, decimals = 3), np.round(mse, decimals = 3), np.round(r2, decimals = 3)\n",
    "\n",
    "   "
   ]
  },
  {
   "cell_type": "code",
   "execution_count": 54,
   "id": "d08c57f2",
   "metadata": {
    "id": "d08c57f2"
   },
   "outputs": [],
   "source": [
    "# Run Code\n",
    "\n",
    "mods_w4, mods_b4, y_fitlst4, mse4, r24 = run_regression_on_2D_multiple_examples(x_val4, ylst4)"
   ]
  },
  {
   "cell_type": "code",
   "execution_count": 55,
   "id": "da95eab6",
   "metadata": {
    "colab": {
     "base_uri": "https://localhost:8080/",
     "height": 124
    },
    "id": "da95eab6",
    "outputId": "043d9068-d6cb-4b0f-f0e3-a349f0b128df"
   },
   "outputs": [
    {
     "name": "stdout",
     "output_type": "stream",
     "text": [
      "Ture coefficient w is [3, 7], and b is -3\n",
      "\n",
      "mean of coefficients w is [3.011 6.987], mean of coefficients b is -3.055\n",
      "\n",
      "Standard deviation of coefficients w is [0.155 0.098], standard deviation of coefficients b is 4.535\n"
     ]
    }
   ],
   "source": [
    "# Run Code\n",
    "\n",
    "# print(mods_w4)\n",
    "\n",
    "print(f'Ture coefficient w is {mw4}, and b is {mb4}\\n')\n",
    "\n",
    "print(f'mean of coefficients w is {np.round(np.mean(mods_w4, 0),3)}, mean of coefficients b is {np.round(np.mean(mods_b4), 3)}\\n')\n",
    "\n",
    "print(f'Standard deviation of coefficients w is {np.round(np.std(mods_w4, 0), 3)}, standard deviation of coefficients b is {np.round(np.std(mods_b4), 3)}')"
   ]
  },
  {
   "cell_type": "markdown",
   "id": "6543fb8c",
   "metadata": {
    "id": "6543fb8c"
   },
   "source": [
    "## Part 4\n",
    "\n",
    "In Part3, we have generated two indepent variables $x_1$ and $x_2$. Now just use `gen_x_val` function to generate single indepent variables $x_1$ with number of `sample_n`, then the another varibale $x_2$ will be genereted based on following function:\n",
    "$$\n",
    "x_2 = 1.1 * x_1\n",
    "$$\n",
    "\n",
    "And in this part, if your already generated the required functions propriately, most of your jobs are to run the code cell."
   ]
  },
  {
   "cell_type": "code",
   "execution_count": 56,
   "id": "d1ad413d",
   "metadata": {
    "id": "d1ad413d"
   },
   "outputs": [],
   "source": [
    "# Key Globel variable \n",
    "samples_n5  = 128\n",
    "x_seed_val5 = 6\n",
    "mw5    =  [3, 7]\n",
    "mb5    = -3\n",
    "sigma5 = 10.0\n",
    "x_min = 0\n",
    "x_max = 50\n",
    "shaffle_seed5 = 9"
   ]
  },
  {
   "cell_type": "markdown",
   "id": "4ed46827",
   "metadata": {
    "id": "4ed46827"
   },
   "source": [
    "**Enter Code**\n",
    "\n",
    "In cell below, write your code to generate variables $x_1$ and $x_2$."
   ]
  },
  {
   "cell_type": "code",
   "execution_count": 57,
   "id": "fd5053b6",
   "metadata": {
    "colab": {
     "base_uri": "https://localhost:8080/",
     "height": 34
    },
    "id": "fd5053b6",
    "outputId": "6898580f-7aad-43bf-c19b-eaa057af9333"
   },
   "outputs": [
    {
     "name": "stdout",
     "output_type": "stream",
     "text": [
      "x values: [26.9  29.59]\n"
     ]
    }
   ],
   "source": [
    "# Enter Code\n",
    "x1_val5 = gen_x_vals(samples_n5, x_seed_val5)\n",
    "x2_val5 = x1_val5 * 1.1\n",
    "x_val5 = np.vstack((x1_val5, x2_val5))\n",
    "x_val5 = np.array(x_val5).T\n",
    "print(f'x values: {x_val5[0]}')\n"
   ]
  },
  {
   "cell_type": "markdown",
   "id": "88b3e770",
   "metadata": {
    "id": "88b3e770"
   },
   "source": [
    "**Run Code**"
   ]
  },
  {
   "cell_type": "code",
   "execution_count": 58,
   "id": "e645435e",
   "metadata": {
    "colab": {
     "base_uri": "https://localhost:8080/",
     "height": 121
    },
    "id": "e645435e",
    "outputId": "5bf9d145-0371-4fc3-c290-2bb67d3091fd"
   },
   "outputs": [
    {
     "name": "stdout",
     "output_type": "stream",
     "text": [
      "Ture coefficient w is [3, 7], and b is -3\n",
      "\n",
      "coefficients values: mw is [4.853 5.338], mb is -3.537\n",
      "\n",
      "mse value is 10.412, r2 value is 0.996\n",
      "\n"
     ]
    }
   ],
   "source": [
    "#Run Code\n",
    "\n",
    "y5, ylst5 = generate_single_2D_regression_problem(x_val5, samples_n5, shaffle_seed5, mw5, mb5, sigma5)\n",
    "\n",
    "mods_w5, mods_b5, yp5, mse5, r25 = run_regression_2D_on_single_example(x_val5, ylst5)\n",
    "print(f'Ture coefficient w is {mw5}, and b is {mb5}\\n')\n",
    "print(f'coefficients values: mw is {mods_w5}, mb is {mods_b5}\\n')\n",
    "print(f'mse value is {mse5}, r2 value is {r25}\\n')"
   ]
  },
  {
   "cell_type": "markdown",
   "id": "afa49e70",
   "metadata": {
    "id": "afa49e70"
   },
   "source": [
    "**Run code**"
   ]
  },
  {
   "cell_type": "code",
   "execution_count": 59,
   "id": "6646a6cb",
   "metadata": {
    "colab": {
     "base_uri": "https://localhost:8080/",
     "height": 17
    },
    "id": "6646a6cb",
    "outputId": "44b61111-827a-4349-d4e8-c2ed80ac8845"
   },
   "outputs": [
    {
     "data": {
      "application/javascript": [
       "/* Put everything inside the global mpl namespace */\n",
       "/* global mpl */\n",
       "window.mpl = {};\n",
       "\n",
       "mpl.get_websocket_type = function () {\n",
       "    if (typeof WebSocket !== 'undefined') {\n",
       "        return WebSocket;\n",
       "    } else if (typeof MozWebSocket !== 'undefined') {\n",
       "        return MozWebSocket;\n",
       "    } else {\n",
       "        alert(\n",
       "            'Your browser does not have WebSocket support. ' +\n",
       "                'Please try Chrome, Safari or Firefox ≥ 6. ' +\n",
       "                'Firefox 4 and 5 are also supported but you ' +\n",
       "                'have to enable WebSockets in about:config.'\n",
       "        );\n",
       "    }\n",
       "};\n",
       "\n",
       "mpl.figure = function (figure_id, websocket, ondownload, parent_element) {\n",
       "    this.id = figure_id;\n",
       "\n",
       "    this.ws = websocket;\n",
       "\n",
       "    this.supports_binary = this.ws.binaryType !== undefined;\n",
       "\n",
       "    if (!this.supports_binary) {\n",
       "        var warnings = document.getElementById('mpl-warnings');\n",
       "        if (warnings) {\n",
       "            warnings.style.display = 'block';\n",
       "            warnings.textContent =\n",
       "                'This browser does not support binary websocket messages. ' +\n",
       "                'Performance may be slow.';\n",
       "        }\n",
       "    }\n",
       "\n",
       "    this.imageObj = new Image();\n",
       "\n",
       "    this.context = undefined;\n",
       "    this.message = undefined;\n",
       "    this.canvas = undefined;\n",
       "    this.rubberband_canvas = undefined;\n",
       "    this.rubberband_context = undefined;\n",
       "    this.format_dropdown = undefined;\n",
       "\n",
       "    this.image_mode = 'full';\n",
       "\n",
       "    this.root = document.createElement('div');\n",
       "    this.root.setAttribute('style', 'display: inline-block');\n",
       "    this._root_extra_style(this.root);\n",
       "\n",
       "    parent_element.appendChild(this.root);\n",
       "\n",
       "    this._init_header(this);\n",
       "    this._init_canvas(this);\n",
       "    this._init_toolbar(this);\n",
       "\n",
       "    var fig = this;\n",
       "\n",
       "    this.waiting = false;\n",
       "\n",
       "    this.ws.onopen = function () {\n",
       "        fig.send_message('supports_binary', { value: fig.supports_binary });\n",
       "        fig.send_message('send_image_mode', {});\n",
       "        if (fig.ratio !== 1) {\n",
       "            fig.send_message('set_device_pixel_ratio', {\n",
       "                device_pixel_ratio: fig.ratio,\n",
       "            });\n",
       "        }\n",
       "        fig.send_message('refresh', {});\n",
       "    };\n",
       "\n",
       "    this.imageObj.onload = function () {\n",
       "        if (fig.image_mode === 'full') {\n",
       "            // Full images could contain transparency (where diff images\n",
       "            // almost always do), so we need to clear the canvas so that\n",
       "            // there is no ghosting.\n",
       "            fig.context.clearRect(0, 0, fig.canvas.width, fig.canvas.height);\n",
       "        }\n",
       "        fig.context.drawImage(fig.imageObj, 0, 0);\n",
       "    };\n",
       "\n",
       "    this.imageObj.onunload = function () {\n",
       "        fig.ws.close();\n",
       "    };\n",
       "\n",
       "    this.ws.onmessage = this._make_on_message_function(this);\n",
       "\n",
       "    this.ondownload = ondownload;\n",
       "};\n",
       "\n",
       "mpl.figure.prototype._init_header = function () {\n",
       "    var titlebar = document.createElement('div');\n",
       "    titlebar.classList =\n",
       "        'ui-dialog-titlebar ui-widget-header ui-corner-all ui-helper-clearfix';\n",
       "    var titletext = document.createElement('div');\n",
       "    titletext.classList = 'ui-dialog-title';\n",
       "    titletext.setAttribute(\n",
       "        'style',\n",
       "        'width: 100%; text-align: center; padding: 3px;'\n",
       "    );\n",
       "    titlebar.appendChild(titletext);\n",
       "    this.root.appendChild(titlebar);\n",
       "    this.header = titletext;\n",
       "};\n",
       "\n",
       "mpl.figure.prototype._canvas_extra_style = function (_canvas_div) {};\n",
       "\n",
       "mpl.figure.prototype._root_extra_style = function (_canvas_div) {};\n",
       "\n",
       "mpl.figure.prototype._init_canvas = function () {\n",
       "    var fig = this;\n",
       "\n",
       "    var canvas_div = (this.canvas_div = document.createElement('div'));\n",
       "    canvas_div.setAttribute(\n",
       "        'style',\n",
       "        'border: 1px solid #ddd;' +\n",
       "            'box-sizing: content-box;' +\n",
       "            'clear: both;' +\n",
       "            'min-height: 1px;' +\n",
       "            'min-width: 1px;' +\n",
       "            'outline: 0;' +\n",
       "            'overflow: hidden;' +\n",
       "            'position: relative;' +\n",
       "            'resize: both;'\n",
       "    );\n",
       "\n",
       "    function on_keyboard_event_closure(name) {\n",
       "        return function (event) {\n",
       "            return fig.key_event(event, name);\n",
       "        };\n",
       "    }\n",
       "\n",
       "    canvas_div.addEventListener(\n",
       "        'keydown',\n",
       "        on_keyboard_event_closure('key_press')\n",
       "    );\n",
       "    canvas_div.addEventListener(\n",
       "        'keyup',\n",
       "        on_keyboard_event_closure('key_release')\n",
       "    );\n",
       "\n",
       "    this._canvas_extra_style(canvas_div);\n",
       "    this.root.appendChild(canvas_div);\n",
       "\n",
       "    var canvas = (this.canvas = document.createElement('canvas'));\n",
       "    canvas.classList.add('mpl-canvas');\n",
       "    canvas.setAttribute('style', 'box-sizing: content-box;');\n",
       "\n",
       "    this.context = canvas.getContext('2d');\n",
       "\n",
       "    var backingStore =\n",
       "        this.context.backingStorePixelRatio ||\n",
       "        this.context.webkitBackingStorePixelRatio ||\n",
       "        this.context.mozBackingStorePixelRatio ||\n",
       "        this.context.msBackingStorePixelRatio ||\n",
       "        this.context.oBackingStorePixelRatio ||\n",
       "        this.context.backingStorePixelRatio ||\n",
       "        1;\n",
       "\n",
       "    this.ratio = (window.devicePixelRatio || 1) / backingStore;\n",
       "\n",
       "    var rubberband_canvas = (this.rubberband_canvas = document.createElement(\n",
       "        'canvas'\n",
       "    ));\n",
       "    rubberband_canvas.setAttribute(\n",
       "        'style',\n",
       "        'box-sizing: content-box; position: absolute; left: 0; top: 0; z-index: 1;'\n",
       "    );\n",
       "\n",
       "    // Apply a ponyfill if ResizeObserver is not implemented by browser.\n",
       "    if (this.ResizeObserver === undefined) {\n",
       "        if (window.ResizeObserver !== undefined) {\n",
       "            this.ResizeObserver = window.ResizeObserver;\n",
       "        } else {\n",
       "            var obs = _JSXTOOLS_RESIZE_OBSERVER({});\n",
       "            this.ResizeObserver = obs.ResizeObserver;\n",
       "        }\n",
       "    }\n",
       "\n",
       "    this.resizeObserverInstance = new this.ResizeObserver(function (entries) {\n",
       "        var nentries = entries.length;\n",
       "        for (var i = 0; i < nentries; i++) {\n",
       "            var entry = entries[i];\n",
       "            var width, height;\n",
       "            if (entry.contentBoxSize) {\n",
       "                if (entry.contentBoxSize instanceof Array) {\n",
       "                    // Chrome 84 implements new version of spec.\n",
       "                    width = entry.contentBoxSize[0].inlineSize;\n",
       "                    height = entry.contentBoxSize[0].blockSize;\n",
       "                } else {\n",
       "                    // Firefox implements old version of spec.\n",
       "                    width = entry.contentBoxSize.inlineSize;\n",
       "                    height = entry.contentBoxSize.blockSize;\n",
       "                }\n",
       "            } else {\n",
       "                // Chrome <84 implements even older version of spec.\n",
       "                width = entry.contentRect.width;\n",
       "                height = entry.contentRect.height;\n",
       "            }\n",
       "\n",
       "            // Keep the size of the canvas and rubber band canvas in sync with\n",
       "            // the canvas container.\n",
       "            if (entry.devicePixelContentBoxSize) {\n",
       "                // Chrome 84 implements new version of spec.\n",
       "                canvas.setAttribute(\n",
       "                    'width',\n",
       "                    entry.devicePixelContentBoxSize[0].inlineSize\n",
       "                );\n",
       "                canvas.setAttribute(\n",
       "                    'height',\n",
       "                    entry.devicePixelContentBoxSize[0].blockSize\n",
       "                );\n",
       "            } else {\n",
       "                canvas.setAttribute('width', width * fig.ratio);\n",
       "                canvas.setAttribute('height', height * fig.ratio);\n",
       "            }\n",
       "            canvas.setAttribute(\n",
       "                'style',\n",
       "                'width: ' + width + 'px; height: ' + height + 'px;'\n",
       "            );\n",
       "\n",
       "            rubberband_canvas.setAttribute('width', width);\n",
       "            rubberband_canvas.setAttribute('height', height);\n",
       "\n",
       "            // And update the size in Python. We ignore the initial 0/0 size\n",
       "            // that occurs as the element is placed into the DOM, which should\n",
       "            // otherwise not happen due to the minimum size styling.\n",
       "            if (fig.ws.readyState == 1 && width != 0 && height != 0) {\n",
       "                fig.request_resize(width, height);\n",
       "            }\n",
       "        }\n",
       "    });\n",
       "    this.resizeObserverInstance.observe(canvas_div);\n",
       "\n",
       "    function on_mouse_event_closure(name) {\n",
       "        return function (event) {\n",
       "            return fig.mouse_event(event, name);\n",
       "        };\n",
       "    }\n",
       "\n",
       "    rubberband_canvas.addEventListener(\n",
       "        'mousedown',\n",
       "        on_mouse_event_closure('button_press')\n",
       "    );\n",
       "    rubberband_canvas.addEventListener(\n",
       "        'mouseup',\n",
       "        on_mouse_event_closure('button_release')\n",
       "    );\n",
       "    rubberband_canvas.addEventListener(\n",
       "        'dblclick',\n",
       "        on_mouse_event_closure('dblclick')\n",
       "    );\n",
       "    // Throttle sequential mouse events to 1 every 20ms.\n",
       "    rubberband_canvas.addEventListener(\n",
       "        'mousemove',\n",
       "        on_mouse_event_closure('motion_notify')\n",
       "    );\n",
       "\n",
       "    rubberband_canvas.addEventListener(\n",
       "        'mouseenter',\n",
       "        on_mouse_event_closure('figure_enter')\n",
       "    );\n",
       "    rubberband_canvas.addEventListener(\n",
       "        'mouseleave',\n",
       "        on_mouse_event_closure('figure_leave')\n",
       "    );\n",
       "\n",
       "    canvas_div.addEventListener('wheel', function (event) {\n",
       "        if (event.deltaY < 0) {\n",
       "            event.step = 1;\n",
       "        } else {\n",
       "            event.step = -1;\n",
       "        }\n",
       "        on_mouse_event_closure('scroll')(event);\n",
       "    });\n",
       "\n",
       "    canvas_div.appendChild(canvas);\n",
       "    canvas_div.appendChild(rubberband_canvas);\n",
       "\n",
       "    this.rubberband_context = rubberband_canvas.getContext('2d');\n",
       "    this.rubberband_context.strokeStyle = '#000000';\n",
       "\n",
       "    this._resize_canvas = function (width, height, forward) {\n",
       "        if (forward) {\n",
       "            canvas_div.style.width = width + 'px';\n",
       "            canvas_div.style.height = height + 'px';\n",
       "        }\n",
       "    };\n",
       "\n",
       "    // Disable right mouse context menu.\n",
       "    this.rubberband_canvas.addEventListener('contextmenu', function (_e) {\n",
       "        event.preventDefault();\n",
       "        return false;\n",
       "    });\n",
       "\n",
       "    function set_focus() {\n",
       "        canvas.focus();\n",
       "        canvas_div.focus();\n",
       "    }\n",
       "\n",
       "    window.setTimeout(set_focus, 100);\n",
       "};\n",
       "\n",
       "mpl.figure.prototype._init_toolbar = function () {\n",
       "    var fig = this;\n",
       "\n",
       "    var toolbar = document.createElement('div');\n",
       "    toolbar.classList = 'mpl-toolbar';\n",
       "    this.root.appendChild(toolbar);\n",
       "\n",
       "    function on_click_closure(name) {\n",
       "        return function (_event) {\n",
       "            return fig.toolbar_button_onclick(name);\n",
       "        };\n",
       "    }\n",
       "\n",
       "    function on_mouseover_closure(tooltip) {\n",
       "        return function (event) {\n",
       "            if (!event.currentTarget.disabled) {\n",
       "                return fig.toolbar_button_onmouseover(tooltip);\n",
       "            }\n",
       "        };\n",
       "    }\n",
       "\n",
       "    fig.buttons = {};\n",
       "    var buttonGroup = document.createElement('div');\n",
       "    buttonGroup.classList = 'mpl-button-group';\n",
       "    for (var toolbar_ind in mpl.toolbar_items) {\n",
       "        var name = mpl.toolbar_items[toolbar_ind][0];\n",
       "        var tooltip = mpl.toolbar_items[toolbar_ind][1];\n",
       "        var image = mpl.toolbar_items[toolbar_ind][2];\n",
       "        var method_name = mpl.toolbar_items[toolbar_ind][3];\n",
       "\n",
       "        if (!name) {\n",
       "            /* Instead of a spacer, we start a new button group. */\n",
       "            if (buttonGroup.hasChildNodes()) {\n",
       "                toolbar.appendChild(buttonGroup);\n",
       "            }\n",
       "            buttonGroup = document.createElement('div');\n",
       "            buttonGroup.classList = 'mpl-button-group';\n",
       "            continue;\n",
       "        }\n",
       "\n",
       "        var button = (fig.buttons[name] = document.createElement('button'));\n",
       "        button.classList = 'mpl-widget';\n",
       "        button.setAttribute('role', 'button');\n",
       "        button.setAttribute('aria-disabled', 'false');\n",
       "        button.addEventListener('click', on_click_closure(method_name));\n",
       "        button.addEventListener('mouseover', on_mouseover_closure(tooltip));\n",
       "\n",
       "        var icon_img = document.createElement('img');\n",
       "        icon_img.src = '_images/' + image + '.png';\n",
       "        icon_img.srcset = '_images/' + image + '_large.png 2x';\n",
       "        icon_img.alt = tooltip;\n",
       "        button.appendChild(icon_img);\n",
       "\n",
       "        buttonGroup.appendChild(button);\n",
       "    }\n",
       "\n",
       "    if (buttonGroup.hasChildNodes()) {\n",
       "        toolbar.appendChild(buttonGroup);\n",
       "    }\n",
       "\n",
       "    var fmt_picker = document.createElement('select');\n",
       "    fmt_picker.classList = 'mpl-widget';\n",
       "    toolbar.appendChild(fmt_picker);\n",
       "    this.format_dropdown = fmt_picker;\n",
       "\n",
       "    for (var ind in mpl.extensions) {\n",
       "        var fmt = mpl.extensions[ind];\n",
       "        var option = document.createElement('option');\n",
       "        option.selected = fmt === mpl.default_extension;\n",
       "        option.innerHTML = fmt;\n",
       "        fmt_picker.appendChild(option);\n",
       "    }\n",
       "\n",
       "    var status_bar = document.createElement('span');\n",
       "    status_bar.classList = 'mpl-message';\n",
       "    toolbar.appendChild(status_bar);\n",
       "    this.message = status_bar;\n",
       "};\n",
       "\n",
       "mpl.figure.prototype.request_resize = function (x_pixels, y_pixels) {\n",
       "    // Request matplotlib to resize the figure. Matplotlib will then trigger a resize in the client,\n",
       "    // which will in turn request a refresh of the image.\n",
       "    this.send_message('resize', { width: x_pixels, height: y_pixels });\n",
       "};\n",
       "\n",
       "mpl.figure.prototype.send_message = function (type, properties) {\n",
       "    properties['type'] = type;\n",
       "    properties['figure_id'] = this.id;\n",
       "    this.ws.send(JSON.stringify(properties));\n",
       "};\n",
       "\n",
       "mpl.figure.prototype.send_draw_message = function () {\n",
       "    if (!this.waiting) {\n",
       "        this.waiting = true;\n",
       "        this.ws.send(JSON.stringify({ type: 'draw', figure_id: this.id }));\n",
       "    }\n",
       "};\n",
       "\n",
       "mpl.figure.prototype.handle_save = function (fig, _msg) {\n",
       "    var format_dropdown = fig.format_dropdown;\n",
       "    var format = format_dropdown.options[format_dropdown.selectedIndex].value;\n",
       "    fig.ondownload(fig, format);\n",
       "};\n",
       "\n",
       "mpl.figure.prototype.handle_resize = function (fig, msg) {\n",
       "    var size = msg['size'];\n",
       "    if (size[0] !== fig.canvas.width || size[1] !== fig.canvas.height) {\n",
       "        fig._resize_canvas(size[0], size[1], msg['forward']);\n",
       "        fig.send_message('refresh', {});\n",
       "    }\n",
       "};\n",
       "\n",
       "mpl.figure.prototype.handle_rubberband = function (fig, msg) {\n",
       "    var x0 = msg['x0'] / fig.ratio;\n",
       "    var y0 = (fig.canvas.height - msg['y0']) / fig.ratio;\n",
       "    var x1 = msg['x1'] / fig.ratio;\n",
       "    var y1 = (fig.canvas.height - msg['y1']) / fig.ratio;\n",
       "    x0 = Math.floor(x0) + 0.5;\n",
       "    y0 = Math.floor(y0) + 0.5;\n",
       "    x1 = Math.floor(x1) + 0.5;\n",
       "    y1 = Math.floor(y1) + 0.5;\n",
       "    var min_x = Math.min(x0, x1);\n",
       "    var min_y = Math.min(y0, y1);\n",
       "    var width = Math.abs(x1 - x0);\n",
       "    var height = Math.abs(y1 - y0);\n",
       "\n",
       "    fig.rubberband_context.clearRect(\n",
       "        0,\n",
       "        0,\n",
       "        fig.canvas.width / fig.ratio,\n",
       "        fig.canvas.height / fig.ratio\n",
       "    );\n",
       "\n",
       "    fig.rubberband_context.strokeRect(min_x, min_y, width, height);\n",
       "};\n",
       "\n",
       "mpl.figure.prototype.handle_figure_label = function (fig, msg) {\n",
       "    // Updates the figure title.\n",
       "    fig.header.textContent = msg['label'];\n",
       "};\n",
       "\n",
       "mpl.figure.prototype.handle_cursor = function (fig, msg) {\n",
       "    fig.rubberband_canvas.style.cursor = msg['cursor'];\n",
       "};\n",
       "\n",
       "mpl.figure.prototype.handle_message = function (fig, msg) {\n",
       "    fig.message.textContent = msg['message'];\n",
       "};\n",
       "\n",
       "mpl.figure.prototype.handle_draw = function (fig, _msg) {\n",
       "    // Request the server to send over a new figure.\n",
       "    fig.send_draw_message();\n",
       "};\n",
       "\n",
       "mpl.figure.prototype.handle_image_mode = function (fig, msg) {\n",
       "    fig.image_mode = msg['mode'];\n",
       "};\n",
       "\n",
       "mpl.figure.prototype.handle_history_buttons = function (fig, msg) {\n",
       "    for (var key in msg) {\n",
       "        if (!(key in fig.buttons)) {\n",
       "            continue;\n",
       "        }\n",
       "        fig.buttons[key].disabled = !msg[key];\n",
       "        fig.buttons[key].setAttribute('aria-disabled', !msg[key]);\n",
       "    }\n",
       "};\n",
       "\n",
       "mpl.figure.prototype.handle_navigate_mode = function (fig, msg) {\n",
       "    if (msg['mode'] === 'PAN') {\n",
       "        fig.buttons['Pan'].classList.add('active');\n",
       "        fig.buttons['Zoom'].classList.remove('active');\n",
       "    } else if (msg['mode'] === 'ZOOM') {\n",
       "        fig.buttons['Pan'].classList.remove('active');\n",
       "        fig.buttons['Zoom'].classList.add('active');\n",
       "    } else {\n",
       "        fig.buttons['Pan'].classList.remove('active');\n",
       "        fig.buttons['Zoom'].classList.remove('active');\n",
       "    }\n",
       "};\n",
       "\n",
       "mpl.figure.prototype.updated_canvas_event = function () {\n",
       "    // Called whenever the canvas gets updated.\n",
       "    this.send_message('ack', {});\n",
       "};\n",
       "\n",
       "// A function to construct a web socket function for onmessage handling.\n",
       "// Called in the figure constructor.\n",
       "mpl.figure.prototype._make_on_message_function = function (fig) {\n",
       "    return function socket_on_message(evt) {\n",
       "        if (evt.data instanceof Blob) {\n",
       "            var img = evt.data;\n",
       "            if (img.type !== 'image/png') {\n",
       "                /* FIXME: We get \"Resource interpreted as Image but\n",
       "                 * transferred with MIME type text/plain:\" errors on\n",
       "                 * Chrome.  But how to set the MIME type?  It doesn't seem\n",
       "                 * to be part of the websocket stream */\n",
       "                img.type = 'image/png';\n",
       "            }\n",
       "\n",
       "            /* Free the memory for the previous frames */\n",
       "            if (fig.imageObj.src) {\n",
       "                (window.URL || window.webkitURL).revokeObjectURL(\n",
       "                    fig.imageObj.src\n",
       "                );\n",
       "            }\n",
       "\n",
       "            fig.imageObj.src = (window.URL || window.webkitURL).createObjectURL(\n",
       "                img\n",
       "            );\n",
       "            fig.updated_canvas_event();\n",
       "            fig.waiting = false;\n",
       "            return;\n",
       "        } else if (\n",
       "            typeof evt.data === 'string' &&\n",
       "            evt.data.slice(0, 21) === 'data:image/png;base64'\n",
       "        ) {\n",
       "            fig.imageObj.src = evt.data;\n",
       "            fig.updated_canvas_event();\n",
       "            fig.waiting = false;\n",
       "            return;\n",
       "        }\n",
       "\n",
       "        var msg = JSON.parse(evt.data);\n",
       "        var msg_type = msg['type'];\n",
       "\n",
       "        // Call the  \"handle_{type}\" callback, which takes\n",
       "        // the figure and JSON message as its only arguments.\n",
       "        try {\n",
       "            var callback = fig['handle_' + msg_type];\n",
       "        } catch (e) {\n",
       "            console.log(\n",
       "                \"No handler for the '\" + msg_type + \"' message type: \",\n",
       "                msg\n",
       "            );\n",
       "            return;\n",
       "        }\n",
       "\n",
       "        if (callback) {\n",
       "            try {\n",
       "                // console.log(\"Handling '\" + msg_type + \"' message: \", msg);\n",
       "                callback(fig, msg);\n",
       "            } catch (e) {\n",
       "                console.log(\n",
       "                    \"Exception inside the 'handler_\" + msg_type + \"' callback:\",\n",
       "                    e,\n",
       "                    e.stack,\n",
       "                    msg\n",
       "                );\n",
       "            }\n",
       "        }\n",
       "    };\n",
       "};\n",
       "\n",
       "// from https://stackoverflow.com/questions/1114465/getting-mouse-location-in-canvas\n",
       "mpl.findpos = function (e) {\n",
       "    //this section is from http://www.quirksmode.org/js/events_properties.html\n",
       "    var targ;\n",
       "    if (!e) {\n",
       "        e = window.event;\n",
       "    }\n",
       "    if (e.target) {\n",
       "        targ = e.target;\n",
       "    } else if (e.srcElement) {\n",
       "        targ = e.srcElement;\n",
       "    }\n",
       "    if (targ.nodeType === 3) {\n",
       "        // defeat Safari bug\n",
       "        targ = targ.parentNode;\n",
       "    }\n",
       "\n",
       "    // pageX,Y are the mouse positions relative to the document\n",
       "    var boundingRect = targ.getBoundingClientRect();\n",
       "    var x = e.pageX - (boundingRect.left + document.body.scrollLeft);\n",
       "    var y = e.pageY - (boundingRect.top + document.body.scrollTop);\n",
       "\n",
       "    return { x: x, y: y };\n",
       "};\n",
       "\n",
       "/*\n",
       " * return a copy of an object with only non-object keys\n",
       " * we need this to avoid circular references\n",
       " * https://stackoverflow.com/a/24161582/3208463\n",
       " */\n",
       "function simpleKeys(original) {\n",
       "    return Object.keys(original).reduce(function (obj, key) {\n",
       "        if (typeof original[key] !== 'object') {\n",
       "            obj[key] = original[key];\n",
       "        }\n",
       "        return obj;\n",
       "    }, {});\n",
       "}\n",
       "\n",
       "mpl.figure.prototype.mouse_event = function (event, name) {\n",
       "    var canvas_pos = mpl.findpos(event);\n",
       "\n",
       "    if (name === 'button_press') {\n",
       "        this.canvas.focus();\n",
       "        this.canvas_div.focus();\n",
       "    }\n",
       "\n",
       "    var x = canvas_pos.x * this.ratio;\n",
       "    var y = canvas_pos.y * this.ratio;\n",
       "\n",
       "    this.send_message(name, {\n",
       "        x: x,\n",
       "        y: y,\n",
       "        button: event.button,\n",
       "        step: event.step,\n",
       "        guiEvent: simpleKeys(event),\n",
       "    });\n",
       "\n",
       "    /* This prevents the web browser from automatically changing to\n",
       "     * the text insertion cursor when the button is pressed.  We want\n",
       "     * to control all of the cursor setting manually through the\n",
       "     * 'cursor' event from matplotlib */\n",
       "    event.preventDefault();\n",
       "    return false;\n",
       "};\n",
       "\n",
       "mpl.figure.prototype._key_event_extra = function (_event, _name) {\n",
       "    // Handle any extra behaviour associated with a key event\n",
       "};\n",
       "\n",
       "mpl.figure.prototype.key_event = function (event, name) {\n",
       "    // Prevent repeat events\n",
       "    if (name === 'key_press') {\n",
       "        if (event.key === this._key) {\n",
       "            return;\n",
       "        } else {\n",
       "            this._key = event.key;\n",
       "        }\n",
       "    }\n",
       "    if (name === 'key_release') {\n",
       "        this._key = null;\n",
       "    }\n",
       "\n",
       "    var value = '';\n",
       "    if (event.ctrlKey && event.key !== 'Control') {\n",
       "        value += 'ctrl+';\n",
       "    }\n",
       "    else if (event.altKey && event.key !== 'Alt') {\n",
       "        value += 'alt+';\n",
       "    }\n",
       "    else if (event.shiftKey && event.key !== 'Shift') {\n",
       "        value += 'shift+';\n",
       "    }\n",
       "\n",
       "    value += 'k' + event.key;\n",
       "\n",
       "    this._key_event_extra(event, name);\n",
       "\n",
       "    this.send_message(name, { key: value, guiEvent: simpleKeys(event) });\n",
       "    return false;\n",
       "};\n",
       "\n",
       "mpl.figure.prototype.toolbar_button_onclick = function (name) {\n",
       "    if (name === 'download') {\n",
       "        this.handle_save(this, null);\n",
       "    } else {\n",
       "        this.send_message('toolbar_button', { name: name });\n",
       "    }\n",
       "};\n",
       "\n",
       "mpl.figure.prototype.toolbar_button_onmouseover = function (tooltip) {\n",
       "    this.message.textContent = tooltip;\n",
       "};\n",
       "\n",
       "///////////////// REMAINING CONTENT GENERATED BY embed_js.py /////////////////\n",
       "// prettier-ignore\n",
       "var _JSXTOOLS_RESIZE_OBSERVER=function(A){var t,i=new WeakMap,n=new WeakMap,a=new WeakMap,r=new WeakMap,o=new Set;function s(e){if(!(this instanceof s))throw new TypeError(\"Constructor requires 'new' operator\");i.set(this,e)}function h(){throw new TypeError(\"Function is not a constructor\")}function c(e,t,i,n){e=0 in arguments?Number(arguments[0]):0,t=1 in arguments?Number(arguments[1]):0,i=2 in arguments?Number(arguments[2]):0,n=3 in arguments?Number(arguments[3]):0,this.right=(this.x=this.left=e)+(this.width=i),this.bottom=(this.y=this.top=t)+(this.height=n),Object.freeze(this)}function d(){t=requestAnimationFrame(d);var s=new WeakMap,p=new Set;o.forEach((function(t){r.get(t).forEach((function(i){var r=t instanceof window.SVGElement,o=a.get(t),d=r?0:parseFloat(o.paddingTop),f=r?0:parseFloat(o.paddingRight),l=r?0:parseFloat(o.paddingBottom),u=r?0:parseFloat(o.paddingLeft),g=r?0:parseFloat(o.borderTopWidth),m=r?0:parseFloat(o.borderRightWidth),w=r?0:parseFloat(o.borderBottomWidth),b=u+f,F=d+l,v=(r?0:parseFloat(o.borderLeftWidth))+m,W=g+w,y=r?0:t.offsetHeight-W-t.clientHeight,E=r?0:t.offsetWidth-v-t.clientWidth,R=b+v,z=F+W,M=r?t.width:parseFloat(o.width)-R-E,O=r?t.height:parseFloat(o.height)-z-y;if(n.has(t)){var k=n.get(t);if(k[0]===M&&k[1]===O)return}n.set(t,[M,O]);var S=Object.create(h.prototype);S.target=t,S.contentRect=new c(u,d,M,O),s.has(i)||(s.set(i,[]),p.add(i)),s.get(i).push(S)}))})),p.forEach((function(e){i.get(e).call(e,s.get(e),e)}))}return s.prototype.observe=function(i){if(i instanceof window.Element){r.has(i)||(r.set(i,new Set),o.add(i),a.set(i,window.getComputedStyle(i)));var n=r.get(i);n.has(this)||n.add(this),cancelAnimationFrame(t),t=requestAnimationFrame(d)}},s.prototype.unobserve=function(i){if(i instanceof window.Element&&r.has(i)){var n=r.get(i);n.has(this)&&(n.delete(this),n.size||(r.delete(i),o.delete(i))),n.size||r.delete(i),o.size||cancelAnimationFrame(t)}},A.DOMRectReadOnly=c,A.ResizeObserver=s,A.ResizeObserverEntry=h,A}; // eslint-disable-line\n",
       "mpl.toolbar_items = [[\"Home\", \"Reset original view\", \"fa fa-home icon-home\", \"home\"], [\"Back\", \"Back to previous view\", \"fa fa-arrow-left icon-arrow-left\", \"back\"], [\"Forward\", \"Forward to next view\", \"fa fa-arrow-right icon-arrow-right\", \"forward\"], [\"\", \"\", \"\", \"\"], [\"Pan\", \"Left button pans, Right button zooms\\nx/y fixes axis, CTRL fixes aspect\", \"fa fa-arrows icon-move\", \"pan\"], [\"Zoom\", \"Zoom to rectangle\\nx/y fixes axis\", \"fa fa-square-o icon-check-empty\", \"zoom\"], [\"\", \"\", \"\", \"\"], [\"Download\", \"Download plot\", \"fa fa-floppy-o icon-save\", \"download\"]];\n",
       "\n",
       "mpl.extensions = [\"eps\", \"jpeg\", \"pgf\", \"pdf\", \"png\", \"ps\", \"raw\", \"svg\", \"tif\"];\n",
       "\n",
       "mpl.default_extension = \"png\";/* global mpl */\n",
       "\n",
       "var comm_websocket_adapter = function (comm) {\n",
       "    // Create a \"websocket\"-like object which calls the given IPython comm\n",
       "    // object with the appropriate methods. Currently this is a non binary\n",
       "    // socket, so there is still some room for performance tuning.\n",
       "    var ws = {};\n",
       "\n",
       "    ws.binaryType = comm.kernel.ws.binaryType;\n",
       "    ws.readyState = comm.kernel.ws.readyState;\n",
       "    function updateReadyState(_event) {\n",
       "        if (comm.kernel.ws) {\n",
       "            ws.readyState = comm.kernel.ws.readyState;\n",
       "        } else {\n",
       "            ws.readyState = 3; // Closed state.\n",
       "        }\n",
       "    }\n",
       "    comm.kernel.ws.addEventListener('open', updateReadyState);\n",
       "    comm.kernel.ws.addEventListener('close', updateReadyState);\n",
       "    comm.kernel.ws.addEventListener('error', updateReadyState);\n",
       "\n",
       "    ws.close = function () {\n",
       "        comm.close();\n",
       "    };\n",
       "    ws.send = function (m) {\n",
       "        //console.log('sending', m);\n",
       "        comm.send(m);\n",
       "    };\n",
       "    // Register the callback with on_msg.\n",
       "    comm.on_msg(function (msg) {\n",
       "        //console.log('receiving', msg['content']['data'], msg);\n",
       "        var data = msg['content']['data'];\n",
       "        if (data['blob'] !== undefined) {\n",
       "            data = {\n",
       "                data: new Blob(msg['buffers'], { type: data['blob'] }),\n",
       "            };\n",
       "        }\n",
       "        // Pass the mpl event to the overridden (by mpl) onmessage function.\n",
       "        ws.onmessage(data);\n",
       "    });\n",
       "    return ws;\n",
       "};\n",
       "\n",
       "mpl.mpl_figure_comm = function (comm, msg) {\n",
       "    // This is the function which gets called when the mpl process\n",
       "    // starts-up an IPython Comm through the \"matplotlib\" channel.\n",
       "\n",
       "    var id = msg.content.data.id;\n",
       "    // Get hold of the div created by the display call when the Comm\n",
       "    // socket was opened in Python.\n",
       "    var element = document.getElementById(id);\n",
       "    var ws_proxy = comm_websocket_adapter(comm);\n",
       "\n",
       "    function ondownload(figure, _format) {\n",
       "        window.open(figure.canvas.toDataURL());\n",
       "    }\n",
       "\n",
       "    var fig = new mpl.figure(id, ws_proxy, ondownload, element);\n",
       "\n",
       "    // Call onopen now - mpl needs it, as it is assuming we've passed it a real\n",
       "    // web socket which is closed, not our websocket->open comm proxy.\n",
       "    ws_proxy.onopen();\n",
       "\n",
       "    fig.parent_element = element;\n",
       "    fig.cell_info = mpl.find_output_cell(\"<div id='\" + id + \"'></div>\");\n",
       "    if (!fig.cell_info) {\n",
       "        console.error('Failed to find cell for figure', id, fig);\n",
       "        return;\n",
       "    }\n",
       "    fig.cell_info[0].output_area.element.on(\n",
       "        'cleared',\n",
       "        { fig: fig },\n",
       "        fig._remove_fig_handler\n",
       "    );\n",
       "};\n",
       "\n",
       "mpl.figure.prototype.handle_close = function (fig, msg) {\n",
       "    var width = fig.canvas.width / fig.ratio;\n",
       "    fig.cell_info[0].output_area.element.off(\n",
       "        'cleared',\n",
       "        fig._remove_fig_handler\n",
       "    );\n",
       "    fig.resizeObserverInstance.unobserve(fig.canvas_div);\n",
       "\n",
       "    // Update the output cell to use the data from the current canvas.\n",
       "    fig.push_to_output();\n",
       "    var dataURL = fig.canvas.toDataURL();\n",
       "    // Re-enable the keyboard manager in IPython - without this line, in FF,\n",
       "    // the notebook keyboard shortcuts fail.\n",
       "    IPython.keyboard_manager.enable();\n",
       "    fig.parent_element.innerHTML =\n",
       "        '<img src=\"' + dataURL + '\" width=\"' + width + '\">';\n",
       "    fig.close_ws(fig, msg);\n",
       "};\n",
       "\n",
       "mpl.figure.prototype.close_ws = function (fig, msg) {\n",
       "    fig.send_message('closing', msg);\n",
       "    // fig.ws.close()\n",
       "};\n",
       "\n",
       "mpl.figure.prototype.push_to_output = function (_remove_interactive) {\n",
       "    // Turn the data on the canvas into data in the output cell.\n",
       "    var width = this.canvas.width / this.ratio;\n",
       "    var dataURL = this.canvas.toDataURL();\n",
       "    this.cell_info[1]['text/html'] =\n",
       "        '<img src=\"' + dataURL + '\" width=\"' + width + '\">';\n",
       "};\n",
       "\n",
       "mpl.figure.prototype.updated_canvas_event = function () {\n",
       "    // Tell IPython that the notebook contents must change.\n",
       "    IPython.notebook.set_dirty(true);\n",
       "    this.send_message('ack', {});\n",
       "    var fig = this;\n",
       "    // Wait a second, then push the new image to the DOM so\n",
       "    // that it is saved nicely (might be nice to debounce this).\n",
       "    setTimeout(function () {\n",
       "        fig.push_to_output();\n",
       "    }, 1000);\n",
       "};\n",
       "\n",
       "mpl.figure.prototype._init_toolbar = function () {\n",
       "    var fig = this;\n",
       "\n",
       "    var toolbar = document.createElement('div');\n",
       "    toolbar.classList = 'btn-toolbar';\n",
       "    this.root.appendChild(toolbar);\n",
       "\n",
       "    function on_click_closure(name) {\n",
       "        return function (_event) {\n",
       "            return fig.toolbar_button_onclick(name);\n",
       "        };\n",
       "    }\n",
       "\n",
       "    function on_mouseover_closure(tooltip) {\n",
       "        return function (event) {\n",
       "            if (!event.currentTarget.disabled) {\n",
       "                return fig.toolbar_button_onmouseover(tooltip);\n",
       "            }\n",
       "        };\n",
       "    }\n",
       "\n",
       "    fig.buttons = {};\n",
       "    var buttonGroup = document.createElement('div');\n",
       "    buttonGroup.classList = 'btn-group';\n",
       "    var button;\n",
       "    for (var toolbar_ind in mpl.toolbar_items) {\n",
       "        var name = mpl.toolbar_items[toolbar_ind][0];\n",
       "        var tooltip = mpl.toolbar_items[toolbar_ind][1];\n",
       "        var image = mpl.toolbar_items[toolbar_ind][2];\n",
       "        var method_name = mpl.toolbar_items[toolbar_ind][3];\n",
       "\n",
       "        if (!name) {\n",
       "            /* Instead of a spacer, we start a new button group. */\n",
       "            if (buttonGroup.hasChildNodes()) {\n",
       "                toolbar.appendChild(buttonGroup);\n",
       "            }\n",
       "            buttonGroup = document.createElement('div');\n",
       "            buttonGroup.classList = 'btn-group';\n",
       "            continue;\n",
       "        }\n",
       "\n",
       "        button = fig.buttons[name] = document.createElement('button');\n",
       "        button.classList = 'btn btn-default';\n",
       "        button.href = '#';\n",
       "        button.title = name;\n",
       "        button.innerHTML = '<i class=\"fa ' + image + ' fa-lg\"></i>';\n",
       "        button.addEventListener('click', on_click_closure(method_name));\n",
       "        button.addEventListener('mouseover', on_mouseover_closure(tooltip));\n",
       "        buttonGroup.appendChild(button);\n",
       "    }\n",
       "\n",
       "    if (buttonGroup.hasChildNodes()) {\n",
       "        toolbar.appendChild(buttonGroup);\n",
       "    }\n",
       "\n",
       "    // Add the status bar.\n",
       "    var status_bar = document.createElement('span');\n",
       "    status_bar.classList = 'mpl-message pull-right';\n",
       "    toolbar.appendChild(status_bar);\n",
       "    this.message = status_bar;\n",
       "\n",
       "    // Add the close button to the window.\n",
       "    var buttongrp = document.createElement('div');\n",
       "    buttongrp.classList = 'btn-group inline pull-right';\n",
       "    button = document.createElement('button');\n",
       "    button.classList = 'btn btn-mini btn-primary';\n",
       "    button.href = '#';\n",
       "    button.title = 'Stop Interaction';\n",
       "    button.innerHTML = '<i class=\"fa fa-power-off icon-remove icon-large\"></i>';\n",
       "    button.addEventListener('click', function (_evt) {\n",
       "        fig.handle_close(fig, {});\n",
       "    });\n",
       "    button.addEventListener(\n",
       "        'mouseover',\n",
       "        on_mouseover_closure('Stop Interaction')\n",
       "    );\n",
       "    buttongrp.appendChild(button);\n",
       "    var titlebar = this.root.querySelector('.ui-dialog-titlebar');\n",
       "    titlebar.insertBefore(buttongrp, titlebar.firstChild);\n",
       "};\n",
       "\n",
       "mpl.figure.prototype._remove_fig_handler = function (event) {\n",
       "    var fig = event.data.fig;\n",
       "    if (event.target !== this) {\n",
       "        // Ignore bubbled events from children.\n",
       "        return;\n",
       "    }\n",
       "    fig.close_ws(fig, {});\n",
       "};\n",
       "\n",
       "mpl.figure.prototype._root_extra_style = function (el) {\n",
       "    el.style.boxSizing = 'content-box'; // override notebook setting of border-box.\n",
       "};\n",
       "\n",
       "mpl.figure.prototype._canvas_extra_style = function (el) {\n",
       "    // this is important to make the div 'focusable\n",
       "    el.setAttribute('tabindex', 0);\n",
       "    // reach out to IPython and tell the keyboard manager to turn it's self\n",
       "    // off when our div gets focus\n",
       "\n",
       "    // location in version 3\n",
       "    if (IPython.notebook.keyboard_manager) {\n",
       "        IPython.notebook.keyboard_manager.register_events(el);\n",
       "    } else {\n",
       "        // location in version 2\n",
       "        IPython.keyboard_manager.register_events(el);\n",
       "    }\n",
       "};\n",
       "\n",
       "mpl.figure.prototype._key_event_extra = function (event, _name) {\n",
       "    // Check for shift+enter\n",
       "    if (event.shiftKey && event.which === 13) {\n",
       "        this.canvas_div.blur();\n",
       "        // select the cell after this one\n",
       "        var index = IPython.notebook.find_cell_index(this.cell_info[0]);\n",
       "        IPython.notebook.select(index + 1);\n",
       "    }\n",
       "};\n",
       "\n",
       "mpl.figure.prototype.handle_save = function (fig, _msg) {\n",
       "    fig.ondownload(fig, null);\n",
       "};\n",
       "\n",
       "mpl.find_output_cell = function (html_output) {\n",
       "    // Return the cell and output element which can be found *uniquely* in the notebook.\n",
       "    // Note - this is a bit hacky, but it is done because the \"notebook_saving.Notebook\"\n",
       "    // IPython event is triggered only after the cells have been serialised, which for\n",
       "    // our purposes (turning an active figure into a static one), is too late.\n",
       "    var cells = IPython.notebook.get_cells();\n",
       "    var ncells = cells.length;\n",
       "    for (var i = 0; i < ncells; i++) {\n",
       "        var cell = cells[i];\n",
       "        if (cell.cell_type === 'code') {\n",
       "            for (var j = 0; j < cell.output_area.outputs.length; j++) {\n",
       "                var data = cell.output_area.outputs[j];\n",
       "                if (data.data) {\n",
       "                    // IPython >= 3 moved mimebundle to data attribute of output\n",
       "                    data = data.data;\n",
       "                }\n",
       "                if (data['text/html'] === html_output) {\n",
       "                    return [cell, data, j];\n",
       "                }\n",
       "            }\n",
       "        }\n",
       "    }\n",
       "};\n",
       "\n",
       "// Register the function which deals with the matplotlib target/channel.\n",
       "// The kernel may be null if the page has been refreshed.\n",
       "if (IPython.notebook.kernel !== null) {\n",
       "    IPython.notebook.kernel.comm_manager.register_target(\n",
       "        'matplotlib',\n",
       "        mpl.mpl_figure_comm\n",
       "    );\n",
       "}\n"
      ],
      "text/plain": [
       "<IPython.core.display.Javascript object>"
      ]
     },
     "metadata": {},
     "output_type": "display_data"
    },
    {
     "data": {
      "text/html": [
       "<img src=\"data:image/png;base64,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\" width=\"432\">"
      ],
      "text/plain": [
       "<IPython.core.display.HTML object>"
      ]
     },
     "metadata": {},
     "output_type": "display_data"
    }
   ],
   "source": [
    "# Run code\n",
    "plot_2D_regression(x_val5, ylst5, mods_w5, mods_b5)  "
   ]
  },
  {
   "cell_type": "code",
   "execution_count": 60,
   "id": "a8935310",
   "metadata": {
    "id": "a8935310"
   },
   "outputs": [],
   "source": [
    "# Key global variables \n",
    "samples_n6  = 32\n",
    "x_seed_val6 = [6, 15]\n",
    "mw6    =  [3, 7]\n",
    "mb6    = -3\n",
    "sigma6 = 10.0\n",
    "x_min = 0\n",
    "x_max = 50\n",
    "shuffle_seed6  = 9\n",
    "seed_min6 = 10\n",
    "seed_num6 = 32"
   ]
  },
  {
   "cell_type": "markdown",
   "id": "75780420",
   "metadata": {
    "id": "75780420"
   },
   "source": [
    "**Enter code**\n",
    "\n",
    "In cell below, write your code to generate variables $x_1$ and $x_2$ based the new `sample_n6`.\n",
    " "
   ]
  },
  {
   "cell_type": "code",
   "execution_count": 61,
   "id": "ef5c7ec0",
   "metadata": {
    "colab": {
     "base_uri": "https://localhost:8080/",
     "height": 34
    },
    "id": "ef5c7ec0",
    "outputId": "7c57b1b6-eeb5-427c-ac65-27043eb23c06"
   },
   "outputs": [
    {
     "name": "stdout",
     "output_type": "stream",
     "text": [
      "x values: [26.9  29.59]\n"
     ]
    }
   ],
   "source": [
    "# Enter code \n",
    "x1_val6 = gen_x_vals(samples_n6, x_seed_val6[0])\n",
    "x2_val6 = x1_val6 * 1.1\n",
    "\n",
    "x_val6 = np.vstack((x1_val6, x2_val6))\n",
    "x_val6 = np.array(x_val6).T\n",
    "print(f'x values: {x_val6[0]}')"
   ]
  },
  {
   "cell_type": "markdown",
   "id": "946af379",
   "metadata": {
    "id": "946af379"
   },
   "source": [
    "**Run Code**"
   ]
  },
  {
   "cell_type": "code",
   "execution_count": 62,
   "id": "33552993",
   "metadata": {
    "colab": {
     "base_uri": "https://localhost:8080/",
     "height": 124
    },
    "id": "33552993",
    "outputId": "6ad5864f-a158-4d47-89fb-e99156611396"
   },
   "outputs": [
    {
     "name": "stdout",
     "output_type": "stream",
     "text": [
      "Ture coefficient w is 3, and b is -5\n",
      "\n",
      "mean of coefficients w is [4.854 5.34 ], mean of coefficients b is -3.814\n",
      "\n",
      "Standard deviation of coefficients w is [0.051 0.056], standard deviation of coefficients b is 2.939\n"
     ]
    }
   ],
   "source": [
    "# Run Code \n",
    "\n",
    "y6, ylst6 = generate_multiple_2D_regression_problems(x_val6, samples_n6, shuffle_seed6, seed_num6, seed_min6, mw6, mb6, sigma6) \n",
    "\n",
    "mods_w6, mods_b6, y_fitlst6, mse6, r26 = run_regression_on_2D_multiple_examples(x_val6, ylst6)\n",
    "\n",
    "print(f'Ture coefficient w is {mw2}, and b is {mb2}\\n')\n",
    "\n",
    "print(f'mean of coefficients w is {np.round(np.mean(mods_w6, 0),3)}, mean of coefficients b is {np.round(np.mean(mods_b6), 3)}\\n')\n",
    "\n",
    "print(f'Standard deviation of coefficients w is {np.round(np.std(mods_w6, 0), 3)}, standard deviation of coefficients b is {np.round(np.std(mods_b6), 3)}')"
   ]
  },
  {
   "cell_type": "code",
   "execution_count": null,
   "id": "e0393303",
   "metadata": {},
   "outputs": [],
   "source": []
  }
 ],
 "metadata": {
  "colab": {
   "name": "Copy of Exercise_02.ipynb",
   "provenance": []
  },
  "kernelspec": {
   "display_name": "Python 3 (ipykernel)",
   "language": "python",
   "name": "python3"
  },
  "language_info": {
   "codemirror_mode": {
    "name": "ipython",
    "version": 3
   },
   "file_extension": ".py",
   "mimetype": "text/x-python",
   "name": "python",
   "nbconvert_exporter": "python",
   "pygments_lexer": "ipython3",
   "version": "3.9.9"
  }
 },
 "nbformat": 4,
 "nbformat_minor": 5
}
