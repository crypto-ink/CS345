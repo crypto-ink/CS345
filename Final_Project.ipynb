{
  "nbformat": 4,
  "nbformat_minor": 0,
  "metadata": {
    "colab": {
      "name": "Final Project",
      "provenance": [],
      "collapsed_sections": []
    },
    "kernelspec": {
      "name": "python3",
      "display_name": "Python 3"
    },
    "language_info": {
      "name": "python"
    }
  },
  "cells": [
    {
      "cell_type": "markdown",
      "source": [
        "# *Introduction*"
      ],
      "metadata": {
        "id": "YfWPKTsKSSH5"
      }
    },
    {
      "cell_type": "markdown",
      "source": [
        "The topic of this final project is to test the differences between two different regression models in order to see which model is best suited for this specific dataset.\n",
        "\n",
        "The dataset that was chosen is the California Housing Dataset from sckit-learn datasets.\n",
        "\n",
        "The two models that were chosen were the decision tree regresional model aswellas the nueral network MLPRegressor. Both of these models will be compared with the standard sckit-learn Linear regression model to see how decisions trees and using a nueral network for regression changes the results.\n",
        "\n",
        "Much credit and thanks is due to the documentation of the models which was used to build and test the models. The following websites were used in the creation of this model\n",
        "\n",
        "-https://scikit-learn.org/stable/modules/tree.html#regression\n",
        "\n",
        "-https://scikit-learn.org/stable/modules/generated/sklearn.tree.DecisionTreeRegressor.html#sklearn.tree.DecisionTreeRegressor\n",
        "\n",
        "-https://scikit-learn.org/stable/modules/generated/sklearn.neural_network.MLPRegressor.html#sklearn.neural_network.MLPRegressor\n",
        "\n",
        "-https://inria.github.io/scikit-learn-mooc/python_scripts/datasets_california_housing.html\n",
        "\n",
        "The Project was also setup using guidelines and following a similar procedure form Assignment 3 of CS345\n"
      ],
      "metadata": {
        "id": "k-asCO1CZbw0"
      }
    },
    {
      "cell_type": "markdown",
      "source": [
        "# Setup"
      ],
      "metadata": {
        "id": "XVxrGQZ1SjtC"
      }
    },
    {
      "cell_type": "code",
      "source": [
        "\n",
        "import pandas\n",
        "import numpy\n",
        "import matplotlib.pyplot as plt\n",
        "import sklearn.datasets\n",
        "from sklearn.neural_network import MLPClassifier\n",
        "from sklearn import tree\n",
        "from sklearn.linear_model import LinearRegression\n",
        "from sklearn.model_selection import train_test_split\n",
        "from sklearn.metrics import mean_squared_error\n",
        "from sklearn.metrics import mean_absolute_error\n",
        "%matplotlib inline"
      ],
      "metadata": {
        "id": "LxTWSNTpSxG8"
      },
      "execution_count": 282,
      "outputs": []
    },
    {
      "cell_type": "markdown",
      "source": [
        "# Loading the Dataset"
      ],
      "metadata": {
        "id": "acHo-bNaSSMT"
      }
    },
    {
      "cell_type": "code",
      "source": [
        "\n",
        "data = sklearn.datasets.fetch_california_housing(as_frame = True)\n",
        "print(data.frame.head())"
      ],
      "metadata": {
        "colab": {
          "base_uri": "https://localhost:8080/",
          "height": 0
        },
        "id": "eDhcRQmySxit",
        "outputId": "d0cfea8c-f1ee-49b4-abb7-39d872dc2225"
      },
      "execution_count": 283,
      "outputs": [
        {
          "output_type": "stream",
          "name": "stdout",
          "text": [
            "   MedInc  HouseAge  AveRooms  ...  Latitude  Longitude  MedHouseVal\n",
            "0  8.3252      41.0  6.984127  ...     37.88    -122.23        4.526\n",
            "1  8.3014      21.0  6.238137  ...     37.86    -122.22        3.585\n",
            "2  7.2574      52.0  8.288136  ...     37.85    -122.24        3.521\n",
            "3  5.6431      52.0  5.817352  ...     37.85    -122.25        3.413\n",
            "4  3.8462      52.0  6.281853  ...     37.85    -122.25        3.422\n",
            "\n",
            "[5 rows x 9 columns]\n"
          ]
        }
      ]
    },
    {
      "cell_type": "markdown",
      "source": [
        "### Finding Correlation from Datset"
      ],
      "metadata": {
        "id": "-bRV5qrjW07V"
      }
    },
    {
      "cell_type": "code",
      "source": [
        "\n",
        "data.frame.corr()"
      ],
      "metadata": {
        "colab": {
          "base_uri": "https://localhost:8080/",
          "height": 352
        },
        "id": "bkq4AN0QW7vZ",
        "outputId": "4a4d0df0-d8a7-40ca-8cac-2eb77d1486d3"
      },
      "execution_count": 284,
      "outputs": [
        {
          "output_type": "execute_result",
          "data": {
            "text/html": [
              "<div>\n",
              "<style scoped>\n",
              "    .dataframe tbody tr th:only-of-type {\n",
              "        vertical-align: middle;\n",
              "    }\n",
              "\n",
              "    .dataframe tbody tr th {\n",
              "        vertical-align: top;\n",
              "    }\n",
              "\n",
              "    .dataframe thead th {\n",
              "        text-align: right;\n",
              "    }\n",
              "</style>\n",
              "<table border=\"1\" class=\"dataframe\">\n",
              "  <thead>\n",
              "    <tr style=\"text-align: right;\">\n",
              "      <th></th>\n",
              "      <th>MedInc</th>\n",
              "      <th>HouseAge</th>\n",
              "      <th>AveRooms</th>\n",
              "      <th>AveBedrms</th>\n",
              "      <th>Population</th>\n",
              "      <th>AveOccup</th>\n",
              "      <th>Latitude</th>\n",
              "      <th>Longitude</th>\n",
              "      <th>MedHouseVal</th>\n",
              "    </tr>\n",
              "  </thead>\n",
              "  <tbody>\n",
              "    <tr>\n",
              "      <th>MedInc</th>\n",
              "      <td>1.000000</td>\n",
              "      <td>-0.119034</td>\n",
              "      <td>0.326895</td>\n",
              "      <td>-0.062040</td>\n",
              "      <td>0.004834</td>\n",
              "      <td>0.018766</td>\n",
              "      <td>-0.079809</td>\n",
              "      <td>-0.015176</td>\n",
              "      <td>0.688075</td>\n",
              "    </tr>\n",
              "    <tr>\n",
              "      <th>HouseAge</th>\n",
              "      <td>-0.119034</td>\n",
              "      <td>1.000000</td>\n",
              "      <td>-0.153277</td>\n",
              "      <td>-0.077747</td>\n",
              "      <td>-0.296244</td>\n",
              "      <td>0.013191</td>\n",
              "      <td>0.011173</td>\n",
              "      <td>-0.108197</td>\n",
              "      <td>0.105623</td>\n",
              "    </tr>\n",
              "    <tr>\n",
              "      <th>AveRooms</th>\n",
              "      <td>0.326895</td>\n",
              "      <td>-0.153277</td>\n",
              "      <td>1.000000</td>\n",
              "      <td>0.847621</td>\n",
              "      <td>-0.072213</td>\n",
              "      <td>-0.004852</td>\n",
              "      <td>0.106389</td>\n",
              "      <td>-0.027540</td>\n",
              "      <td>0.151948</td>\n",
              "    </tr>\n",
              "    <tr>\n",
              "      <th>AveBedrms</th>\n",
              "      <td>-0.062040</td>\n",
              "      <td>-0.077747</td>\n",
              "      <td>0.847621</td>\n",
              "      <td>1.000000</td>\n",
              "      <td>-0.066197</td>\n",
              "      <td>-0.006181</td>\n",
              "      <td>0.069721</td>\n",
              "      <td>0.013344</td>\n",
              "      <td>-0.046701</td>\n",
              "    </tr>\n",
              "    <tr>\n",
              "      <th>Population</th>\n",
              "      <td>0.004834</td>\n",
              "      <td>-0.296244</td>\n",
              "      <td>-0.072213</td>\n",
              "      <td>-0.066197</td>\n",
              "      <td>1.000000</td>\n",
              "      <td>0.069863</td>\n",
              "      <td>-0.108785</td>\n",
              "      <td>0.099773</td>\n",
              "      <td>-0.024650</td>\n",
              "    </tr>\n",
              "    <tr>\n",
              "      <th>AveOccup</th>\n",
              "      <td>0.018766</td>\n",
              "      <td>0.013191</td>\n",
              "      <td>-0.004852</td>\n",
              "      <td>-0.006181</td>\n",
              "      <td>0.069863</td>\n",
              "      <td>1.000000</td>\n",
              "      <td>0.002366</td>\n",
              "      <td>0.002476</td>\n",
              "      <td>-0.023737</td>\n",
              "    </tr>\n",
              "    <tr>\n",
              "      <th>Latitude</th>\n",
              "      <td>-0.079809</td>\n",
              "      <td>0.011173</td>\n",
              "      <td>0.106389</td>\n",
              "      <td>0.069721</td>\n",
              "      <td>-0.108785</td>\n",
              "      <td>0.002366</td>\n",
              "      <td>1.000000</td>\n",
              "      <td>-0.924664</td>\n",
              "      <td>-0.144160</td>\n",
              "    </tr>\n",
              "    <tr>\n",
              "      <th>Longitude</th>\n",
              "      <td>-0.015176</td>\n",
              "      <td>-0.108197</td>\n",
              "      <td>-0.027540</td>\n",
              "      <td>0.013344</td>\n",
              "      <td>0.099773</td>\n",
              "      <td>0.002476</td>\n",
              "      <td>-0.924664</td>\n",
              "      <td>1.000000</td>\n",
              "      <td>-0.045967</td>\n",
              "    </tr>\n",
              "    <tr>\n",
              "      <th>MedHouseVal</th>\n",
              "      <td>0.688075</td>\n",
              "      <td>0.105623</td>\n",
              "      <td>0.151948</td>\n",
              "      <td>-0.046701</td>\n",
              "      <td>-0.024650</td>\n",
              "      <td>-0.023737</td>\n",
              "      <td>-0.144160</td>\n",
              "      <td>-0.045967</td>\n",
              "      <td>1.000000</td>\n",
              "    </tr>\n",
              "  </tbody>\n",
              "</table>\n",
              "</div>"
            ],
            "text/plain": [
              "               MedInc  HouseAge  AveRooms  ...  Latitude  Longitude  MedHouseVal\n",
              "MedInc       1.000000 -0.119034  0.326895  ... -0.079809  -0.015176     0.688075\n",
              "HouseAge    -0.119034  1.000000 -0.153277  ...  0.011173  -0.108197     0.105623\n",
              "AveRooms     0.326895 -0.153277  1.000000  ...  0.106389  -0.027540     0.151948\n",
              "AveBedrms   -0.062040 -0.077747  0.847621  ...  0.069721   0.013344    -0.046701\n",
              "Population   0.004834 -0.296244 -0.072213  ... -0.108785   0.099773    -0.024650\n",
              "AveOccup     0.018766  0.013191 -0.004852  ...  0.002366   0.002476    -0.023737\n",
              "Latitude    -0.079809  0.011173  0.106389  ...  1.000000  -0.924664    -0.144160\n",
              "Longitude   -0.015176 -0.108197 -0.027540  ... -0.924664   1.000000    -0.045967\n",
              "MedHouseVal  0.688075  0.105623  0.151948  ... -0.144160  -0.045967     1.000000\n",
              "\n",
              "[9 rows x 9 columns]"
            ]
          },
          "metadata": {},
          "execution_count": 284
        }
      ]
    },
    {
      "cell_type": "markdown",
      "source": [
        "### Plotting Features"
      ],
      "metadata": {
        "id": "87PdHicx4A8d"
      }
    },
    {
      "cell_type": "markdown",
      "source": [
        "### Splitting Data into training and testing single variable with highest correlation"
      ],
      "metadata": {
        "id": "ttNgM2RzjdFa"
      }
    },
    {
      "cell_type": "code",
      "source": [
        "\n",
        "y = data.frame[\"MedHouseVal\"].values * 1000\n",
        "X = data.frame[\"MedInc\"].values\n",
        "yint = y.astype('int')"
      ],
      "metadata": {
        "id": "uhYPhmqFYmCK"
      },
      "execution_count": 285,
      "outputs": []
    },
    {
      "cell_type": "markdown",
      "source": [
        "# Setup ML Models"
      ],
      "metadata": {
        "id": "TvmoWAx8SSSL"
      }
    },
    {
      "cell_type": "markdown",
      "source": [
        "### Setting up base model"
      ],
      "metadata": {
        "id": "qe0vkr_hf1Xp"
      }
    },
    {
      "cell_type": "code",
      "source": [
        "\n",
        "linear = LinearRegression()"
      ],
      "metadata": {
        "id": "RR-dQGLnf07_"
      },
      "execution_count": 286,
      "outputs": []
    },
    {
      "cell_type": "markdown",
      "source": [
        "### Setting up NN model"
      ],
      "metadata": {
        "id": "BSKt-uoWuerX"
      }
    },
    {
      "cell_type": "code",
      "source": [
        "\n",
        "clf = MLPClassifier(hidden_layer_sizes=(5,2),\n",
        "                    activation = 'relu',\n",
        "                    solver='adam',\n",
        "                    alpha = 1e-5)"
      ],
      "metadata": {
        "id": "T0XQrObbSx92"
      },
      "execution_count": 287,
      "outputs": []
    },
    {
      "cell_type": "markdown",
      "source": [
        "### Setting up Regression Decision Tree "
      ],
      "metadata": {
        "id": "W2XQkpThukGi"
      }
    },
    {
      "cell_type": "code",
      "source": [
        "\n",
        "clftree = tree.DecisionTreeRegressor()"
      ],
      "metadata": {
        "id": "x-k1gs9aujl1"
      },
      "execution_count": 288,
      "outputs": []
    },
    {
      "cell_type": "markdown",
      "source": [
        "# Executing the models on a single variable"
      ],
      "metadata": {
        "id": "i-GYjUfISSWF"
      }
    },
    {
      "cell_type": "markdown",
      "source": [
        "### Fitting the Linear model"
      ],
      "metadata": {
        "id": "PG1EjVj_gaXB"
      }
    },
    {
      "cell_type": "code",
      "source": [
        "linear.fit(np.reshape(X, (-1,1)),y)"
      ],
      "metadata": {
        "colab": {
          "base_uri": "https://localhost:8080/",
          "height": 0
        },
        "id": "gdCwMV_sga4u",
        "outputId": "6bc9f882-5765-48b4-ce65-ea30bb1959d7"
      },
      "execution_count": 289,
      "outputs": [
        {
          "output_type": "execute_result",
          "data": {
            "text/plain": [
              "LinearRegression()"
            ]
          },
          "metadata": {},
          "execution_count": 289
        }
      ]
    },
    {
      "cell_type": "markdown",
      "source": [
        "### Fitting the NN Regression model"
      ],
      "metadata": {
        "id": "UKNRqlxlvQ3P"
      }
    },
    {
      "cell_type": "code",
      "source": [
        "\n",
        "clf.fit(np.reshape(X, (-1,1)),yint)"
      ],
      "metadata": {
        "colab": {
          "base_uri": "https://localhost:8080/",
          "height": 0
        },
        "id": "urw0rKY_Sybn",
        "outputId": "6586ca44-41d4-437a-e6a6-a8b8b65ae126"
      },
      "execution_count": 290,
      "outputs": [
        {
          "output_type": "stream",
          "name": "stderr",
          "text": [
            "/usr/local/lib/python3.7/dist-packages/sklearn/neural_network/_multilayer_perceptron.py:696: ConvergenceWarning: Stochastic Optimizer: Maximum iterations (200) reached and the optimization hasn't converged yet.\n",
            "  ConvergenceWarning,\n"
          ]
        },
        {
          "output_type": "execute_result",
          "data": {
            "text/plain": [
              "MLPClassifier(alpha=1e-05, hidden_layer_sizes=(5, 2))"
            ]
          },
          "metadata": {},
          "execution_count": 290
        }
      ]
    },
    {
      "cell_type": "markdown",
      "source": [
        "### Fiting Tree Regression Model"
      ],
      "metadata": {
        "id": "Hpzp1arCvWqM"
      }
    },
    {
      "cell_type": "code",
      "source": [
        "\n",
        "clftree.fit(np.reshape(X, (-1,1)),y)"
      ],
      "metadata": {
        "colab": {
          "base_uri": "https://localhost:8080/",
          "height": 0
        },
        "id": "KliMk-hCva7g",
        "outputId": "23e88254-801f-422f-c308-da5f4cffe0cf"
      },
      "execution_count": 291,
      "outputs": [
        {
          "output_type": "execute_result",
          "data": {
            "text/plain": [
              "DecisionTreeRegressor()"
            ]
          },
          "metadata": {},
          "execution_count": 291
        }
      ]
    },
    {
      "cell_type": "markdown",
      "source": [
        "### Plotting Regression Results"
      ],
      "metadata": {
        "id": "BLoXcKnHpAqV"
      }
    },
    {
      "cell_type": "code",
      "source": [
        "#@title\n",
        "def plot_regression_result_1(X, y, lr, xlabel) :\n",
        "  predicted = lr.predict(X)\n",
        "  print(\"The root mean squared error is: \\t{:4.2f}\".format(mean_squared_error(y, predicted)))\n",
        "  print(\"the mean absolute error is: \\t\\t{:4.2f}\".format(mean_absolute_error(y,predicted)))\n",
        "  print(\"The Coefficients are: \")\n",
        "  print(np.around(X, decimals = 2))\n",
        "  print(\"The Intercepts are :\")\n",
        "  print(np.around(y, decimals= 2))\n",
        "  title = 'Regression result: RMSE {:4.2f} MAE {:4.2f}'.format( mean_squared_error(y, predicted), mean_absolute_error(y,predicted))\n",
        "  plt.figure(figsize=(12,5))\n",
        "  plt.scatter(X,y, c ='darkred')\n",
        "  plt.scatter(X,predicted, c = 'darkgreen')\n",
        "  plt.ylabel('MedHouseVal')\n",
        "  plt.xlabel(xlabel)\n",
        "  plt.title(title)"
      ],
      "metadata": {
        "id": "KHComfAtovk8"
      },
      "execution_count": 292,
      "outputs": []
    },
    {
      "cell_type": "markdown",
      "source": [
        "### Scatterplot of Linear"
      ],
      "metadata": {
        "id": "pqiHOrDqgsYn"
      }
    },
    {
      "cell_type": "code",
      "source": [
        "plot_regression_result_1(np.reshape(X, (-1,1)), y, linear, 'Medinc')"
      ],
      "metadata": {
        "colab": {
          "base_uri": "https://localhost:8080/",
          "height": 558
        },
        "id": "scCLpO5KgsxT",
        "outputId": "4679b174-f9b3-435e-c161-3877e5936f15"
      },
      "execution_count": 293,
      "outputs": [
        {
          "output_type": "stream",
          "name": "stdout",
          "text": [
            "The root mean squared error is: \t701131.15\n",
            "the mean absolute error is: \t\t626.26\n",
            "The Coefficients are: \n",
            "[[8.33]\n",
            " [8.3 ]\n",
            " [7.26]\n",
            " ...\n",
            " [1.7 ]\n",
            " [1.87]\n",
            " [2.39]]\n",
            "The Intercepts are :\n",
            "[4526. 3585. 3521. ...  923.  847.  894.]\n"
          ]
        },
        {
          "output_type": "display_data",
          "data": {
            "image/png": "[encoded data removed]",
            "text/plain": [
              "<Figure size 864x360 with 1 Axes>"
            ]
          },
          "metadata": {
            "needs_background": "light"
          }
        }
      ]
    },
    {
      "cell_type": "markdown",
      "source": [
        "### Scatterplot of NN"
      ],
      "metadata": {
        "id": "qr9to7i_v1HO"
      }
    },
    {
      "cell_type": "code",
      "source": [
        "\n",
        "plot_regression_result_1(np.reshape(X, (-1,1)), yint, clf, 'Medinc')"
      ],
      "metadata": {
        "colab": {
          "base_uri": "https://localhost:8080/",
          "height": 558
        },
        "id": "fTdR1uAVo-U_",
        "outputId": "70d2cc55-809c-46ad-8c39-19a19a3b5ca6"
      },
      "execution_count": 294,
      "outputs": [
        {
          "output_type": "stream",
          "name": "stdout",
          "text": [
            "The root mean squared error is: \t5784821.46\n",
            "the mean absolute error is: \t\t1980.95\n",
            "The Coefficients are: \n",
            "[[8.33]\n",
            " [8.3 ]\n",
            " [7.26]\n",
            " ...\n",
            " [1.7 ]\n",
            " [1.87]\n",
            " [2.39]]\n",
            "The Intercepts are :\n",
            "[4526 3585 3521 ...  923  847  894]\n"
          ]
        },
        {
          "output_type": "display_data",
          "data": {
            "image/png": "[encoded data removed]",
            "text/plain": [
              "<Figure size 864x360 with 1 Axes>"
            ]
          },
          "metadata": {
            "needs_background": "light"
          }
        }
      ]
    },
    {
      "cell_type": "markdown",
      "source": [
        "### Scatterplot of Tree Regression"
      ],
      "metadata": {
        "id": "d-yjnXWXwElo"
      }
    },
    {
      "cell_type": "code",
      "source": [
        "\n",
        "plot_regression_result_1(np.reshape(X, (-1,1)), y, clftree, 'Medinc')"
      ],
      "metadata": {
        "colab": {
          "base_uri": "https://localhost:8080/",
          "height": 558
        },
        "id": "B-nP-g-5wETq",
        "outputId": "79ce7ce3-21ea-478c-b174-0bfe690c5d32"
      },
      "execution_count": 295,
      "outputs": [
        {
          "output_type": "stream",
          "name": "stdout",
          "text": [
            "The root mean squared error is: \t249351.87\n",
            "the mean absolute error is: \t\t265.40\n",
            "The Coefficients are: \n",
            "[[8.33]\n",
            " [8.3 ]\n",
            " [7.26]\n",
            " ...\n",
            " [1.7 ]\n",
            " [1.87]\n",
            " [2.39]]\n",
            "The Intercepts are :\n",
            "[4526. 3585. 3521. ...  923.  847.  894.]\n"
          ]
        },
        {
          "output_type": "display_data",
          "data": {
            "image/png": "[encoded data removed]",
            "text/plain": [
              "<Figure size 864x360 with 1 Axes>"
            ]
          },
          "metadata": {
            "needs_background": "light"
          }
        }
      ]
    },
    {
      "cell_type": "markdown",
      "source": [
        "### Accuracy of Models with single Variables "
      ],
      "metadata": {
        "id": "wMiQapV-P4uE"
      }
    },
    {
      "cell_type": "code",
      "source": [
        "\n",
        "def accuracy(lr, X, y):\n",
        "  accalr = np.sum( abs((lr.predict(X) / y) - 1) <= .02 )/y.shape[0]\n",
        "  print(f'Regression classification accurracy on MedInc: \\t{accalr:5.2f}')"
      ],
      "metadata": {
        "id": "DCOxSu0pP4dS"
      },
      "execution_count": 296,
      "outputs": []
    },
    {
      "cell_type": "code",
      "source": [
        "\n",
        "accuracy(linear,np.reshape(X, (-1,1)),y)\n",
        "accuracy(clf,np.reshape(X, (-1,1)),yint)\n",
        "accuracy(clftree,np.reshape(X, (-1,1)),y)"
      ],
      "metadata": {
        "colab": {
          "base_uri": "https://localhost:8080/",
          "height": 0
        },
        "id": "W2N9WdDRQG9Y",
        "outputId": "0ce8c1c4-5d27-48e5-f292-6e15e372c4a3"
      },
      "execution_count": 297,
      "outputs": [
        {
          "output_type": "stream",
          "name": "stdout",
          "text": [
            "Regression classification accurracy on MedInc: \t 0.04\n",
            "Regression classification accurracy on MedInc: \t 0.06\n",
            "Regression classification accurracy on MedInc: \t 0.50\n"
          ]
        }
      ]
    },
    {
      "cell_type": "markdown",
      "source": [
        "# Fitting with all features"
      ],
      "metadata": {
        "id": "1IcfuPUQ5BGd"
      }
    },
    {
      "cell_type": "code",
      "source": [
        "\n",
        "Xall = data.frame[[\"MedInc\",\n",
        "                \"HouseAge\",\n",
        "                \"AveRooms\",\n",
        "                \"AveBedrms\",\n",
        "                \"Population\",\n",
        "                \"AveOccup\",\n",
        "                \"Latitude\",\n",
        "                \"Longitude\"]].values\n"
      ],
      "metadata": {
        "id": "bwdDpQ3I5A2D"
      },
      "execution_count": 298,
      "outputs": []
    },
    {
      "cell_type": "markdown",
      "source": [
        "### Creating two new models for testing all variables"
      ],
      "metadata": {
        "id": "bEuM7maM8UUZ"
      }
    },
    {
      "cell_type": "code",
      "source": [
        "linear_two = LinearRegression()"
      ],
      "metadata": {
        "id": "GmdZIeHOhTm8"
      },
      "execution_count": 299,
      "outputs": []
    },
    {
      "cell_type": "code",
      "source": [
        "\n",
        "clf_two = MLPClassifier(hidden_layer_sizes=(5,2),\n",
        "                    activation = 'relu',\n",
        "                    solver='adam',\n",
        "                    alpha = 1e-5)"
      ],
      "metadata": {
        "id": "Jw5jlvPV8MCK"
      },
      "execution_count": 300,
      "outputs": []
    },
    {
      "cell_type": "code",
      "source": [
        "\n",
        "clftree_two = tree.DecisionTreeRegressor()"
      ],
      "metadata": {
        "id": "yk_xWtX88RcC"
      },
      "execution_count": 301,
      "outputs": []
    },
    {
      "cell_type": "markdown",
      "source": [
        "### Fitting both models"
      ],
      "metadata": {
        "id": "tl5CHwOR8e8d"
      }
    },
    {
      "cell_type": "code",
      "source": [
        "linear_two.fit(Xall,yint)"
      ],
      "metadata": {
        "colab": {
          "base_uri": "https://localhost:8080/",
          "height": 0
        },
        "id": "CFJNe2_IhXQC",
        "outputId": "06d5dd19-6673-4a1c-c1c7-8c0de6834df1"
      },
      "execution_count": 302,
      "outputs": [
        {
          "output_type": "execute_result",
          "data": {
            "text/plain": [
              "LinearRegression()"
            ]
          },
          "metadata": {},
          "execution_count": 302
        }
      ]
    },
    {
      "cell_type": "code",
      "source": [
        "\n",
        "clf_two.fit(Xall,yint)"
      ],
      "metadata": {
        "colab": {
          "base_uri": "https://localhost:8080/",
          "height": 0
        },
        "id": "uthFQ-sh8exG",
        "outputId": "05d94e8d-346b-427e-8c1c-51f2890fd349"
      },
      "execution_count": 303,
      "outputs": [
        {
          "output_type": "stream",
          "name": "stderr",
          "text": [
            "/usr/local/lib/python3.7/dist-packages/sklearn/neural_network/_multilayer_perceptron.py:696: ConvergenceWarning: Stochastic Optimizer: Maximum iterations (200) reached and the optimization hasn't converged yet.\n",
            "  ConvergenceWarning,\n"
          ]
        },
        {
          "output_type": "execute_result",
          "data": {
            "text/plain": [
              "MLPClassifier(alpha=1e-05, hidden_layer_sizes=(5, 2))"
            ]
          },
          "metadata": {},
          "execution_count": 303
        }
      ]
    },
    {
      "cell_type": "code",
      "source": [
        "\n",
        "clftree_two.fit(Xall,y)"
      ],
      "metadata": {
        "colab": {
          "base_uri": "https://localhost:8080/",
          "height": 0
        },
        "id": "BqPhHtA28em2",
        "outputId": "7dcddd2a-6f3b-479d-94be-623e743e68f1"
      },
      "execution_count": 304,
      "outputs": [
        {
          "output_type": "execute_result",
          "data": {
            "text/plain": [
              "DecisionTreeRegressor()"
            ]
          },
          "metadata": {},
          "execution_count": 304
        }
      ]
    },
    {
      "cell_type": "markdown",
      "source": [
        "# RMSE and MSE of both models"
      ],
      "metadata": {
        "id": "ISg_Hpz8CVsY"
      }
    },
    {
      "cell_type": "code",
      "source": [
        "\n",
        "def regression_results(lr, X, y) :\n",
        "  predicted = lr.predict(X)\n",
        "  print(\"The root mean squared error is: \\t{:4.2f}\".format(mean_squared_error(y, predicted)))\n",
        "  print(\"the mean absolute error is: \\t\\t{:4.2f}\".format(mean_absolute_error(y,predicted)))\n",
        "  print(\"The Coefficients are: \")\n",
        "  print(np.around(X, decimals = 2))\n",
        "  print(\"The Intercepts are :\")\n",
        "  print(np.around(y, decimals= 2))"
      ],
      "metadata": {
        "id": "y_Yn4HMpCVB-"
      },
      "execution_count": 305,
      "outputs": []
    },
    {
      "cell_type": "markdown",
      "source": [
        "### Results for NN model"
      ],
      "metadata": {
        "id": "ORAZmoqyDgbO"
      }
    },
    {
      "cell_type": "code",
      "source": [
        "regression_results(linear_two, Xall, y)"
      ],
      "metadata": {
        "colab": {
          "base_uri": "https://localhost:8080/",
          "height": 0
        },
        "id": "FsRXhOsMheM_",
        "outputId": "7092807b-351b-4fe2-e29b-5f3474c5a99e"
      },
      "execution_count": 306,
      "outputs": [
        {
          "output_type": "stream",
          "name": "stdout",
          "text": [
            "The root mean squared error is: \t524320.99\n",
            "the mean absolute error is: \t\t531.16\n",
            "The Coefficients are: \n",
            "[[   8.33   41.      6.98 ...    2.56   37.88 -122.23]\n",
            " [   8.3    21.      6.24 ...    2.11   37.86 -122.22]\n",
            " [   7.26   52.      8.29 ...    2.8    37.85 -122.24]\n",
            " ...\n",
            " [   1.7    17.      5.21 ...    2.33   39.43 -121.22]\n",
            " [   1.87   18.      5.33 ...    2.12   39.43 -121.32]\n",
            " [   2.39   16.      5.25 ...    2.62   39.37 -121.24]]\n",
            "The Intercepts are :\n",
            "[4526. 3585. 3521. ...  923.  847.  894.]\n"
          ]
        }
      ]
    },
    {
      "cell_type": "code",
      "source": [
        "\n",
        "regression_results(clf_two, Xall, yint)"
      ],
      "metadata": {
        "colab": {
          "base_uri": "https://localhost:8080/",
          "height": 0
        },
        "id": "u9QY7xSsDZiG",
        "outputId": "b0b25289-99d2-49a9-e2fe-25a0814e67ca"
      },
      "execution_count": 307,
      "outputs": [
        {
          "output_type": "stream",
          "name": "stdout",
          "text": [
            "The root mean squared error is: \t3602390.30\n",
            "the mean absolute error is: \t\t1464.42\n",
            "The Coefficients are: \n",
            "[[   8.33   41.      6.98 ...    2.56   37.88 -122.23]\n",
            " [   8.3    21.      6.24 ...    2.11   37.86 -122.22]\n",
            " [   7.26   52.      8.29 ...    2.8    37.85 -122.24]\n",
            " ...\n",
            " [   1.7    17.      5.21 ...    2.33   39.43 -121.22]\n",
            " [   1.87   18.      5.33 ...    2.12   39.43 -121.32]\n",
            " [   2.39   16.      5.25 ...    2.62   39.37 -121.24]]\n",
            "The Intercepts are :\n",
            "[4526 3585 3521 ...  923  847  894]\n"
          ]
        }
      ]
    },
    {
      "cell_type": "markdown",
      "source": [
        "### Results for Tree model"
      ],
      "metadata": {
        "id": "Xj7mdyh-DkHk"
      }
    },
    {
      "cell_type": "code",
      "source": [
        "\n",
        "regression_results(clftree_two, Xall, y)"
      ],
      "metadata": {
        "colab": {
          "base_uri": "https://localhost:8080/",
          "height": 0
        },
        "id": "thyM7_jlDjbC",
        "outputId": "d3128d0c-4a4a-49b3-8001-73526946cd20"
      },
      "execution_count": 308,
      "outputs": [
        {
          "output_type": "stream",
          "name": "stdout",
          "text": [
            "The root mean squared error is: \t0.00\n",
            "the mean absolute error is: \t\t0.00\n",
            "The Coefficients are: \n",
            "[[   8.33   41.      6.98 ...    2.56   37.88 -122.23]\n",
            " [   8.3    21.      6.24 ...    2.11   37.86 -122.22]\n",
            " [   7.26   52.      8.29 ...    2.8    37.85 -122.24]\n",
            " ...\n",
            " [   1.7    17.      5.21 ...    2.33   39.43 -121.22]\n",
            " [   1.87   18.      5.33 ...    2.12   39.43 -121.32]\n",
            " [   2.39   16.      5.25 ...    2.62   39.37 -121.24]]\n",
            "The Intercepts are :\n",
            "[4526. 3585. 3521. ...  923.  847.  894.]\n"
          ]
        }
      ]
    },
    {
      "cell_type": "code",
      "source": [
        "\n",
        "def accuracy_all(lr, X, y):\n",
        "  accalr = np.sum( abs((lr.predict(X) / y) - 1) <= .02 )/y.shape[0]\n",
        "  print(f'Regression classification accurracy on All features: \\t{accalr:5.2f}')"
      ],
      "metadata": {
        "id": "DRLOhR4pNSQA"
      },
      "execution_count": 310,
      "outputs": []
    },
    {
      "cell_type": "code",
      "source": [
        "\n",
        "accuracy_all(linear_two, Xall, y)\n",
        "accuracy_all(clf_two, Xall, y)\n",
        "accuracy_all(clftree_two, Xall, y)"
      ],
      "metadata": {
        "colab": {
          "base_uri": "https://localhost:8080/",
          "height": 0
        },
        "id": "kQQ6gs0nPquz",
        "outputId": "9119ef08-caaa-4c07-8582-6db4004f232e"
      },
      "execution_count": 311,
      "outputs": [
        {
          "output_type": "stream",
          "name": "stdout",
          "text": [
            "Regression classification accurracy on All features: \t 0.05\n",
            "Regression classification accurracy on All features: \t 0.07\n",
            "Regression classification accurracy on All features: \t 1.00\n"
          ]
        }
      ]
    },
    {
      "cell_type": "markdown",
      "source": [
        "# Testing generalization"
      ],
      "metadata": {
        "id": "lNV4dVX2UZUT"
      }
    },
    {
      "cell_type": "markdown",
      "source": [
        "### Splitting data into two sets"
      ],
      "metadata": {
        "id": "cHwMy4wT6KCF"
      }
    },
    {
      "cell_type": "code",
      "source": [
        "\n",
        "X_train, X_test, y_train, y_test = train_test_split(Xall, y, test_size=0.8)\n",
        "X_train_tree, X_test_tree, y_train_tree, y_test_tree = train_test_split(Xall, y, test_size=0.8)\n",
        "y_train = y_train * 1000\n",
        "y_test = y_test * 1000\n",
        "y_train_int = y_train.astype('int')\n",
        "y_test_int = y_train.astype\n",
        "\n"
      ],
      "metadata": {
        "id": "x5OrIJ8_kcrG"
      },
      "execution_count": 312,
      "outputs": []
    },
    {
      "cell_type": "markdown",
      "source": [
        "### Creating new models"
      ],
      "metadata": {
        "id": "vyRBwT2hUVKd"
      }
    },
    {
      "cell_type": "code",
      "source": [
        "linear_three = LinearRegression()"
      ],
      "metadata": {
        "id": "6wALQDa2hukO"
      },
      "execution_count": 313,
      "outputs": []
    },
    {
      "cell_type": "code",
      "source": [
        "\n",
        "clf_three = MLPClassifier(hidden_layer_sizes=(5,2),\n",
        "                    activation = 'relu',\n",
        "                    solver='adam',\n",
        "                    alpha = 1e-5)\n"
      ],
      "metadata": {
        "id": "aYDrkMNOUMbl"
      },
      "execution_count": 314,
      "outputs": []
    },
    {
      "cell_type": "code",
      "source": [
        "\n",
        "clftree_three = tree.DecisionTreeRegressor()"
      ],
      "metadata": {
        "id": "Ecyt23k4US56"
      },
      "execution_count": 315,
      "outputs": []
    },
    {
      "cell_type": "markdown",
      "source": [
        "### Fitting new models"
      ],
      "metadata": {
        "id": "oGeM3xcFUhel"
      }
    },
    {
      "cell_type": "code",
      "source": [
        "linear_three.fit(X_train, y_train)"
      ],
      "metadata": {
        "colab": {
          "base_uri": "https://localhost:8080/",
          "height": 0
        },
        "id": "KU5wtny6hxuD",
        "outputId": "22533bbc-8887-45c3-92e9-7d6414aa96a0"
      },
      "execution_count": 316,
      "outputs": [
        {
          "output_type": "execute_result",
          "data": {
            "text/plain": [
              "LinearRegression()"
            ]
          },
          "metadata": {},
          "execution_count": 316
        }
      ]
    },
    {
      "cell_type": "code",
      "source": [
        "\n",
        "clf_three.fit(X_train, y_train_int)"
      ],
      "metadata": {
        "colab": {
          "base_uri": "https://localhost:8080/",
          "height": 0
        },
        "id": "pnaCSPw1Ug7j",
        "outputId": "b926c935-9266-476c-ac25-315fe32d6f19"
      },
      "execution_count": 317,
      "outputs": [
        {
          "output_type": "stream",
          "name": "stderr",
          "text": [
            "/usr/local/lib/python3.7/dist-packages/sklearn/neural_network/_multilayer_perceptron.py:696: ConvergenceWarning: Stochastic Optimizer: Maximum iterations (200) reached and the optimization hasn't converged yet.\n",
            "  ConvergenceWarning,\n"
          ]
        },
        {
          "output_type": "execute_result",
          "data": {
            "text/plain": [
              "MLPClassifier(alpha=1e-05, hidden_layer_sizes=(5, 2))"
            ]
          },
          "metadata": {},
          "execution_count": 317
        }
      ]
    },
    {
      "cell_type": "code",
      "source": [
        "\n",
        "clftree_three.fit(X_train, y_train)"
      ],
      "metadata": {
        "colab": {
          "base_uri": "https://localhost:8080/",
          "height": 0
        },
        "id": "WlQyITFUUxI0",
        "outputId": "7be69561-6bcf-4e23-d298-3501fb4b5b56"
      },
      "execution_count": 318,
      "outputs": [
        {
          "output_type": "execute_result",
          "data": {
            "text/plain": [
              "DecisionTreeRegressor()"
            ]
          },
          "metadata": {},
          "execution_count": 318
        }
      ]
    },
    {
      "cell_type": "markdown",
      "source": [
        "### RMSE and MSE of both models on training set"
      ],
      "metadata": {
        "id": "CyfCky3EVGHf"
      }
    },
    {
      "cell_type": "code",
      "source": [
        "regression_results(linear_three, X_train, y_train)"
      ],
      "metadata": {
        "colab": {
          "base_uri": "https://localhost:8080/",
          "height": 0
        },
        "id": "1QAq-ep_h3ma",
        "outputId": "5e36dd45-7c44-48bb-df19-5f9027ba9d72"
      },
      "execution_count": 319,
      "outputs": [
        {
          "output_type": "stream",
          "name": "stdout",
          "text": [
            "The root mean squared error is: \t469322091805.07\n",
            "the mean absolute error is: \t\t499913.73\n",
            "The Coefficients are: \n",
            "[[   4.47   13.      6.97 ...    2.8    35.6  -120.6 ]\n",
            " [   3.56   37.      4.93 ...    2.83   34.26 -118.3 ]\n",
            " [   4.81   36.      4.76 ...    1.99   37.98 -122.56]\n",
            " ...\n",
            " [   3.6    21.      5.39 ...    2.66   37.74 -121.13]\n",
            " [   2.15   31.      2.35 ...    4.27   34.04 -118.29]\n",
            " [   1.47   12.      5.25 ...    3.34   36.98 -120.06]]\n",
            "The Intercepts are :\n",
            "[2069000. 1845000. 3457000. ... 1346000. 1281000.  604000.]\n"
          ]
        }
      ]
    },
    {
      "cell_type": "code",
      "source": [
        "\n",
        "regression_results(clf_three, X_train, y_train_int)"
      ],
      "metadata": {
        "colab": {
          "base_uri": "https://localhost:8080/",
          "height": 0
        },
        "id": "JF0RRsINVFat",
        "outputId": "318dd7b0-5fd2-4743-c006-b4d764d570bb"
      },
      "execution_count": 320,
      "outputs": [
        {
          "output_type": "stream",
          "name": "stdout",
          "text": [
            "The root mean squared error is: \t10046356645972.65\n",
            "the mean absolute error is: \t\t2962592.20\n",
            "The Coefficients are: \n",
            "[[   4.47   13.      6.97 ...    2.8    35.6  -120.6 ]\n",
            " [   3.56   37.      4.93 ...    2.83   34.26 -118.3 ]\n",
            " [   4.81   36.      4.76 ...    1.99   37.98 -122.56]\n",
            " ...\n",
            " [   3.6    21.      5.39 ...    2.66   37.74 -121.13]\n",
            " [   2.15   31.      2.35 ...    4.27   34.04 -118.29]\n",
            " [   1.47   12.      5.25 ...    3.34   36.98 -120.06]]\n",
            "The Intercepts are :\n",
            "[2069000 1845000 3457000 ... 1346000 1281000  604000]\n"
          ]
        }
      ]
    },
    {
      "cell_type": "code",
      "source": [
        "\n",
        "regression_results(clftree_three, X_train, y_train)"
      ],
      "metadata": {
        "colab": {
          "base_uri": "https://localhost:8080/",
          "height": 0
        },
        "id": "yCfeH7U8VMST",
        "outputId": "62c3b968-fba1-4a74-94d6-ea5e8ed41252"
      },
      "execution_count": 321,
      "outputs": [
        {
          "output_type": "stream",
          "name": "stdout",
          "text": [
            "The root mean squared error is: \t0.00\n",
            "the mean absolute error is: \t\t0.00\n",
            "The Coefficients are: \n",
            "[[   4.47   13.      6.97 ...    2.8    35.6  -120.6 ]\n",
            " [   3.56   37.      4.93 ...    2.83   34.26 -118.3 ]\n",
            " [   4.81   36.      4.76 ...    1.99   37.98 -122.56]\n",
            " ...\n",
            " [   3.6    21.      5.39 ...    2.66   37.74 -121.13]\n",
            " [   2.15   31.      2.35 ...    4.27   34.04 -118.29]\n",
            " [   1.47   12.      5.25 ...    3.34   36.98 -120.06]]\n",
            "The Intercepts are :\n",
            "[2069000. 1845000. 3457000. ... 1346000. 1281000.  604000.]\n"
          ]
        }
      ]
    },
    {
      "cell_type": "markdown",
      "source": [
        "### Accuracy on Testing set"
      ],
      "metadata": {
        "id": "kDspbmbJVYne"
      }
    },
    {
      "cell_type": "code",
      "source": [
        "\n",
        "accuracy_all(linear_three, X_test, y_test)\n",
        "accuracy_all(clf_three, X_test, y_test)\n",
        "accuracy_all(clftree_three, X_test, y_test)"
      ],
      "metadata": {
        "colab": {
          "base_uri": "https://localhost:8080/",
          "height": 0
        },
        "id": "rKUVYpAoVc5a",
        "outputId": "164cffeb-2ff7-4d62-8868-9edada36151a"
      },
      "execution_count": 322,
      "outputs": [
        {
          "output_type": "stream",
          "name": "stdout",
          "text": [
            "Regression classification accurracy on All features: \t 0.05\n",
            "Regression classification accurracy on All features: \t 0.05\n",
            "Regression classification accurracy on All features: \t 0.09\n"
          ]
        }
      ]
    },
    {
      "cell_type": "markdown",
      "source": [
        "### Testing if overfitting is caused by data distrubution"
      ],
      "metadata": {
        "id": "jpu-MrO-sWWm"
      }
    },
    {
      "cell_type": "code",
      "source": [
        "from numpy.random import default_rng\n",
        "rng = default_rng(seed = 42)\n",
        "Xall_shuffle = rng.shuffle(Xall)\n",
        "y_shuffle = rng.shuffle(y)\n",
        "# print(y_shuffle)\n",
        "\n",
        "X_train_random, X_test_random, y_train_random, y_test_random = train_test_split(Xall, y, test_size=0.8)\n",
        "# print(X_train_random)\n",
        "\n",
        "\n"
      ],
      "metadata": {
        "id": "5F3LD0ZssV1I"
      },
      "execution_count": 328,
      "outputs": []
    },
    {
      "cell_type": "code",
      "source": [
        "\n",
        "clftree_random = tree.DecisionTreeRegressor()"
      ],
      "metadata": {
        "id": "1vvfNXjjuVli"
      },
      "execution_count": 329,
      "outputs": []
    },
    {
      "cell_type": "code",
      "source": [
        "clftree_random.fit(X_train, y_train)"
      ],
      "metadata": {
        "colab": {
          "base_uri": "https://localhost:8080/",
          "height": 0
        },
        "id": "HtnKGD1luay1",
        "outputId": "415c4078-2b06-4784-c8a1-eaadf67f86bd"
      },
      "execution_count": 330,
      "outputs": [
        {
          "output_type": "execute_result",
          "data": {
            "text/plain": [
              "DecisionTreeRegressor()"
            ]
          },
          "metadata": {},
          "execution_count": 330
        }
      ]
    },
    {
      "cell_type": "code",
      "source": [
        "regression_results(clftree_random, X_train, y_train)"
      ],
      "metadata": {
        "colab": {
          "base_uri": "https://localhost:8080/",
          "height": 0
        },
        "id": "IEO_O9uAugpk",
        "outputId": "356359fd-13a2-4947-eda4-e08fb91a02a2"
      },
      "execution_count": 332,
      "outputs": [
        {
          "output_type": "stream",
          "name": "stdout",
          "text": [
            "The root mean squared error is: \t0.00\n",
            "the mean absolute error is: \t\t0.00\n",
            "The Coefficients are: \n",
            "[[   4.47   13.      6.97 ...    2.8    35.6  -120.6 ]\n",
            " [   3.56   37.      4.93 ...    2.83   34.26 -118.3 ]\n",
            " [   4.81   36.      4.76 ...    1.99   37.98 -122.56]\n",
            " ...\n",
            " [   3.6    21.      5.39 ...    2.66   37.74 -121.13]\n",
            " [   2.15   31.      2.35 ...    4.27   34.04 -118.29]\n",
            " [   1.47   12.      5.25 ...    3.34   36.98 -120.06]]\n",
            "The Intercepts are :\n",
            "[2069000. 1845000. 3457000. ... 1346000. 1281000.  604000.]\n"
          ]
        }
      ]
    },
    {
      "cell_type": "code",
      "source": [
        "accuracy_all(clftree_three, X_test, y_test)"
      ],
      "metadata": {
        "colab": {
          "base_uri": "https://localhost:8080/",
          "height": 0
        },
        "id": "OYzrvMoOuqks",
        "outputId": "379fb108-306f-443f-d241-24509f6accc9"
      },
      "execution_count": 333,
      "outputs": [
        {
          "output_type": "stream",
          "name": "stdout",
          "text": [
            "Regression classification accurracy on All features: \t 0.09\n"
          ]
        }
      ]
    },
    {
      "cell_type": "markdown",
      "source": [
        "# Conclusions/Observations"
      ],
      "metadata": {
        "id": "2QjI04OnSSdH"
      }
    },
    {
      "cell_type": "markdown",
      "source": [
        "There are a few things that can be drawn from this notebook in particular for this dataset we can see that see that neither of the three models are very well suited for generalization. \n",
        "\n",
        "Particulaly we are able to see when fitting with only the variable which contains the highest correlation to Average house price the the decision Tree regresional model performs the best and has the lowest RMSE aswell as MAE. From visual ques this is also very clear that it performs the best in fitting the data and then predicting as it also achieves the highest accuracy. while the Linear model and the Nueral Network Linear model both struggle. \n",
        "\n",
        "Looking at when the model is fitting with all of the data not just the highest correlation we see that fitting the model with more data improves the overall accuracy of all three of the models. However in this case something that is important to note is the the Regressional Decision tree model achieves a perfect accuracy. Initially when creating this notebook this caught me off gaurd as i did not expect to reach a perfect accuracy. \n",
        "\n",
        "However when testing to see the generalization capability of all three models we find that the Regressional Decision tree that the accuracy of the model drops drastically, indicating that this was due to overfitting to the data rather than having strong generalization capabilites. Though the poor generalization of the models may not due to be poor generalization, but rather to the dataset which was used to fit the model. \n",
        "\n",
        "Something that I had noticed with the dataset is that the values descend from highest median house value to lowest median house value. This meant that when the Data was partitioned into two sets one for training and the other for testing the model was never fitted with data which included the lower end of the spectrum of house value. This also meant that the data was asked to predict on Data which it had very little examples to base its decision on. For this reason I Believe that accuracy for all models could be potentially increased in generalization but randomly shuffling the input data in order to expose the models to a larger variety of data. \n",
        "\n",
        "Though when this was tested it was found that the model was unable to perform better. While the model steal acheived a perfect accuracy when fitting from the shuffled data the overal generalization accuracy was the same. Though I do want to note this may be due to the shuffling moving values around and not matching them with the appropriate Y value or median house value.\n",
        "\n",
        "Another thing which i found interesting about all three of the models is that the coeefficients and the intercepts which the model generated from being fitted were all the same across the three different models.\n",
        "Indicating that the different results came from the models using that information in different forms in order to result in different outputs. "
      ],
      "metadata": {
        "id": "a7NC4jX4jXSv"
      }
    }
  ]
}