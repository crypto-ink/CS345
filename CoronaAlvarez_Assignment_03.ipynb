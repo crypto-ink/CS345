{
  "nbformat": 4,
  "nbformat_minor": 0,
  "metadata": {
    "colab": {
      "name": "Copy of CS345_Assignment_3.ipynb",
      "provenance": [],
      "collapsed_sections": []
    },
    "kernelspec": {
      "display_name": "Python 3",
      "language": "python",
      "name": "python3"
    },
    "language_info": {
      "codemirror_mode": {
        "name": "ipython",
        "version": 3
      },
      "file_extension": ".py",
      "mimetype": "text/x-python",
      "name": "python",
      "nbconvert_exporter": "python",
      "pygments_lexer": "ipython3",
      "version": "3.7.10"
    }
  },
  "cells": [
    {
      "cell_type": "markdown",
      "metadata": {
        "id": "1sdZC5eNbWqy"
      },
      "source": [
        "# CS345 Assignment 3\n",
        "\n",
        "## Fall 2021\n",
        "### November 1, 2021\n",
        "\n",
        "In this assignment, you will be exploring regression to predict wine quality ratings.  The data for this assignment originates in the UCI Dataset Repository - [here is the direct link](https://archive-beta.ics.uci.edu/ml/datasets/wine+quality). Please, as we get started, note this is **not** the same dataset as the sklearn [Wine recognition dataset](https://scikit-learn.org/stable/datasets/toy_dataset.html).  \n",
        "\n",
        "As you work through what follows you will be writing code that enables you to examine how the task of predicting wine quality can be treated as a regression problem as well as a classification problem.  The assignment has 10 parts and includes a mix of code provided to you and node you need to create yourself."
      ]
    },
    {
      "cell_type": "code",
      "metadata": {
        "id": "Gl8P_uFLbWq6"
      },
      "source": [
        "## These includes are provided for you.\n",
        "\n",
        "import seaborn as sns\n",
        "import pandas as pd\n",
        "import numpy as np\n",
        "import matplotlib.pyplot as plt\n",
        "from numpy.random import default_rng\n",
        "from sklearn.linear_model import LinearRegression\n",
        "from sklearn.neighbors import KNeighborsClassifier\n",
        "from sklearn.metrics import mean_squared_error\n",
        "from sklearn.metrics import mean_absolute_error\n",
        "from sklearn.model_selection import train_test_split\n",
        "\n",
        "%matplotlib inline"
      ],
      "execution_count": 479,
      "outputs": []
    },
    {
      "cell_type": "markdown",
      "metadata": {
        "id": "NtDtR0ojbWq7"
      },
      "source": [
        "## Part 1: Loading Red Wine Data"
      ]
    },
    {
      "cell_type": "markdown",
      "metadata": {
        "id": "fcrpobksbWq7"
      },
      "source": [
        "Here we are asking you to load the red wine quality data from a csv file and construct a Panda DataFrame. There are annoying details in successfully reading the file ``winequality-red.csv`` provided here:\n",
        "\n",
        "[Index of /ml/machine-learning-databases/wine-quality](https://archive.ics.uci.edu/ml/machine-learning-databases/wine-quality/)\n",
        "\n",
        "Therefore, to speed you along, here is the code to read the downloaded data into a dataframe. Also, about the annoying detail, the file suffix \"csv\" stands for comma seperated variables. Unfortunately, some folks insist on keep \"csv\" when changing the seperator from comman to semi-colon.  Note a simple second argument gets us past this obstacle. \n",
        "\n",
        "\n"
      ]
    },
    {
      "cell_type": "code",
      "metadata": {
        "id": "oMUufb5VbWq7",
        "colab": {
          "base_uri": "https://localhost:8080/",
          "height": 261
        },
        "outputId": "6c6549ca-9bb6-4da3-976f-4bf54902de3c"
      },
      "source": [
        "# Run Code\n",
        "\n",
        "wine_red  = pd.read_table(r'winequality-red.csv', sep=';')\n",
        "original  = [str for str in wine_red.columns]\n",
        "reordered = [original[11]] + original[0:11]\n",
        "wine_red  = wine_red.reindex(columns=reordered)\n",
        "wine_red.head()"
      ],
      "execution_count": 480,
      "outputs": [
        {
          "output_type": "execute_result",
          "data": {
            "text/html": [
              "<div>\n",
              "<style scoped>\n",
              "    .dataframe tbody tr th:only-of-type {\n",
              "        vertical-align: middle;\n",
              "    }\n",
              "\n",
              "    .dataframe tbody tr th {\n",
              "        vertical-align: top;\n",
              "    }\n",
              "\n",
              "    .dataframe thead th {\n",
              "        text-align: right;\n",
              "    }\n",
              "</style>\n",
              "<table border=\"1\" class=\"dataframe\">\n",
              "  <thead>\n",
              "    <tr style=\"text-align: right;\">\n",
              "      <th></th>\n",
              "      <th>quality</th>\n",
              "      <th>fixed acidity</th>\n",
              "      <th>volatile acidity</th>\n",
              "      <th>citric acid</th>\n",
              "      <th>residual sugar</th>\n",
              "      <th>chlorides</th>\n",
              "      <th>free sulfur dioxide</th>\n",
              "      <th>total sulfur dioxide</th>\n",
              "      <th>density</th>\n",
              "      <th>pH</th>\n",
              "      <th>sulphates</th>\n",
              "      <th>alcohol</th>\n",
              "    </tr>\n",
              "  </thead>\n",
              "  <tbody>\n",
              "    <tr>\n",
              "      <th>0</th>\n",
              "      <td>5</td>\n",
              "      <td>7.4</td>\n",
              "      <td>0.70</td>\n",
              "      <td>0.00</td>\n",
              "      <td>1.9</td>\n",
              "      <td>0.076</td>\n",
              "      <td>11.0</td>\n",
              "      <td>34.0</td>\n",
              "      <td>0.9978</td>\n",
              "      <td>3.51</td>\n",
              "      <td>0.56</td>\n",
              "      <td>9.4</td>\n",
              "    </tr>\n",
              "    <tr>\n",
              "      <th>1</th>\n",
              "      <td>5</td>\n",
              "      <td>7.8</td>\n",
              "      <td>0.88</td>\n",
              "      <td>0.00</td>\n",
              "      <td>2.6</td>\n",
              "      <td>0.098</td>\n",
              "      <td>25.0</td>\n",
              "      <td>67.0</td>\n",
              "      <td>0.9968</td>\n",
              "      <td>3.20</td>\n",
              "      <td>0.68</td>\n",
              "      <td>9.8</td>\n",
              "    </tr>\n",
              "    <tr>\n",
              "      <th>2</th>\n",
              "      <td>5</td>\n",
              "      <td>7.8</td>\n",
              "      <td>0.76</td>\n",
              "      <td>0.04</td>\n",
              "      <td>2.3</td>\n",
              "      <td>0.092</td>\n",
              "      <td>15.0</td>\n",
              "      <td>54.0</td>\n",
              "      <td>0.9970</td>\n",
              "      <td>3.26</td>\n",
              "      <td>0.65</td>\n",
              "      <td>9.8</td>\n",
              "    </tr>\n",
              "    <tr>\n",
              "      <th>3</th>\n",
              "      <td>6</td>\n",
              "      <td>11.2</td>\n",
              "      <td>0.28</td>\n",
              "      <td>0.56</td>\n",
              "      <td>1.9</td>\n",
              "      <td>0.075</td>\n",
              "      <td>17.0</td>\n",
              "      <td>60.0</td>\n",
              "      <td>0.9980</td>\n",
              "      <td>3.16</td>\n",
              "      <td>0.58</td>\n",
              "      <td>9.8</td>\n",
              "    </tr>\n",
              "    <tr>\n",
              "      <th>4</th>\n",
              "      <td>5</td>\n",
              "      <td>7.4</td>\n",
              "      <td>0.70</td>\n",
              "      <td>0.00</td>\n",
              "      <td>1.9</td>\n",
              "      <td>0.076</td>\n",
              "      <td>11.0</td>\n",
              "      <td>34.0</td>\n",
              "      <td>0.9978</td>\n",
              "      <td>3.51</td>\n",
              "      <td>0.56</td>\n",
              "      <td>9.4</td>\n",
              "    </tr>\n",
              "  </tbody>\n",
              "</table>\n",
              "</div>"
            ],
            "text/plain": [
              "   quality  fixed acidity  volatile acidity  ...    pH  sulphates  alcohol\n",
              "0        5            7.4              0.70  ...  3.51       0.56      9.4\n",
              "1        5            7.8              0.88  ...  3.20       0.68      9.8\n",
              "2        5            7.8              0.76  ...  3.26       0.65      9.8\n",
              "3        6           11.2              0.28  ...  3.16       0.58      9.8\n",
              "4        5            7.4              0.70  ...  3.51       0.56      9.4\n",
              "\n",
              "[5 rows x 12 columns]"
            ]
          },
          "metadata": {},
          "execution_count": 480
        }
      ]
    },
    {
      "cell_type": "markdown",
      "metadata": {
        "id": "XyUKHcWtg4NU"
      },
      "source": [
        "## Part 2: Exhaustive Correlation Between Features\n",
        "\n",
        "A logical first step in better understanding the data is to compute the correlation between all pairs of features. And in this context, include the variable to be predicted, namely ``quality`` in this comparison."
      ]
    },
    {
      "cell_type": "code",
      "metadata": {
        "id": "WphR2wCig4NV",
        "colab": {
          "base_uri": "https://localhost:8080/",
          "height": 619
        },
        "outputId": "c6e8ea2c-f7e1-412d-90ac-0f651cbf4609"
      },
      "source": [
        "# Enter Code\n",
        "wine_red.corr()\n"
      ],
      "execution_count": 481,
      "outputs": [
        {
          "output_type": "execute_result",
          "data": {
            "text/html": [
              "<div>\n",
              "<style scoped>\n",
              "    .dataframe tbody tr th:only-of-type {\n",
              "        vertical-align: middle;\n",
              "    }\n",
              "\n",
              "    .dataframe tbody tr th {\n",
              "        vertical-align: top;\n",
              "    }\n",
              "\n",
              "    .dataframe thead th {\n",
              "        text-align: right;\n",
              "    }\n",
              "</style>\n",
              "<table border=\"1\" class=\"dataframe\">\n",
              "  <thead>\n",
              "    <tr style=\"text-align: right;\">\n",
              "      <th></th>\n",
              "      <th>quality</th>\n",
              "      <th>fixed acidity</th>\n",
              "      <th>volatile acidity</th>\n",
              "      <th>citric acid</th>\n",
              "      <th>residual sugar</th>\n",
              "      <th>chlorides</th>\n",
              "      <th>free sulfur dioxide</th>\n",
              "      <th>total sulfur dioxide</th>\n",
              "      <th>density</th>\n",
              "      <th>pH</th>\n",
              "      <th>sulphates</th>\n",
              "      <th>alcohol</th>\n",
              "    </tr>\n",
              "  </thead>\n",
              "  <tbody>\n",
              "    <tr>\n",
              "      <th>quality</th>\n",
              "      <td>1.000000</td>\n",
              "      <td>0.124052</td>\n",
              "      <td>-0.390558</td>\n",
              "      <td>0.226373</td>\n",
              "      <td>0.013732</td>\n",
              "      <td>-0.128907</td>\n",
              "      <td>-0.050656</td>\n",
              "      <td>-0.185100</td>\n",
              "      <td>-0.174919</td>\n",
              "      <td>-0.057731</td>\n",
              "      <td>0.251397</td>\n",
              "      <td>0.476166</td>\n",
              "    </tr>\n",
              "    <tr>\n",
              "      <th>fixed acidity</th>\n",
              "      <td>0.124052</td>\n",
              "      <td>1.000000</td>\n",
              "      <td>-0.256131</td>\n",
              "      <td>0.671703</td>\n",
              "      <td>0.114777</td>\n",
              "      <td>0.093705</td>\n",
              "      <td>-0.153794</td>\n",
              "      <td>-0.113181</td>\n",
              "      <td>0.668047</td>\n",
              "      <td>-0.682978</td>\n",
              "      <td>0.183006</td>\n",
              "      <td>-0.061668</td>\n",
              "    </tr>\n",
              "    <tr>\n",
              "      <th>volatile acidity</th>\n",
              "      <td>-0.390558</td>\n",
              "      <td>-0.256131</td>\n",
              "      <td>1.000000</td>\n",
              "      <td>-0.552496</td>\n",
              "      <td>0.001918</td>\n",
              "      <td>0.061298</td>\n",
              "      <td>-0.010504</td>\n",
              "      <td>0.076470</td>\n",
              "      <td>0.022026</td>\n",
              "      <td>0.234937</td>\n",
              "      <td>-0.260987</td>\n",
              "      <td>-0.202288</td>\n",
              "    </tr>\n",
              "    <tr>\n",
              "      <th>citric acid</th>\n",
              "      <td>0.226373</td>\n",
              "      <td>0.671703</td>\n",
              "      <td>-0.552496</td>\n",
              "      <td>1.000000</td>\n",
              "      <td>0.143577</td>\n",
              "      <td>0.203823</td>\n",
              "      <td>-0.060978</td>\n",
              "      <td>0.035533</td>\n",
              "      <td>0.364947</td>\n",
              "      <td>-0.541904</td>\n",
              "      <td>0.312770</td>\n",
              "      <td>0.109903</td>\n",
              "    </tr>\n",
              "    <tr>\n",
              "      <th>residual sugar</th>\n",
              "      <td>0.013732</td>\n",
              "      <td>0.114777</td>\n",
              "      <td>0.001918</td>\n",
              "      <td>0.143577</td>\n",
              "      <td>1.000000</td>\n",
              "      <td>0.055610</td>\n",
              "      <td>0.187049</td>\n",
              "      <td>0.203028</td>\n",
              "      <td>0.355283</td>\n",
              "      <td>-0.085652</td>\n",
              "      <td>0.005527</td>\n",
              "      <td>0.042075</td>\n",
              "    </tr>\n",
              "    <tr>\n",
              "      <th>chlorides</th>\n",
              "      <td>-0.128907</td>\n",
              "      <td>0.093705</td>\n",
              "      <td>0.061298</td>\n",
              "      <td>0.203823</td>\n",
              "      <td>0.055610</td>\n",
              "      <td>1.000000</td>\n",
              "      <td>0.005562</td>\n",
              "      <td>0.047400</td>\n",
              "      <td>0.200632</td>\n",
              "      <td>-0.265026</td>\n",
              "      <td>0.371260</td>\n",
              "      <td>-0.221141</td>\n",
              "    </tr>\n",
              "    <tr>\n",
              "      <th>free sulfur dioxide</th>\n",
              "      <td>-0.050656</td>\n",
              "      <td>-0.153794</td>\n",
              "      <td>-0.010504</td>\n",
              "      <td>-0.060978</td>\n",
              "      <td>0.187049</td>\n",
              "      <td>0.005562</td>\n",
              "      <td>1.000000</td>\n",
              "      <td>0.667666</td>\n",
              "      <td>-0.021946</td>\n",
              "      <td>0.070377</td>\n",
              "      <td>0.051658</td>\n",
              "      <td>-0.069408</td>\n",
              "    </tr>\n",
              "    <tr>\n",
              "      <th>total sulfur dioxide</th>\n",
              "      <td>-0.185100</td>\n",
              "      <td>-0.113181</td>\n",
              "      <td>0.076470</td>\n",
              "      <td>0.035533</td>\n",
              "      <td>0.203028</td>\n",
              "      <td>0.047400</td>\n",
              "      <td>0.667666</td>\n",
              "      <td>1.000000</td>\n",
              "      <td>0.071269</td>\n",
              "      <td>-0.066495</td>\n",
              "      <td>0.042947</td>\n",
              "      <td>-0.205654</td>\n",
              "    </tr>\n",
              "    <tr>\n",
              "      <th>density</th>\n",
              "      <td>-0.174919</td>\n",
              "      <td>0.668047</td>\n",
              "      <td>0.022026</td>\n",
              "      <td>0.364947</td>\n",
              "      <td>0.355283</td>\n",
              "      <td>0.200632</td>\n",
              "      <td>-0.021946</td>\n",
              "      <td>0.071269</td>\n",
              "      <td>1.000000</td>\n",
              "      <td>-0.341699</td>\n",
              "      <td>0.148506</td>\n",
              "      <td>-0.496180</td>\n",
              "    </tr>\n",
              "    <tr>\n",
              "      <th>pH</th>\n",
              "      <td>-0.057731</td>\n",
              "      <td>-0.682978</td>\n",
              "      <td>0.234937</td>\n",
              "      <td>-0.541904</td>\n",
              "      <td>-0.085652</td>\n",
              "      <td>-0.265026</td>\n",
              "      <td>0.070377</td>\n",
              "      <td>-0.066495</td>\n",
              "      <td>-0.341699</td>\n",
              "      <td>1.000000</td>\n",
              "      <td>-0.196648</td>\n",
              "      <td>0.205633</td>\n",
              "    </tr>\n",
              "    <tr>\n",
              "      <th>sulphates</th>\n",
              "      <td>0.251397</td>\n",
              "      <td>0.183006</td>\n",
              "      <td>-0.260987</td>\n",
              "      <td>0.312770</td>\n",
              "      <td>0.005527</td>\n",
              "      <td>0.371260</td>\n",
              "      <td>0.051658</td>\n",
              "      <td>0.042947</td>\n",
              "      <td>0.148506</td>\n",
              "      <td>-0.196648</td>\n",
              "      <td>1.000000</td>\n",
              "      <td>0.093595</td>\n",
              "    </tr>\n",
              "    <tr>\n",
              "      <th>alcohol</th>\n",
              "      <td>0.476166</td>\n",
              "      <td>-0.061668</td>\n",
              "      <td>-0.202288</td>\n",
              "      <td>0.109903</td>\n",
              "      <td>0.042075</td>\n",
              "      <td>-0.221141</td>\n",
              "      <td>-0.069408</td>\n",
              "      <td>-0.205654</td>\n",
              "      <td>-0.496180</td>\n",
              "      <td>0.205633</td>\n",
              "      <td>0.093595</td>\n",
              "      <td>1.000000</td>\n",
              "    </tr>\n",
              "  </tbody>\n",
              "</table>\n",
              "</div>"
            ],
            "text/plain": [
              "                       quality  fixed acidity  ...  sulphates   alcohol\n",
              "quality               1.000000       0.124052  ...   0.251397  0.476166\n",
              "fixed acidity         0.124052       1.000000  ...   0.183006 -0.061668\n",
              "volatile acidity     -0.390558      -0.256131  ...  -0.260987 -0.202288\n",
              "citric acid           0.226373       0.671703  ...   0.312770  0.109903\n",
              "residual sugar        0.013732       0.114777  ...   0.005527  0.042075\n",
              "chlorides            -0.128907       0.093705  ...   0.371260 -0.221141\n",
              "free sulfur dioxide  -0.050656      -0.153794  ...   0.051658 -0.069408\n",
              "total sulfur dioxide -0.185100      -0.113181  ...   0.042947 -0.205654\n",
              "density              -0.174919       0.668047  ...   0.148506 -0.496180\n",
              "pH                   -0.057731      -0.682978  ...  -0.196648  0.205633\n",
              "sulphates             0.251397       0.183006  ...   1.000000  0.093595\n",
              "alcohol               0.476166      -0.061668  ...   0.093595  1.000000\n",
              "\n",
              "[12 rows x 12 columns]"
            ]
          },
          "metadata": {},
          "execution_count": 481
        }
      ]
    },
    {
      "cell_type": "markdown",
      "metadata": {
        "id": "AtTO22Oyg4NX"
      },
      "source": [
        "## Part 2: Interpreting Univariate Analysis\n",
        "\n",
        "This problem straddles the line between being a classification problem and being a regression problem. To better understand this statement let us begin with a basic univariate regression model applied to a single feature, using the feature above shown to have the hightest correlation with ``quality``"
      ]
    },
    {
      "cell_type": "code",
      "metadata": {
        "id": "I2Mm4_Bkg4NZ"
      },
      "source": [
        "# Write Code\n",
        "\n",
        "def fit_univariate_model (df, feat) :\n",
        "  lra = LinearRegression()\n",
        "  lra.fit(df[feat][:,np.newaxis], df['quality'])\n",
        "  # xs = np.linspace(9,15,1599)\n",
        "  # print(xs)\n",
        "  # lra = model.predict(df[feat][:,np.newaxis])\n",
        "  \n",
        "  return df[feat][:,np.newaxis], df['quality'], lra\n"
      ],
      "execution_count": 482,
      "outputs": []
    },
    {
      "cell_type": "code",
      "metadata": {
        "id": "FLBseqREg4Nc",
        "colab": {
          "base_uri": "https://localhost:8080/"
        },
        "outputId": "95c4ac3d-ad15-41ec-c1de-540a00f8c208"
      },
      "source": [
        "# Run Code\n",
        "\n",
        "Xa, ya, lra = fit_univariate_model(wine_red,'alcohol')\n",
        "# print(lra)"
      ],
      "execution_count": 483,
      "outputs": [
        {
          "output_type": "stream",
          "name": "stderr",
          "text": [
            "/usr/local/lib/python3.7/dist-packages/ipykernel_launcher.py:5: FutureWarning: Support for multi-dimensional indexing (e.g. `obj[:, None]`) is deprecated and will be removed in a future version.  Convert to a numpy array before indexing instead.\n",
            "  \"\"\"\n",
            "/usr/local/lib/python3.7/dist-packages/ipykernel_launcher.py:10: FutureWarning: Support for multi-dimensional indexing (e.g. `obj[:, None]`) is deprecated and will be removed in a future version.  Convert to a numpy array before indexing instead.\n",
            "  # Remove the CWD from sys.path while we load stuff.\n"
          ]
        }
      ]
    },
    {
      "cell_type": "markdown",
      "metadata": {
        "id": "lyxoq03ig4Nd"
      },
      "source": [
        "Now you are being asked to write code to create a plot you have already seen. Here are some hints to help you better match what you see.  First, the size of the plot is 12 by 5.  Next, the true y values are in darkred.  The predicted values on in darkgreen.  Finally, you are of course required to create an xlabel, ylabel and plot title. \n",
        "\n",
        "Regarding the printing of floating point values, here are two hints.  I choose to use a ``4.2f`` format on the error scores and also I used the explicit tab escape sequence ``\\t`` to align printed numbers."
      ]
    },
    {
      "cell_type": "code",
      "metadata": {
        "id": "6UKkBZcgg4Nf"
      },
      "source": [
        "# Write Code\n",
        "\n",
        "def plot_regression_result_1(X, y, lr, xlabel) :\n",
        "  predicted = lr.predict(X)\n",
        "  print(\"The root mean squared error is: \\t{:4.2f}\".format(mean_squared_error(y, predicted)))\n",
        "  print(\"the mean absolute error is: \\t\\t{:4.2f}\".format(mean_absolute_error(y,predicted)))\n",
        "\n",
        "  title = 'Regression result: RMSE {:4.2f} MAE {:4.2f}'.format( mean_squared_error(y, predicted), mean_absolute_error(y,predicted))\n",
        "\n",
        "  plt.figure(figsize=(12,5))\n",
        "  plt.scatter(X,y, c ='darkred')\n",
        "  plt.scatter(X,predicted, c = 'darkgreen')\n",
        "  plt.ylabel('Quality')\n",
        "  plt.xlabel(xlabel)\n",
        "  plt.title(title)\n"
      ],
      "execution_count": 484,
      "outputs": []
    },
    {
      "cell_type": "markdown",
      "metadata": {
        "id": "X4z8xoe6g4Ng"
      },
      "source": [
        "Notice in the next code block that the default font size for plotting is changed to 12 point."
      ]
    },
    {
      "cell_type": "code",
      "metadata": {
        "id": "yz9QwEi6g4Nh",
        "colab": {
          "base_uri": "https://localhost:8080/",
          "height": 390
        },
        "outputId": "203a2920-f719-450c-f585-b8aac5fe5dda"
      },
      "source": [
        "# Run Code\n",
        "\n",
        "plt.rcParams.update({'font.size': 12})\n",
        "\n",
        "plot_regression_result_1(Xa, ya, lra, 'Alcohol')"
      ],
      "execution_count": 485,
      "outputs": [
        {
          "output_type": "stream",
          "name": "stdout",
          "text": [
            "The root mean squared error is: \t0.50\n",
            "the mean absolute error is: \t\t0.56\n"
          ]
        },
        {
          "output_type": "display_data",
          "data": {
            "image/png": "[encoded data removed]",
            "text/plain": [
              "<Figure size 864x360 with 1 Axes>"
            ]
          },
          "metadata": {
            "needs_background": "light"
          }
        }
      ]
    },
    {
      "cell_type": "markdown",
      "metadata": {
        "id": "MZjAT3tzg4Nj"
      },
      "source": [
        "As you can see from the above regression plot, while quality ranges from 3 to 8, the values are integers and as such this problem feels a lot like a classification task and less like a regression task.  \n",
        "\n",
        "Going a bit further, that by following the output above you have computed both the root mean squared error and also the mean absolute error.  It is slightly easier to put the interpretation of the mean absolute error into a sentence. In essence, this regression model using only alcohol content can predict the quality rating with - on average - an error of $0.56$. Whether we think this is good or bad gets into a values judgement."
      ]
    },
    {
      "cell_type": "markdown",
      "metadata": {
        "id": "Cf9GQE2Vg4Nk"
      },
      "source": [
        "## Part 3: What About Dumb Guessing\n",
        "\n",
        "Whenever you set out to analyze data you should be asking yourself \"What if I just do something obvious\".  Here let us pursue one version of \"obvious\" - and let us do so first by histograming the quality feature.\n",
        "\n",
        "As you set out to duplicate this plot the following information is important. First, you are using matplotlib's ``hist`` function as the key element to create the histogram. Next, you will want to expclicitly pass in the ``bin`` boundaries to reflect the original dataset documentation which states \"quality (score between 0 and 10)\". Again, the color is darkred. Also, this is a ``density=True`` histogram. Finally, the bar widths are 66 percent of the total possible and they are middle aligned over the corresponding x axes tick mark."
      ]
    },
    {
      "cell_type": "code",
      "metadata": {
        "id": "7QAKHyG9g4Nl"
      },
      "source": [
        "# Write Code\n",
        "\n",
        "def plot_histogram_quality(df) :\n",
        "  plt.figure(figsize=(5,5))\n",
        "  plt.hist(df['quality'],\n",
        "           bins=range(11),\n",
        "           color = 'darkred',\n",
        "           density = True, \n",
        "           align = 'left',\n",
        "           rwidth=.66)\n",
        "  plt.xlabel('Qaulity Score')\n",
        "  plt.ylabel('Percent of all samples')\n",
        " "
      ],
      "execution_count": 486,
      "outputs": []
    },
    {
      "cell_type": "code",
      "metadata": {
        "id": "A6U8U4R5g4Nm",
        "colab": {
          "base_uri": "https://localhost:8080/",
          "height": 349
        },
        "outputId": "629a6668-5f7a-45e0-a04d-1951beeeb589"
      },
      "source": [
        "# Run Code\n",
        "plot_histogram_quality(wine_red)"
      ],
      "execution_count": 487,
      "outputs": [
        {
          "output_type": "display_data",
          "data": {
            "image/png": "[encoded data removed]",
            "text/plain": [
              "<Figure size 360x360 with 1 Axes>"
            ]
          },
          "metadata": {
            "needs_background": "light"
          }
        }
      ]
    },
    {
      "cell_type": "markdown",
      "metadata": {
        "id": "8kGKhwv3g4Nn"
      },
      "source": [
        "Notice that just over 40 percent of all wine samples have a quality rating of 5 and almost as many have the rating 6.  Imagine we just build an algorithm that takes a sample says the predicted quality rating is 5.5 without **ever** looking at the features?"
      ]
    },
    {
      "cell_type": "code",
      "metadata": {
        "id": "9SyGXpRYg4No"
      },
      "source": [
        "## Write Code\n",
        "\n",
        "def error_just_guessing(df, qv) :\n",
        "  guess = np.full((1599,1),qv)\n",
        "  print(\"Guessing a constant quality score:  \\t{:4.2f}\".format(qv))\n",
        "  print(\"The root mean squared error is: \\t{:4.2f}\".format(mean_squared_error(ya, guess)))\n",
        "  print(\"the mean absolute error is: \\t\\t{:4.2f}\".format(mean_absolute_error(ya,guess)))\n",
        "  \n",
        "        "
      ],
      "execution_count": 488,
      "outputs": []
    },
    {
      "cell_type": "code",
      "metadata": {
        "id": "W_p8JpECg4Nq",
        "colab": {
          "base_uri": "https://localhost:8080/"
        },
        "outputId": "ea9beec1-0f6c-40b1-914c-5afcdc7c9f8c"
      },
      "source": [
        "## Run Code\n",
        "\n",
        "error_just_guessing(wine_red, 5.6)"
      ],
      "execution_count": 489,
      "outputs": [
        {
          "output_type": "stream",
          "name": "stdout",
          "text": [
            "Guessing a constant quality score:  \t5.60\n",
            "The root mean squared error is: \t0.65\n",
            "the mean absolute error is: \t\t0.69\n"
          ]
        }
      ]
    },
    {
      "cell_type": "markdown",
      "metadata": {
        "id": "4IxyNNxgg4Nr"
      },
      "source": [
        "Note that so far we have learned that the average absolute error predicting the quality rating using linear regression on the single feature acohol is $0.56$ and this error increases to $0.69$ when just guessing that all wines have a score of $5.6$. \n",
        "\n",
        "The best we can say is we're doing just a small bit better with univariate regression on a single feature than we do using just a guess. "
      ]
    },
    {
      "cell_type": "markdown",
      "metadata": {
        "id": "k68QS29Ig4Ns"
      },
      "source": [
        "## Part 4: Regression to Ratings\n",
        "\n",
        "Another arguably better way to interpret the quality of the predictions is to map them into integer quality ratings which will - or will not - match those in the data set.  "
      ]
    },
    {
      "cell_type": "code",
      "metadata": {
        "id": "07KILwAHg4Nt"
      },
      "source": [
        "## Write Code\n",
        "\n",
        "def y_values_to_ratings (y) :\n",
        "  for i in range(len(y)):\n",
        "     y[i]= round(y[i]) \n",
        "  return y\n"
      ],
      "execution_count": 490,
      "outputs": []
    },
    {
      "cell_type": "code",
      "metadata": {
        "id": "bg23Agrcg4Nu",
        "colab": {
          "base_uri": "https://localhost:8080/"
        },
        "outputId": "f090ae8f-e579-48f4-e6a0-91bd792ef8b0"
      },
      "source": [
        "## Run Code\n",
        "\n",
        "accalr = np.sum(y_values_to_ratings(lra.predict(Xa)) == ya)/ya.shape[0]\n",
        "print(f'Regression classification accurracy on alcohol: \\t{accalr:5.2f}')\n",
        "\n",
        "accagu = np.sum(5 == ya)/ya.shape[0]\n",
        "print(f'Regression classification accurracy guessing 5: \\t{accagu:5.2f}')"
      ],
      "execution_count": 491,
      "outputs": [
        {
          "output_type": "stream",
          "name": "stdout",
          "text": [
            "Regression classification accurracy on alcohol: \t 0.56\n",
            "Regression classification accurracy guessing 5: \t 0.43\n"
          ]
        }
      ]
    },
    {
      "cell_type": "markdown",
      "metadata": {
        "id": "dLMvYn-fg4Nv"
      },
      "source": [
        "Note that it is possible to get $13$ out of $100$ wine qualities correct using the linear regression model on just alcholoh content when compared to simply guessing a quality rating of $5$.\n",
        "\n",
        "However, it might be useful to look more carefully at the mistakes, and for that we want to generate a confusion matrix.  "
      ]
    },
    {
      "cell_type": "markdown",
      "metadata": {
        "id": "6AU4KrTxg4Nw"
      },
      "source": [
        "As you develop the code to generate the confusion matrix here are some very specific hopefully helpful pointers.  \n",
        "\n",
        "First, let us consider just the construction of the matrix."
      ]
    },
    {
      "cell_type": "code",
      "metadata": {
        "id": "MEEVb9pCg4Nw"
      },
      "source": [
        "## Write Code\n",
        "from sklearn.metrics._plot.confusion_matrix import confusion_matrix as cm\n",
        "# from sklearn.metrics import confusion_matrix\n",
        "def make_cm_1(lra, Xa, y) :\n",
        "  y_pred = lra.predict(Xa)\n",
        "  # print(y_pred)\n",
        "  for i in range(len(y_pred)):\n",
        "     y_pred[i]= round(y_pred[i])\n",
        "  # print(y)\n",
        "  return cm(y, y_pred)\n"
      ],
      "execution_count": 492,
      "outputs": []
    },
    {
      "cell_type": "code",
      "metadata": {
        "id": "YuD4mvI0g4Nx",
        "colab": {
          "base_uri": "https://localhost:8080/"
        },
        "outputId": "300620a0-de69-4205-8797-689e44875148"
      },
      "source": [
        "## Run Code\n",
        "mat = make_cm_1(lra, Xa, ya)\n",
        "print(mat)"
      ],
      "execution_count": 493,
      "outputs": [
        {
          "output_type": "stream",
          "name": "stdout",
          "text": [
            "[[  0   0   6   4   0   0]\n",
            " [  0   0  28  24   1   0]\n",
            " [  0   0 475 199   7   0]\n",
            " [  0   0 219 406  13   0]\n",
            " [  0   0  19 168  12   0]\n",
            " [  0   0   2  11   5   0]]\n"
          ]
        }
      ]
    },
    {
      "cell_type": "markdown",
      "metadata": {
        "id": "Mrhg5zxLg4Ny"
      },
      "source": [
        "Second, the next fine point is building labels to use in the nicely displated plot of the confusion matrix. Keep in mind that your code should be general and find the integer range of quality rating scores present in ``y``.  To test your code notice the run code below will be tested using fake quality scores on a different interval."
      ]
    },
    {
      "cell_type": "code",
      "metadata": {
        "id": "fZ1pHx89g4Nz"
      },
      "source": [
        "## Write Code\n",
        "\n",
        "def make_quality_text_labels(y) :\n",
        "  labels = []\n",
        "  for i in y:\n",
        "    if i not in labels:\n",
        "      labels.append(i)\n",
        "  labels.sort()\n",
        "  result = [\"QR \" + str(x) for x in labels]\n",
        "  return result\n",
        "\n"
      ],
      "execution_count": 494,
      "outputs": []
    },
    {
      "cell_type": "code",
      "metadata": {
        "id": "M6n-3x8pg4N0",
        "colab": {
          "base_uri": "https://localhost:8080/"
        },
        "outputId": "053027c3-258e-4035-a3ad-87fb39c752bd"
      },
      "source": [
        "## Run Code\n",
        "\n",
        "print(make_quality_text_labels(ya))\n",
        "print(make_quality_text_labels(np.random.randint(7,14,100)))"
      ],
      "execution_count": 495,
      "outputs": [
        {
          "output_type": "stream",
          "name": "stdout",
          "text": [
            "['QR 3', 'QR 4', 'QR 5', 'QR 6', 'QR 7', 'QR 8']\n",
            "['QR 7', 'QR 8', 'QR 9', 'QR 10', 'QR 11', 'QR 12', 'QR 13']\n"
          ]
        }
      ]
    },
    {
      "cell_type": "markdown",
      "metadata": {
        "id": "-MPEb1WGg4N1"
      },
      "source": [
        "Third, put steps one and two together with the actual code to plot the confusion matrix. \n",
        "\n",
        "Some hints about the plot. The figure size should be 7 by 6.  And [this stackoverflow post](https://stackoverflow.com/questions/66483409/adjust-size-of-confusionmatrixdisplay-scikitlearn) might help with figure size. There is an argument to the plot command that will modify the display of the counts so they are printed as simple integers. Simply pass the empty string to ``values_format``.  The colormap you are looking at is ``plt.cm.YlGn``."
      ]
    },
    {
      "cell_type": "code",
      "metadata": {
        "id": "016BKBp3g4N2"
      },
      "source": [
        "## Write Code\n",
        "\n",
        "def display_confusion_matrix(lra, Xa, y, title) :\n",
        "  # sns.set()\n",
        "  mat = make_cm_1(lra, Xa, y)\n",
        "  plt.figure(figsize=(7,6))\n",
        "  sns.set(font_scale=1.4)\n",
        "  res = sns.heatmap(mat,\n",
        "              cmap = plt.cm.YlGn,\n",
        "              xticklabels = make_quality_text_labels(ya),\n",
        "              yticklabels = make_quality_text_labels(ya),\n",
        "              annot = True,\n",
        "              annot_kws={'size': 10},\n",
        "              fmt = 'g',\n",
        "              )\n",
        "  plt.xlabel('Predicted label')\n",
        "  plt.ylabel('True label')\n",
        "  plt.title(title)\n",
        "  plt.show()\n",
        "\n",
        "\n",
        "\n"
      ],
      "execution_count": 496,
      "outputs": []
    },
    {
      "cell_type": "code",
      "metadata": {
        "id": "UgZhhit1g4N2",
        "colab": {
          "base_uri": "https://localhost:8080/",
          "height": 424
        },
        "outputId": "11e1bc6a-f2b5-4825-9d1d-04985e023755"
      },
      "source": [
        "## Run Code\n",
        "\n",
        "display_confusion_matrix(lra, Xa, ya, 'Confusion using only alcohol feature')"
      ],
      "execution_count": 497,
      "outputs": [
        {
          "output_type": "display_data",
          "data": {
            "image/png": "[encoded data removed]",
            "text/plain": [
              "<Figure size 504x432 with 2 Axes>"
            ]
          },
          "metadata": {
            "needs_background": "light"
          }
        }
      ]
    },
    {
      "cell_type": "markdown",
      "metadata": {
        "id": "w287kZz8g4N4"
      },
      "source": [
        "## Part 5: All Features one at a Time\n",
        "\n",
        "So far we've just worked with the single feature ``alcohol`` - what about the others?\n",
        "\n",
        "Below you will write the code to step through each feature and compute the classifcation accuracy based upon a univariate linear model relating that feature to ``quality``.\n",
        "\n",
        "Some aspects of the code you are to write desere mention. First, your results will be printed in sorted order from least accurate \n",
        "ion to most accurate.  Second, keep in mind your code will step throught each feature and create a new linear model for each. The accuracy is then computed from that model in same basic way it was done above. Do not forget to convert floating point y value predictions to integer ratings - as done above."
      ]
    },
    {
      "cell_type": "code",
      "metadata": {
        "id": "tX19vkrUg4N5"
      },
      "source": [
        "## Write Code\n",
        "\n",
        "def report_univariate_regression_models_accuracy(df) :\n",
        "  vars = ['fixed acidity',\n",
        "             'pH', \n",
        "             'residual sugar',\n",
        "             'density',\n",
        "             'free sulfur dioxide',\n",
        "             'chlorides',\n",
        "             'citric acid',\n",
        "             'total sulfur dioxide',\n",
        "             'volatile acidity',          \n",
        "             'sulphates',\n",
        "             'alcohol']\n",
        "  Xall = df[vars].values\n",
        "  y = df['quality'].values\n",
        "  # print(Xall)\n",
        "  for i in range(len(vars)):\n",
        "    linreg = LinearRegression()\n",
        "    linreg.fit(np.reshape(Xall[:,i], (-1,1)),y)\n",
        "   # np.reshape(Xall[:,0], (-1,1))\n",
        "    accalr = np.sum(y_values_to_ratings(linreg.predict(np.reshape(Xall[:,i], (-1,1)))) == y)/y.shape[0]\n",
        "    print(f'Accuracy {accalr:5.2f} for feature {vars[i]}')\n",
        "\n",
        "\n",
        "\n",
        "  # linreg = LinearRegression()\n",
        "  # linreg.fit(np.reshape(Xall[:,0], (-1,1)),y)\n",
        "  # # np.reshape(Xall[:,0], (-1,1))\n",
        "  # accalr = np.sum(y_values_to_ratings(linreg.predict(np.reshape(Xall[:,0], (-1,1)))) == y)/y.shape[0]\n",
        "  # print(f'Accuracy {accalr:5.2f} for feature fixed acidity')\n"
      ],
      "execution_count": 498,
      "outputs": []
    },
    {
      "cell_type": "code",
      "metadata": {
        "id": "niSwEFz1g4N6",
        "colab": {
          "base_uri": "https://localhost:8080/"
        },
        "outputId": "b6a6c2d1-e43c-42fa-e607-71a814c05fc3"
      },
      "source": [
        "## Run Code\n",
        "report_univariate_regression_models_accuracy(wine_red)"
      ],
      "execution_count": 499,
      "outputs": [
        {
          "output_type": "stream",
          "name": "stdout",
          "text": [
            "Accuracy  0.39 for feature fixed acidity\n",
            "Accuracy  0.40 for feature pH\n",
            "Accuracy  0.40 for feature residual sugar\n",
            "Accuracy  0.40 for feature density\n",
            "Accuracy  0.40 for feature free sulfur dioxide\n",
            "Accuracy  0.40 for feature chlorides\n",
            "Accuracy  0.41 for feature citric acid\n",
            "Accuracy  0.48 for feature total sulfur dioxide\n",
            "Accuracy  0.48 for feature volatile acidity\n",
            "Accuracy  0.49 for feature sulphates\n",
            "Accuracy  0.56 for feature alcohol\n"
          ]
        }
      ]
    },
    {
      "cell_type": "markdown",
      "metadata": {
        "id": "lI9-91l4g4OB"
      },
      "source": [
        "Closing out this part, note that our first hunch based solely upon correlation between quality and features let us to consider ``alcohol`` and as it now turns out that feature is the best of the eleven in terms of prediction based upon a univariate linear model."
      ]
    },
    {
      "cell_type": "markdown",
      "metadata": {
        "id": "2BrfUAbeg4OC"
      },
      "source": [
        "## Part 6: All Features Taken Together\n",
        "\n",
        "How much better might our predictions get if we combine all eleven features into a single model?"
      ]
    },
    {
      "cell_type": "code",
      "metadata": {
        "id": "vGrBHc43g4OC"
      },
      "source": [
        "## Write Code\n",
        "\n",
        "def fit_multivariate_model (df) :\n",
        "  vars = ['fixed acidity',\n",
        "             'pH', \n",
        "             'residual sugar',\n",
        "             'density',\n",
        "             'free sulfur dioxide',\n",
        "             'chlorides',\n",
        "             'citric acid',\n",
        "             'total sulfur dioxide',\n",
        "             'volatile acidity',          \n",
        "             'sulphates',\n",
        "             'alcohol']\n",
        "  Xall = df[vars].values\n",
        "  y = df['quality'].values\n",
        "  linreg = LinearRegression()\n",
        "  linreg.fit(Xall,y)\n",
        "  return Xall, y, linreg\n",
        "\n",
        "   "
      ],
      "execution_count": 500,
      "outputs": []
    },
    {
      "cell_type": "code",
      "metadata": {
        "id": "SSUG-cBng4OD",
        "colab": {
          "base_uri": "https://localhost:8080/"
        },
        "outputId": "06e74975-3bcb-4100-99a9-c7a761aa6fd9"
      },
      "source": [
        "## Run Code\n",
        "\n",
        "X, y, lr = fit_multivariate_model(wine_red)\n",
        "\n",
        "y_pred = np.round(lr.predict(X))\n",
        "acc = np.sum(y_pred == y) / len(y)\n",
        "print(f'The accuracy using all features: \\t{acc:1.2f}')"
      ],
      "execution_count": 501,
      "outputs": [
        {
          "output_type": "stream",
          "name": "stdout",
          "text": [
            "The accuracy using all features: \t0.59\n"
          ]
        }
      ]
    },
    {
      "cell_type": "markdown",
      "metadata": {
        "id": "sxowxBwUg4OE"
      },
      "source": [
        "Let us revisit the confusion matrix, this time for the all eleven feature model. In fact, let us first redisplay the ``aclohol`` only confusion matrix and follow it with the all feature matrix so as to invite comparison."
      ]
    },
    {
      "cell_type": "code",
      "metadata": {
        "id": "2hBRYVrQg4OF",
        "colab": {
          "base_uri": "https://localhost:8080/",
          "height": 831
        },
        "outputId": "0090ec07-2c21-4940-89c1-67d552a9223c"
      },
      "source": [
        "## Run Code\n",
        "\n",
        "display_confusion_matrix(lra, Xa, ya, 'Confusion using only alcohol feature')\n",
        "display_confusion_matrix(lr, X, y, 'Confusion using all eleven features')"
      ],
      "execution_count": 502,
      "outputs": [
        {
          "output_type": "display_data",
          "data": {
            "image/png": "[encoded data removed]",
            "text/plain": [
              "<Figure size 504x432 with 2 Axes>"
            ]
          },
          "metadata": {}
        },
        {
          "output_type": "display_data",
          "data": {
            "image/png": "[encoded data removed]",
            "text/plain": [
              "<Figure size 504x432 with 2 Axes>"
            ]
          },
          "metadata": {}
        }
      ]
    },
    {
      "cell_type": "markdown",
      "metadata": {
        "id": "owJKJ-Cig4OF"
      },
      "source": [
        "## Part 7: What About Generalization\n",
        "\n",
        "Up to now everything done is about describing the entire dataset.  \n",
        "\n",
        "What about generalization?\n",
        "\n",
        "Let us divide the red wine data samples into at training and test set and repeat the eleven feature regression where we respect the protocol that says fit the model on the training data and report performance on the test set."
      ]
    },
    {
      "cell_type": "code",
      "metadata": {
        "id": "xWqedN1kg4OG"
      },
      "source": [
        "## Write Code\n",
        "\n",
        "def split_50_50(df) :\n",
        "  vars = ['fixed acidity',\n",
        "             'pH', \n",
        "             'residual sugar',\n",
        "             'density',\n",
        "             'free sulfur dioxide',\n",
        "             'chlorides',\n",
        "             'citric acid',\n",
        "             'total sulfur dioxide',\n",
        "             'volatile acidity',          \n",
        "             'sulphates',\n",
        "             'alcohol']\n",
        "  Xall = df[vars].values\n",
        "  y = df['quality'].values\n",
        "  X_train, X_test, y_train, y_test = train_test_split(Xall, y, test_size=0.5)\n",
        "  return X_train, X_test, y_train, y_test\n"
      ],
      "execution_count": 503,
      "outputs": []
    },
    {
      "cell_type": "markdown",
      "metadata": {
        "id": "lb9QE1bOg4OH"
      },
      "source": [
        "When you run the next code it will test how well your 50 50 split keeps a balance of quality ratings in the training and test sets."
      ]
    },
    {
      "cell_type": "code",
      "metadata": {
        "id": "_1_3e8Brg4OI",
        "colab": {
          "base_uri": "https://localhost:8080/",
          "height": 458
        },
        "outputId": "69fffa0e-2ea2-4ef5-9443-b1c1793e0123"
      },
      "source": [
        "## Run Code\n",
        "\n",
        "X_train, X_test, y_train, y_test = split_50_50(wine_red)\n",
        "\n",
        "plt.style.use('seaborn-deep')\n",
        "fig, ax = plt.subplots(figsize=(7,6))\n",
        "ax.hist([y_train, y_test], label=['train','test'])\n",
        "ax.legend(loc='upper right')\n",
        "ax.set_xlabel('Quality Ratings')\n",
        "ax.set_ylabel('Sample Count')\n",
        "pass"
      ],
      "execution_count": 504,
      "outputs": [
        {
          "output_type": "stream",
          "name": "stderr",
          "text": [
            "/usr/local/lib/python3.7/dist-packages/numpy/core/_asarray.py:83: VisibleDeprecationWarning: Creating an ndarray from ragged nested sequences (which is a list-or-tuple of lists-or-tuples-or ndarrays with different lengths or shapes) is deprecated. If you meant to do this, you must specify 'dtype=object' when creating the ndarray\n",
            "  return array(a, dtype, copy=False, order=order)\n"
          ]
        },
        {
          "output_type": "display_data",
          "data": {
            "image/png": "[encoded data removed]",
            "text/plain": [
              "<Figure size 504x432 with 1 Axes>"
            ]
          },
          "metadata": {}
        }
      ]
    },
    {
      "cell_type": "code",
      "metadata": {
        "id": "rnuiBTTyg4OI"
      },
      "source": [
        "## Write Code\n",
        "\n",
        "def fit_multivariate_model_50_50 (df) :\n",
        "  X_train, X_test, y_train, y_test = split_50_50(df)\n",
        "  linreg = LinearRegression()\n",
        "  linreg.fit(X_train,y_train)\n",
        "  y_pred = np.round(linreg.predict(X_test))\n",
        "  acc = np.sum(y_pred == y_test) / len(y_pred)\n",
        "  print(f'The first split accuracy is: \\t{acc:1.2f}\\n')\n",
        "\n",
        "  linreg = LinearRegression()\n",
        "  linreg.fit(X_test,y_test)\n",
        "  y_pred = np.round(linreg.predict(X_train))\n",
        "  acc = np.sum(y_pred == y_train) / len(y_pred)\n",
        "  print(f'The second split accuracy is: \\t{acc:1.2f}')\n",
        "  \n"
      ],
      "execution_count": 505,
      "outputs": []
    },
    {
      "cell_type": "code",
      "metadata": {
        "id": "Pvk7LywNg4OJ",
        "colab": {
          "base_uri": "https://localhost:8080/"
        },
        "outputId": "86347964-d3fe-4006-aff3-e91cf5afefdb"
      },
      "source": [
        "## Run Code\n",
        "\n",
        "fit_multivariate_model_50_50(wine_red) "
      ],
      "execution_count": 506,
      "outputs": [
        {
          "output_type": "stream",
          "name": "stdout",
          "text": [
            "The first split accuracy is: \t0.60\n",
            "\n",
            "The second split accuracy is: \t0.58\n"
          ]
        }
      ]
    },
    {
      "cell_type": "markdown",
      "metadata": {
        "id": "LRoBTVxzg4OK"
      },
      "source": [
        "## Part 8: Maybe Nearest Neighbor"
      ]
    },
    {
      "cell_type": "code",
      "metadata": {
        "id": "kmeA9SXKg4OL"
      },
      "source": [
        "## Write Code\n",
        "\n",
        "def fit_nearest_neighbor_50_50 (df, k) :\n",
        "  print(f'knn for a k of {k}')\n",
        "\n",
        "  X_train, X_test, y_train, y_test = split_50_50(df)\n",
        "  knn = KNeighborsClassifier(n_neighbors = k)\n",
        "  knn.fit(X_train,y_train)\n",
        "  y_pred = np.round(knn.predict(X_test))\n",
        "  acc = np.sum(y_pred == y_test) / len(y_pred)\n",
        "  print(f'The first split accuracy is: \\t{acc:1.3f}')\n",
        "\n",
        "  knn = KNeighborsClassifier(n_neighbors = k)\n",
        "  knn.fit(X_train,y_train)\n",
        "  y_pred = np.round(knn.predict(X_test))\n",
        "  acc = np.sum(y_pred == y_test) / len(y_pred)\n",
        "  print(f'The first split accuracy is: \\t{acc:1.3f}\\n')\n"
      ],
      "execution_count": 507,
      "outputs": []
    },
    {
      "cell_type": "code",
      "metadata": {
        "id": "qLXidJq5g4OL",
        "colab": {
          "base_uri": "https://localhost:8080/"
        },
        "outputId": "329669a3-c9ba-4e2d-cb55-f08f0a68731c"
      },
      "source": [
        "## Run Code\n",
        "\n",
        "fit_nearest_neighbor_50_50(wine_red, 1)\n",
        "fit_nearest_neighbor_50_50(wine_red, 3)\n",
        "fit_nearest_neighbor_50_50(wine_red, 5)\n",
        "pass"
      ],
      "execution_count": 508,
      "outputs": [
        {
          "output_type": "stream",
          "name": "stdout",
          "text": [
            "knn for a k of 1\n",
            "The first split accuracy is: \t0.535\n",
            "The first split accuracy is: \t0.535\n",
            "\n",
            "knn for a k of 3\n",
            "The first split accuracy is: \t0.450\n",
            "The first split accuracy is: \t0.450\n",
            "\n",
            "knn for a k of 5\n",
            "The first split accuracy is: \t0.482\n",
            "The first split accuracy is: \t0.482\n",
            "\n"
          ]
        }
      ]
    },
    {
      "cell_type": "markdown",
      "metadata": {
        "id": "0ZH-ntaCg4OM"
      },
      "source": [
        "## Part 9: Is White Wine any Easier\n",
        "\n",
        "There is another whole dataset just like the red wine dataset, but for white wines.\n",
        "\n",
        "Note here you need to create the panda data frame called ``wine_white`` using the model of the code given above for red wine."
      ]
    },
    {
      "cell_type": "code",
      "metadata": {
        "id": "ViClAfF_g4ON",
        "colab": {
          "base_uri": "https://localhost:8080/",
          "height": 261
        },
        "outputId": "88899184-fc61-4fb3-d90f-cd7f9e55e915"
      },
      "source": [
        "# Write Code\n",
        "wine_white  = pd.read_table(r'winequality-white.csv', sep=';')\n",
        "original  = [str for str in wine_white.columns]\n",
        "reordered = [original[11]] + original[0:11]\n",
        "wine_white  = wine_white.reindex(columns=reordered)\n",
        "wine_white.head()\n"
      ],
      "execution_count": 509,
      "outputs": [
        {
          "output_type": "execute_result",
          "data": {
            "text/html": [
              "<div>\n",
              "<style scoped>\n",
              "    .dataframe tbody tr th:only-of-type {\n",
              "        vertical-align: middle;\n",
              "    }\n",
              "\n",
              "    .dataframe tbody tr th {\n",
              "        vertical-align: top;\n",
              "    }\n",
              "\n",
              "    .dataframe thead th {\n",
              "        text-align: right;\n",
              "    }\n",
              "</style>\n",
              "<table border=\"1\" class=\"dataframe\">\n",
              "  <thead>\n",
              "    <tr style=\"text-align: right;\">\n",
              "      <th></th>\n",
              "      <th>quality</th>\n",
              "      <th>fixed acidity</th>\n",
              "      <th>volatile acidity</th>\n",
              "      <th>citric acid</th>\n",
              "      <th>residual sugar</th>\n",
              "      <th>chlorides</th>\n",
              "      <th>free sulfur dioxide</th>\n",
              "      <th>total sulfur dioxide</th>\n",
              "      <th>density</th>\n",
              "      <th>pH</th>\n",
              "      <th>sulphates</th>\n",
              "      <th>alcohol</th>\n",
              "    </tr>\n",
              "  </thead>\n",
              "  <tbody>\n",
              "    <tr>\n",
              "      <th>0</th>\n",
              "      <td>6</td>\n",
              "      <td>7.0</td>\n",
              "      <td>0.27</td>\n",
              "      <td>0.36</td>\n",
              "      <td>20.7</td>\n",
              "      <td>0.045</td>\n",
              "      <td>45.0</td>\n",
              "      <td>170.0</td>\n",
              "      <td>1.0010</td>\n",
              "      <td>3.00</td>\n",
              "      <td>0.45</td>\n",
              "      <td>8.8</td>\n",
              "    </tr>\n",
              "    <tr>\n",
              "      <th>1</th>\n",
              "      <td>6</td>\n",
              "      <td>6.3</td>\n",
              "      <td>0.30</td>\n",
              "      <td>0.34</td>\n",
              "      <td>1.6</td>\n",
              "      <td>0.049</td>\n",
              "      <td>14.0</td>\n",
              "      <td>132.0</td>\n",
              "      <td>0.9940</td>\n",
              "      <td>3.30</td>\n",
              "      <td>0.49</td>\n",
              "      <td>9.5</td>\n",
              "    </tr>\n",
              "    <tr>\n",
              "      <th>2</th>\n",
              "      <td>6</td>\n",
              "      <td>8.1</td>\n",
              "      <td>0.28</td>\n",
              "      <td>0.40</td>\n",
              "      <td>6.9</td>\n",
              "      <td>0.050</td>\n",
              "      <td>30.0</td>\n",
              "      <td>97.0</td>\n",
              "      <td>0.9951</td>\n",
              "      <td>3.26</td>\n",
              "      <td>0.44</td>\n",
              "      <td>10.1</td>\n",
              "    </tr>\n",
              "    <tr>\n",
              "      <th>3</th>\n",
              "      <td>6</td>\n",
              "      <td>7.2</td>\n",
              "      <td>0.23</td>\n",
              "      <td>0.32</td>\n",
              "      <td>8.5</td>\n",
              "      <td>0.058</td>\n",
              "      <td>47.0</td>\n",
              "      <td>186.0</td>\n",
              "      <td>0.9956</td>\n",
              "      <td>3.19</td>\n",
              "      <td>0.40</td>\n",
              "      <td>9.9</td>\n",
              "    </tr>\n",
              "    <tr>\n",
              "      <th>4</th>\n",
              "      <td>6</td>\n",
              "      <td>7.2</td>\n",
              "      <td>0.23</td>\n",
              "      <td>0.32</td>\n",
              "      <td>8.5</td>\n",
              "      <td>0.058</td>\n",
              "      <td>47.0</td>\n",
              "      <td>186.0</td>\n",
              "      <td>0.9956</td>\n",
              "      <td>3.19</td>\n",
              "      <td>0.40</td>\n",
              "      <td>9.9</td>\n",
              "    </tr>\n",
              "  </tbody>\n",
              "</table>\n",
              "</div>"
            ],
            "text/plain": [
              "   quality  fixed acidity  volatile acidity  ...    pH  sulphates  alcohol\n",
              "0        6            7.0              0.27  ...  3.00       0.45      8.8\n",
              "1        6            6.3              0.30  ...  3.30       0.49      9.5\n",
              "2        6            8.1              0.28  ...  3.26       0.44     10.1\n",
              "3        6            7.2              0.23  ...  3.19       0.40      9.9\n",
              "4        6            7.2              0.23  ...  3.19       0.40      9.9\n",
              "\n",
              "[5 rows x 12 columns]"
            ]
          },
          "metadata": {},
          "execution_count": 509
        }
      ]
    },
    {
      "cell_type": "code",
      "metadata": {
        "id": "YeCaChHHg4OO",
        "colab": {
          "base_uri": "https://localhost:8080/",
          "height": 619
        },
        "outputId": "5aca0b48-db5f-4e79-b4ae-582bb6b6a76a"
      },
      "source": [
        "# Run Code\n",
        "\n",
        "wine_white.corr()"
      ],
      "execution_count": 510,
      "outputs": [
        {
          "output_type": "execute_result",
          "data": {
            "text/html": [
              "<div>\n",
              "<style scoped>\n",
              "    .dataframe tbody tr th:only-of-type {\n",
              "        vertical-align: middle;\n",
              "    }\n",
              "\n",
              "    .dataframe tbody tr th {\n",
              "        vertical-align: top;\n",
              "    }\n",
              "\n",
              "    .dataframe thead th {\n",
              "        text-align: right;\n",
              "    }\n",
              "</style>\n",
              "<table border=\"1\" class=\"dataframe\">\n",
              "  <thead>\n",
              "    <tr style=\"text-align: right;\">\n",
              "      <th></th>\n",
              "      <th>quality</th>\n",
              "      <th>fixed acidity</th>\n",
              "      <th>volatile acidity</th>\n",
              "      <th>citric acid</th>\n",
              "      <th>residual sugar</th>\n",
              "      <th>chlorides</th>\n",
              "      <th>free sulfur dioxide</th>\n",
              "      <th>total sulfur dioxide</th>\n",
              "      <th>density</th>\n",
              "      <th>pH</th>\n",
              "      <th>sulphates</th>\n",
              "      <th>alcohol</th>\n",
              "    </tr>\n",
              "  </thead>\n",
              "  <tbody>\n",
              "    <tr>\n",
              "      <th>quality</th>\n",
              "      <td>1.000000</td>\n",
              "      <td>-0.113663</td>\n",
              "      <td>-0.194723</td>\n",
              "      <td>-0.009209</td>\n",
              "      <td>-0.097577</td>\n",
              "      <td>-0.209934</td>\n",
              "      <td>0.008158</td>\n",
              "      <td>-0.174737</td>\n",
              "      <td>-0.307123</td>\n",
              "      <td>0.099427</td>\n",
              "      <td>0.053678</td>\n",
              "      <td>0.435575</td>\n",
              "    </tr>\n",
              "    <tr>\n",
              "      <th>fixed acidity</th>\n",
              "      <td>-0.113663</td>\n",
              "      <td>1.000000</td>\n",
              "      <td>-0.022697</td>\n",
              "      <td>0.289181</td>\n",
              "      <td>0.089021</td>\n",
              "      <td>0.023086</td>\n",
              "      <td>-0.049396</td>\n",
              "      <td>0.091070</td>\n",
              "      <td>0.265331</td>\n",
              "      <td>-0.425858</td>\n",
              "      <td>-0.017143</td>\n",
              "      <td>-0.120881</td>\n",
              "    </tr>\n",
              "    <tr>\n",
              "      <th>volatile acidity</th>\n",
              "      <td>-0.194723</td>\n",
              "      <td>-0.022697</td>\n",
              "      <td>1.000000</td>\n",
              "      <td>-0.149472</td>\n",
              "      <td>0.064286</td>\n",
              "      <td>0.070512</td>\n",
              "      <td>-0.097012</td>\n",
              "      <td>0.089261</td>\n",
              "      <td>0.027114</td>\n",
              "      <td>-0.031915</td>\n",
              "      <td>-0.035728</td>\n",
              "      <td>0.067718</td>\n",
              "    </tr>\n",
              "    <tr>\n",
              "      <th>citric acid</th>\n",
              "      <td>-0.009209</td>\n",
              "      <td>0.289181</td>\n",
              "      <td>-0.149472</td>\n",
              "      <td>1.000000</td>\n",
              "      <td>0.094212</td>\n",
              "      <td>0.114364</td>\n",
              "      <td>0.094077</td>\n",
              "      <td>0.121131</td>\n",
              "      <td>0.149503</td>\n",
              "      <td>-0.163748</td>\n",
              "      <td>0.062331</td>\n",
              "      <td>-0.075729</td>\n",
              "    </tr>\n",
              "    <tr>\n",
              "      <th>residual sugar</th>\n",
              "      <td>-0.097577</td>\n",
              "      <td>0.089021</td>\n",
              "      <td>0.064286</td>\n",
              "      <td>0.094212</td>\n",
              "      <td>1.000000</td>\n",
              "      <td>0.088685</td>\n",
              "      <td>0.299098</td>\n",
              "      <td>0.401439</td>\n",
              "      <td>0.838966</td>\n",
              "      <td>-0.194133</td>\n",
              "      <td>-0.026664</td>\n",
              "      <td>-0.450631</td>\n",
              "    </tr>\n",
              "    <tr>\n",
              "      <th>chlorides</th>\n",
              "      <td>-0.209934</td>\n",
              "      <td>0.023086</td>\n",
              "      <td>0.070512</td>\n",
              "      <td>0.114364</td>\n",
              "      <td>0.088685</td>\n",
              "      <td>1.000000</td>\n",
              "      <td>0.101392</td>\n",
              "      <td>0.198910</td>\n",
              "      <td>0.257211</td>\n",
              "      <td>-0.090439</td>\n",
              "      <td>0.016763</td>\n",
              "      <td>-0.360189</td>\n",
              "    </tr>\n",
              "    <tr>\n",
              "      <th>free sulfur dioxide</th>\n",
              "      <td>0.008158</td>\n",
              "      <td>-0.049396</td>\n",
              "      <td>-0.097012</td>\n",
              "      <td>0.094077</td>\n",
              "      <td>0.299098</td>\n",
              "      <td>0.101392</td>\n",
              "      <td>1.000000</td>\n",
              "      <td>0.615501</td>\n",
              "      <td>0.294210</td>\n",
              "      <td>-0.000618</td>\n",
              "      <td>0.059217</td>\n",
              "      <td>-0.250104</td>\n",
              "    </tr>\n",
              "    <tr>\n",
              "      <th>total sulfur dioxide</th>\n",
              "      <td>-0.174737</td>\n",
              "      <td>0.091070</td>\n",
              "      <td>0.089261</td>\n",
              "      <td>0.121131</td>\n",
              "      <td>0.401439</td>\n",
              "      <td>0.198910</td>\n",
              "      <td>0.615501</td>\n",
              "      <td>1.000000</td>\n",
              "      <td>0.529881</td>\n",
              "      <td>0.002321</td>\n",
              "      <td>0.134562</td>\n",
              "      <td>-0.448892</td>\n",
              "    </tr>\n",
              "    <tr>\n",
              "      <th>density</th>\n",
              "      <td>-0.307123</td>\n",
              "      <td>0.265331</td>\n",
              "      <td>0.027114</td>\n",
              "      <td>0.149503</td>\n",
              "      <td>0.838966</td>\n",
              "      <td>0.257211</td>\n",
              "      <td>0.294210</td>\n",
              "      <td>0.529881</td>\n",
              "      <td>1.000000</td>\n",
              "      <td>-0.093591</td>\n",
              "      <td>0.074493</td>\n",
              "      <td>-0.780138</td>\n",
              "    </tr>\n",
              "    <tr>\n",
              "      <th>pH</th>\n",
              "      <td>0.099427</td>\n",
              "      <td>-0.425858</td>\n",
              "      <td>-0.031915</td>\n",
              "      <td>-0.163748</td>\n",
              "      <td>-0.194133</td>\n",
              "      <td>-0.090439</td>\n",
              "      <td>-0.000618</td>\n",
              "      <td>0.002321</td>\n",
              "      <td>-0.093591</td>\n",
              "      <td>1.000000</td>\n",
              "      <td>0.155951</td>\n",
              "      <td>0.121432</td>\n",
              "    </tr>\n",
              "    <tr>\n",
              "      <th>sulphates</th>\n",
              "      <td>0.053678</td>\n",
              "      <td>-0.017143</td>\n",
              "      <td>-0.035728</td>\n",
              "      <td>0.062331</td>\n",
              "      <td>-0.026664</td>\n",
              "      <td>0.016763</td>\n",
              "      <td>0.059217</td>\n",
              "      <td>0.134562</td>\n",
              "      <td>0.074493</td>\n",
              "      <td>0.155951</td>\n",
              "      <td>1.000000</td>\n",
              "      <td>-0.017433</td>\n",
              "    </tr>\n",
              "    <tr>\n",
              "      <th>alcohol</th>\n",
              "      <td>0.435575</td>\n",
              "      <td>-0.120881</td>\n",
              "      <td>0.067718</td>\n",
              "      <td>-0.075729</td>\n",
              "      <td>-0.450631</td>\n",
              "      <td>-0.360189</td>\n",
              "      <td>-0.250104</td>\n",
              "      <td>-0.448892</td>\n",
              "      <td>-0.780138</td>\n",
              "      <td>0.121432</td>\n",
              "      <td>-0.017433</td>\n",
              "      <td>1.000000</td>\n",
              "    </tr>\n",
              "  </tbody>\n",
              "</table>\n",
              "</div>"
            ],
            "text/plain": [
              "                       quality  fixed acidity  ...  sulphates   alcohol\n",
              "quality               1.000000      -0.113663  ...   0.053678  0.435575\n",
              "fixed acidity        -0.113663       1.000000  ...  -0.017143 -0.120881\n",
              "volatile acidity     -0.194723      -0.022697  ...  -0.035728  0.067718\n",
              "citric acid          -0.009209       0.289181  ...   0.062331 -0.075729\n",
              "residual sugar       -0.097577       0.089021  ...  -0.026664 -0.450631\n",
              "chlorides            -0.209934       0.023086  ...   0.016763 -0.360189\n",
              "free sulfur dioxide   0.008158      -0.049396  ...   0.059217 -0.250104\n",
              "total sulfur dioxide -0.174737       0.091070  ...   0.134562 -0.448892\n",
              "density              -0.307123       0.265331  ...   0.074493 -0.780138\n",
              "pH                    0.099427      -0.425858  ...   0.155951  0.121432\n",
              "sulphates             0.053678      -0.017143  ...   1.000000 -0.017433\n",
              "alcohol               0.435575      -0.120881  ...  -0.017433  1.000000\n",
              "\n",
              "[12 rows x 12 columns]"
            ]
          },
          "metadata": {},
          "execution_count": 510
        }
      ]
    },
    {
      "cell_type": "markdown",
      "metadata": {
        "id": "-NjrtZzrg4OO"
      },
      "source": [
        "Repeat the 50 50 split linear model analysis on the white wine quality data."
      ]
    },
    {
      "cell_type": "code",
      "metadata": {
        "id": "5YndTQomg4OP",
        "colab": {
          "base_uri": "https://localhost:8080/"
        },
        "outputId": "f08dc637-de26-4f4f-b4c7-76f7e6e7166a"
      },
      "source": [
        "## Write Code\n",
        "fit_multivariate_model_50_50(wine_white) "
      ],
      "execution_count": 511,
      "outputs": [
        {
          "output_type": "stream",
          "name": "stdout",
          "text": [
            "The first split accuracy is: \t0.52\n",
            "\n",
            "The second split accuracy is: \t0.51\n"
          ]
        }
      ]
    },
    {
      "cell_type": "markdown",
      "metadata": {
        "id": "UoJMiFivg4OQ"
      },
      "source": [
        "Repeat the 50 50 split k nearest neighbor analysis on the white wine quality data."
      ]
    },
    {
      "cell_type": "code",
      "metadata": {
        "id": "qa7CDfc3g4OR",
        "colab": {
          "base_uri": "https://localhost:8080/"
        },
        "outputId": "b40933c7-ae73-4249-cc29-417bca8c8d67"
      },
      "source": [
        "## Write Code\n",
        "fit_nearest_neighbor_50_50(wine_white, 1)\n",
        "fit_nearest_neighbor_50_50(wine_white, 3)\n",
        "fit_nearest_neighbor_50_50(wine_white, 5)"
      ],
      "execution_count": 512,
      "outputs": [
        {
          "output_type": "stream",
          "name": "stdout",
          "text": [
            "knn for a k of 1\n",
            "The first split accuracy is: \t0.513\n",
            "The first split accuracy is: \t0.513\n",
            "\n",
            "knn for a k of 3\n",
            "The first split accuracy is: \t0.440\n",
            "The first split accuracy is: \t0.440\n",
            "\n",
            "knn for a k of 5\n",
            "The first split accuracy is: \t0.454\n",
            "The first split accuracy is: \t0.454\n",
            "\n"
          ]
        }
      ]
    },
    {
      "cell_type": "markdown",
      "metadata": {
        "id": "r18rZG17g4OR"
      },
      "source": [
        "## Part 10: Wrapup\n",
        "\n",
        "Use the following markdown box to write a few sentences summarizing what you think you have learned - that is of importance - from using both regression and knn on the wine quality dataset. "
      ]
    },
    {
      "cell_type": "markdown",
      "metadata": {
        "id": "60AO3O9tg4OS"
      },
      "source": [
        "I think that there are three major things that I learned with this assignment.  \n",
        "1. The type of model that is being used can have a pretty strong impact on the accuracy of generalization. In this particular case for my specific split the multivariate model was the most capable of generalizing. However it seems that this may be dependent on the data split as the answer that the assignment shows for white whine has equivilent accuracy for each split with white wine.\n",
        "2. Looking at all variables in the data and using them in learning is important compared to just using the highest correlation value. \n",
        "We see that when we go from using just the alcohol content data which has the correlation to using all the variables we are able to increase the accuracy of the model by about 10%, showing that other data points can provide information that is important for the model to learn\n",
        "3. it seems that splitting the dataset 50/50 does not affect the accuracy of the second split testing. This threw me for a bit of a loop since i figured that loosing the majority of test data would result in the second split having a bad accuracy, however this is not the case. In the first split we see an increase of accuracy, however, because of training on such a large dataset with a small test set this may due to overfitting rather than improving the accuracy of the model. However, regardless of the split we see that the accuracy is not as affected by the way we decide to split the data randomly into two partitions "
      ]
    }
  ]
}